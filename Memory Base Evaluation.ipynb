{
 "cells": [
  {
   "cell_type": "code",
   "execution_count": 19,
   "metadata": {
    "collapsed": true
   },
   "outputs": [],
   "source": [
    "import pandas as pd\n",
    "import numpy as np"
   ]
  },
  {
   "cell_type": "code",
   "execution_count": 20,
   "metadata": {},
   "outputs": [
    {
     "data": {
      "text/html": [
       "<div>\n",
       "<style>\n",
       "    .dataframe thead tr:only-child th {\n",
       "        text-align: right;\n",
       "    }\n",
       "\n",
       "    .dataframe thead th {\n",
       "        text-align: left;\n",
       "    }\n",
       "\n",
       "    .dataframe tbody tr th {\n",
       "        vertical-align: top;\n",
       "    }\n",
       "</style>\n",
       "<table border=\"1\" class=\"dataframe\">\n",
       "  <thead>\n",
       "    <tr style=\"text-align: right;\">\n",
       "      <th></th>\n",
       "      <th>9</th>\n",
       "      <th>17</th>\n",
       "      <th>18</th>\n",
       "      <th>23</th>\n",
       "      <th>46</th>\n",
       "      <th>86</th>\n",
       "      <th>99</th>\n",
       "      <th>104</th>\n",
       "      <th>128</th>\n",
       "      <th>158</th>\n",
       "      <th>...</th>\n",
       "      <th>135244</th>\n",
       "      <th>135273</th>\n",
       "      <th>135280</th>\n",
       "      <th>135281</th>\n",
       "      <th>135286</th>\n",
       "      <th>135313</th>\n",
       "      <th>135335</th>\n",
       "      <th>135339</th>\n",
       "      <th>135341</th>\n",
       "      <th>135353</th>\n",
       "    </tr>\n",
       "  </thead>\n",
       "  <tbody>\n",
       "    <tr>\n",
       "      <th>466</th>\n",
       "      <td>3</td>\n",
       "      <td>0</td>\n",
       "      <td>0</td>\n",
       "      <td>0</td>\n",
       "      <td>0</td>\n",
       "      <td>0</td>\n",
       "      <td>7</td>\n",
       "      <td>0</td>\n",
       "      <td>0</td>\n",
       "      <td>0</td>\n",
       "      <td>...</td>\n",
       "      <td>0</td>\n",
       "      <td>0</td>\n",
       "      <td>0</td>\n",
       "      <td>0</td>\n",
       "      <td>0</td>\n",
       "      <td>0</td>\n",
       "      <td>0</td>\n",
       "      <td>0</td>\n",
       "      <td>0</td>\n",
       "      <td>0</td>\n",
       "    </tr>\n",
       "    <tr>\n",
       "      <th>1721</th>\n",
       "      <td>10</td>\n",
       "      <td>8</td>\n",
       "      <td>0</td>\n",
       "      <td>5</td>\n",
       "      <td>0</td>\n",
       "      <td>0</td>\n",
       "      <td>8</td>\n",
       "      <td>0</td>\n",
       "      <td>0</td>\n",
       "      <td>0</td>\n",
       "      <td>...</td>\n",
       "      <td>0</td>\n",
       "      <td>6</td>\n",
       "      <td>0</td>\n",
       "      <td>6</td>\n",
       "      <td>6</td>\n",
       "      <td>0</td>\n",
       "      <td>7</td>\n",
       "      <td>0</td>\n",
       "      <td>5</td>\n",
       "      <td>5</td>\n",
       "    </tr>\n",
       "    <tr>\n",
       "      <th>2393</th>\n",
       "      <td>8</td>\n",
       "      <td>0</td>\n",
       "      <td>0</td>\n",
       "      <td>0</td>\n",
       "      <td>0</td>\n",
       "      <td>0</td>\n",
       "      <td>8</td>\n",
       "      <td>0</td>\n",
       "      <td>0</td>\n",
       "      <td>0</td>\n",
       "      <td>...</td>\n",
       "      <td>0</td>\n",
       "      <td>3</td>\n",
       "      <td>0</td>\n",
       "      <td>4</td>\n",
       "      <td>0</td>\n",
       "      <td>0</td>\n",
       "      <td>0</td>\n",
       "      <td>0</td>\n",
       "      <td>0</td>\n",
       "      <td>2</td>\n",
       "    </tr>\n",
       "    <tr>\n",
       "      <th>2852</th>\n",
       "      <td>9</td>\n",
       "      <td>0</td>\n",
       "      <td>0</td>\n",
       "      <td>0</td>\n",
       "      <td>0</td>\n",
       "      <td>0</td>\n",
       "      <td>0</td>\n",
       "      <td>0</td>\n",
       "      <td>0</td>\n",
       "      <td>0</td>\n",
       "      <td>...</td>\n",
       "      <td>0</td>\n",
       "      <td>4</td>\n",
       "      <td>0</td>\n",
       "      <td>5</td>\n",
       "      <td>0</td>\n",
       "      <td>0</td>\n",
       "      <td>0</td>\n",
       "      <td>0</td>\n",
       "      <td>0</td>\n",
       "      <td>2</td>\n",
       "    </tr>\n",
       "    <tr>\n",
       "      <th>3248</th>\n",
       "      <td>5</td>\n",
       "      <td>10</td>\n",
       "      <td>0</td>\n",
       "      <td>0</td>\n",
       "      <td>0</td>\n",
       "      <td>0</td>\n",
       "      <td>0</td>\n",
       "      <td>0</td>\n",
       "      <td>0</td>\n",
       "      <td>6</td>\n",
       "      <td>...</td>\n",
       "      <td>0</td>\n",
       "      <td>2</td>\n",
       "      <td>0</td>\n",
       "      <td>0</td>\n",
       "      <td>0</td>\n",
       "      <td>1</td>\n",
       "      <td>0</td>\n",
       "      <td>0</td>\n",
       "      <td>0</td>\n",
       "      <td>2</td>\n",
       "    </tr>\n",
       "  </tbody>\n",
       "</table>\n",
       "<p>5 rows × 10000 columns</p>\n",
       "</div>"
      ],
      "text/plain": [
       "       9  17  18  23  46  86  99  104  128  158   ...    135244  135273  \\\n",
       "466    3   0   0   0   0   0   7    0    0    0   ...         0       0   \n",
       "1721  10   8   0   5   0   0   8    0    0    0   ...         0       6   \n",
       "2393   8   0   0   0   0   0   8    0    0    0   ...         0       3   \n",
       "2852   9   0   0   0   0   0   0    0    0    0   ...         0       4   \n",
       "3248   5  10   0   0   0   0   0    0    0    6   ...         0       2   \n",
       "\n",
       "      135280  135281  135286  135313  135335  135339  135341  135353  \n",
       "466        0       0       0       0       0       0       0       0  \n",
       "1721       0       6       6       0       7       0       5       5  \n",
       "2393       0       4       0       0       0       0       0       2  \n",
       "2852       0       5       0       0       0       0       0       2  \n",
       "3248       0       0       0       1       0       0       0       2  \n",
       "\n",
       "[5 rows x 10000 columns]"
      ]
     },
     "execution_count": 20,
     "metadata": {},
     "output_type": "execute_result"
    }
   ],
   "source": [
    "df = pd.read_csv(\"data.csv\", index_col='Unnamed: 0')\n",
    "df.head()"
   ]
  },
  {
   "cell_type": "code",
   "execution_count": 21,
   "metadata": {
    "collapsed": true
   },
   "outputs": [],
   "source": [
    "def get_mae(pred, actual):\n",
    "    pred = pred.as_matrix()\n",
    "    actual = actual.as_matrix()\n",
    "    # Ignore zero terms.\n",
    "    pred = pred.flatten()[actual.flatten().nonzero()] \n",
    "    actual = actual.flatten()[actual.flatten().nonzero()]\n",
    "    mae = sum(abs(pred - actual)) / len(pred)\n",
    "    return round(mae, 4)"
   ]
  },
  {
   "cell_type": "code",
   "execution_count": 27,
   "metadata": {
    "collapsed": true
   },
   "outputs": [],
   "source": [
    "def get_rmse(pred, actual):\n",
    "    pred = pred.as_matrix()\n",
    "    actual = actual.as_matrix()\n",
    "    # Ignore zero terms.\n",
    "    pred = pred.flatten()[actual.flatten().nonzero()] \n",
    "    actual = actual.flatten()[actual.flatten().nonzero()]\n",
    "    rmse = (sum((pred - actual)**2) / len(pred))**0.5\n",
    "    return round(rmse, 4)"
   ]
  },
  {
   "cell_type": "markdown",
   "metadata": {},
   "source": [
    "# Baseline"
   ]
  },
  {
   "cell_type": "code",
   "execution_count": 28,
   "metadata": {
    "collapsed": true
   },
   "outputs": [],
   "source": [
    "def baseline_mae(df):    \n",
    "    # build baseline prediction\n",
    "    # female ~ row\n",
    "    row_sum = df.sum(axis=1)\n",
    "    row_non0 = (df != 0).astype(int).sum(axis=1)#(df!=0) return bool, astype change to int 1 / 0\n",
    "    user_bias = np.around(row_sum / row_non0, decimals=4)# mean\n",
    "    prediction_baseline = np.ones(df.shape[1]) * user_bias.values[:, np.newaxis]#df.shape[1] colume\n",
    "    pred = pd.DataFrame(prediction_baseline, index=df.index, columns=df.columns)\n",
    "    \n",
    "    # MAE\n",
    "    mae = get_mae(pred, df)\n",
    "    rmse = get_rmse(pred, df)\n",
    "    return 'MAE: ' + str(mae) + ' RMSE: ' + str(rmse)\n",
    "#possible to change to another baseline?\n"
   ]
  },
  {
   "cell_type": "code",
   "execution_count": 29,
   "metadata": {},
   "outputs": [
    {
     "data": {
      "text/plain": [
       "'MAE: 1.1899 RMSE: 1.8014'"
      ]
     },
     "execution_count": 29,
     "metadata": {},
     "output_type": "execute_result"
    }
   ],
   "source": [
    "baseline_mae(df)"
   ]
  },
  {
   "cell_type": "code",
   "execution_count": null,
   "metadata": {
    "collapsed": true
   },
   "outputs": [],
   "source": []
  },
  {
   "cell_type": "code",
   "execution_count": 12,
   "metadata": {
    "collapsed": true
   },
   "outputs": [],
   "source": [
    "def baseline_rmse(df):    \n",
    "    # build baseline prediction\n",
    "    # female ~ row\n",
    "    row_sum = df.sum(axis=1)\n",
    "    row_non0 = (df != 0).astype(int).sum(axis=1)#(df!=0) return bool, astype change to int 1 / 0\n",
    "    user_bias = np.around(row_sum / row_non0, decimals=4)# mean\n",
    "    prediction_baseline = np.ones(df.shape[1]) * user_bias.values[:, np.newaxis]#df.shape[1] colume\n",
    "    pred = pd.DataFrame(prediction_baseline, index=df.index, columns=df.columns)\n",
    "    \n",
    "    # MAE\n",
    "    return get_rmse(pred, df)\n",
    "#possible to change to another baseline?"
   ]
  },
  {
   "cell_type": "markdown",
   "metadata": {},
   "source": [
    "# Split and Cross Vaildation"
   ]
  },
  {
   "cell_type": "code",
   "execution_count": 13,
   "metadata": {
    "collapsed": true
   },
   "outputs": [],
   "source": [
    "def split_dataset(df, per):\n",
    "    import random as rd\n",
    "    train = df.copy()\n",
    "    for row in df.index:\n",
    "        col_index = (df.columns.values).tolist() # 1000 male\n",
    "        rd.shuffle(col_index)\n",
    "        hidden_index = col_index[0: int(len(col_index)*per)]\n",
    "        for col in hidden_index:\n",
    "            train.loc[row, str(col)] = 0\n",
    "    test = df - train\n",
    "    return train, test "
   ]
  },
  {
   "cell_type": "code",
   "execution_count": 7,
   "metadata": {
    "collapsed": true
   },
   "outputs": [],
   "source": [
    "train, test = split_dataset(df, 0.2)"
   ]
  },
  {
   "cell_type": "code",
   "execution_count": 14,
   "metadata": {
    "collapsed": true
   },
   "outputs": [],
   "source": [
    "import time\n",
    "# rmse not added\n",
    "def cross_vaildation(df, algo, param):\n",
    "    tStart = time.time()\n",
    "    train, test = split_dataset(df, 0.2) # 80% train, 20% test\n",
    "    pred = algo(train, param) # run model\n",
    "    \n",
    "    mae = get_mae(pred, test)\n",
    "    #rmse = get_rmse(pred, test)\n",
    "    print(time.time()-tStart)\n",
    "    return pred, test, mae"
   ]
  },
  {
   "cell_type": "markdown",
   "metadata": {},
   "source": [
    "# Memory Base"
   ]
  },
  {
   "cell_type": "code",
   "execution_count": 15,
   "metadata": {
    "collapsed": true
   },
   "outputs": [],
   "source": [
    "from scipy.stats import pearsonr\n",
    "def dot(K, L):\n",
    "    return 0 if len(K) != len(L) else sum(i[0] * i[1] for i in zip(K, L))\n",
    "\n",
    "def memory_based_CF(df, n):\n",
    "    similarity = pd.DataFrame(index=df.index,columns=df.index)\n",
    "    for i in similarity.columns :\n",
    "        for j in similarity.columns :\n",
    "            similarity.loc[i,j] = pearsonr(df.loc[i,:],df.loc[j,:])[0]\n",
    "    df_neighbours = pd.DataFrame(index=similarity.columns,columns=range(1,n+1))\n",
    "    for i in similarity.columns:\n",
    "        df_neighbours.loc[i,:n] = similarity.loc[0:,i].sort_values(ascending=False)[1:n+1].index\n",
    "    predicted_rating = []\n",
    "    for k in range(len(df_neighbours.index)):\n",
    "        #print (k)\n",
    "        name = df_neighbours.index[k]\n",
    "        neighbor = df_neighbours.loc[name].values.tolist()\n",
    "        neighbor = df.loc[neighbor]\n",
    "        nm = df.loc[name].to_frame()\n",
    "        mean = nm.loc[nm[name] != 0].mean().values[0]\n",
    "        score = []\n",
    "        for i in neighbor.columns:\n",
    "            rate_difference = []\n",
    "            similarity_score = []\n",
    "            rated = neighbor[i].loc[neighbor[i] != 0]\n",
    "            if len(rated.index)==0:\n",
    "                score.append(mean)\n",
    "            else:\n",
    "                rated_mean = rated.mean()\n",
    "                if df.loc[name,i] == 0:\n",
    "                    for j in rated.index:\n",
    "                            rate_difference.append(rated.loc[j]-rated_mean)\n",
    "                            similarity_score.append(similarity.loc[neighbor.index].loc[j,name])\n",
    "                    score.append(mean + dot(rate_difference,similarity_score)/sum([abs(x) for x in similarity_score]))\n",
    "                else:\n",
    "                    score.append(df.loc[name,i])\n",
    "        predicted_rating.append(score)\n",
    "    return pd.DataFrame(data=predicted_rating, index=df.index, columns=df.columns)"
   ]
  },
  {
   "cell_type": "code",
   "execution_count": 10,
   "metadata": {},
   "outputs": [
    {
     "name": "stdout",
     "output_type": "stream",
     "text": [
      "931.799628019\n"
     ]
    },
    {
     "data": {
      "text/plain": [
       "1.2081"
      ]
     },
     "execution_count": 10,
     "metadata": {},
     "output_type": "execute_result"
    }
   ],
   "source": [
    "mem_pred, mem_test, mem_mae = cross_vaildation(df, memory_based_CF, 10)\n",
    "mem_mae"
   ]
  },
  {
   "cell_type": "code",
   "execution_count": 11,
   "metadata": {},
   "outputs": [
    {
     "data": {
      "text/html": [
       "<div>\n",
       "<style>\n",
       "    .dataframe thead tr:only-child th {\n",
       "        text-align: right;\n",
       "    }\n",
       "\n",
       "    .dataframe thead th {\n",
       "        text-align: left;\n",
       "    }\n",
       "\n",
       "    .dataframe tbody tr th {\n",
       "        vertical-align: top;\n",
       "    }\n",
       "</style>\n",
       "<table border=\"1\" class=\"dataframe\">\n",
       "  <thead>\n",
       "    <tr style=\"text-align: right;\">\n",
       "      <th></th>\n",
       "      <th>9</th>\n",
       "      <th>17</th>\n",
       "      <th>18</th>\n",
       "      <th>23</th>\n",
       "      <th>46</th>\n",
       "      <th>86</th>\n",
       "      <th>99</th>\n",
       "      <th>104</th>\n",
       "      <th>128</th>\n",
       "      <th>158</th>\n",
       "      <th>...</th>\n",
       "      <th>135244</th>\n",
       "      <th>135273</th>\n",
       "      <th>135280</th>\n",
       "      <th>135281</th>\n",
       "      <th>135286</th>\n",
       "      <th>135313</th>\n",
       "      <th>135335</th>\n",
       "      <th>135339</th>\n",
       "      <th>135341</th>\n",
       "      <th>135353</th>\n",
       "    </tr>\n",
       "  </thead>\n",
       "  <tbody>\n",
       "    <tr>\n",
       "      <th>466</th>\n",
       "      <td>3.00000</td>\n",
       "      <td>5.864636</td>\n",
       "      <td>5.864636</td>\n",
       "      <td>5.781559</td>\n",
       "      <td>5.864636</td>\n",
       "      <td>5.864636</td>\n",
       "      <td>7.000000</td>\n",
       "      <td>5.864636</td>\n",
       "      <td>5.864636</td>\n",
       "      <td>5.864636</td>\n",
       "      <td>...</td>\n",
       "      <td>5.864636</td>\n",
       "      <td>5.486998</td>\n",
       "      <td>5.864636</td>\n",
       "      <td>5.864636</td>\n",
       "      <td>5.928121</td>\n",
       "      <td>5.864636</td>\n",
       "      <td>5.864636</td>\n",
       "      <td>5.864636</td>\n",
       "      <td>5.864636</td>\n",
       "      <td>5.864636</td>\n",
       "    </tr>\n",
       "    <tr>\n",
       "      <th>1721</th>\n",
       "      <td>10.00000</td>\n",
       "      <td>8.000000</td>\n",
       "      <td>6.476873</td>\n",
       "      <td>6.480508</td>\n",
       "      <td>6.480508</td>\n",
       "      <td>6.480508</td>\n",
       "      <td>8.000000</td>\n",
       "      <td>6.480508</td>\n",
       "      <td>6.480508</td>\n",
       "      <td>6.480508</td>\n",
       "      <td>...</td>\n",
       "      <td>6.480508</td>\n",
       "      <td>6.000000</td>\n",
       "      <td>6.374468</td>\n",
       "      <td>6.000000</td>\n",
       "      <td>6.480508</td>\n",
       "      <td>6.156582</td>\n",
       "      <td>7.000000</td>\n",
       "      <td>6.480508</td>\n",
       "      <td>6.480508</td>\n",
       "      <td>6.157380</td>\n",
       "    </tr>\n",
       "    <tr>\n",
       "      <th>2393</th>\n",
       "      <td>8.00000</td>\n",
       "      <td>4.238208</td>\n",
       "      <td>4.259109</td>\n",
       "      <td>4.259109</td>\n",
       "      <td>4.266582</td>\n",
       "      <td>4.259109</td>\n",
       "      <td>8.000000</td>\n",
       "      <td>4.259109</td>\n",
       "      <td>4.259109</td>\n",
       "      <td>4.259109</td>\n",
       "      <td>...</td>\n",
       "      <td>4.259109</td>\n",
       "      <td>3.000000</td>\n",
       "      <td>4.219194</td>\n",
       "      <td>4.000000</td>\n",
       "      <td>4.259109</td>\n",
       "      <td>4.216089</td>\n",
       "      <td>4.275722</td>\n",
       "      <td>4.259109</td>\n",
       "      <td>4.259109</td>\n",
       "      <td>2.000000</td>\n",
       "    </tr>\n",
       "    <tr>\n",
       "      <th>2852</th>\n",
       "      <td>3.90455</td>\n",
       "      <td>3.810083</td>\n",
       "      <td>3.850328</td>\n",
       "      <td>3.789474</td>\n",
       "      <td>3.848867</td>\n",
       "      <td>3.789474</td>\n",
       "      <td>3.789474</td>\n",
       "      <td>3.789474</td>\n",
       "      <td>3.789474</td>\n",
       "      <td>3.789474</td>\n",
       "      <td>...</td>\n",
       "      <td>3.789474</td>\n",
       "      <td>4.000000</td>\n",
       "      <td>3.878563</td>\n",
       "      <td>5.000000</td>\n",
       "      <td>3.789474</td>\n",
       "      <td>3.789474</td>\n",
       "      <td>3.849226</td>\n",
       "      <td>3.789474</td>\n",
       "      <td>3.789474</td>\n",
       "      <td>3.742391</td>\n",
       "    </tr>\n",
       "    <tr>\n",
       "      <th>3248</th>\n",
       "      <td>4.68630</td>\n",
       "      <td>10.000000</td>\n",
       "      <td>4.632612</td>\n",
       "      <td>4.655550</td>\n",
       "      <td>4.655550</td>\n",
       "      <td>4.655550</td>\n",
       "      <td>4.655550</td>\n",
       "      <td>4.655550</td>\n",
       "      <td>4.655550</td>\n",
       "      <td>4.655550</td>\n",
       "      <td>...</td>\n",
       "      <td>4.655550</td>\n",
       "      <td>2.000000</td>\n",
       "      <td>4.634572</td>\n",
       "      <td>4.574347</td>\n",
       "      <td>4.303821</td>\n",
       "      <td>4.655550</td>\n",
       "      <td>4.391753</td>\n",
       "      <td>4.655550</td>\n",
       "      <td>4.655550</td>\n",
       "      <td>2.000000</td>\n",
       "    </tr>\n",
       "  </tbody>\n",
       "</table>\n",
       "<p>5 rows × 10000 columns</p>\n",
       "</div>"
      ],
      "text/plain": [
       "             9         17        18        23        46        86        99  \\\n",
       "466    3.00000   5.864636  5.864636  5.781559  5.864636  5.864636  7.000000   \n",
       "1721  10.00000   8.000000  6.476873  6.480508  6.480508  6.480508  8.000000   \n",
       "2393   8.00000   4.238208  4.259109  4.259109  4.266582  4.259109  8.000000   \n",
       "2852   3.90455   3.810083  3.850328  3.789474  3.848867  3.789474  3.789474   \n",
       "3248   4.68630  10.000000  4.632612  4.655550  4.655550  4.655550  4.655550   \n",
       "\n",
       "           104       128       158    ...       135244    135273    135280  \\\n",
       "466   5.864636  5.864636  5.864636    ...     5.864636  5.486998  5.864636   \n",
       "1721  6.480508  6.480508  6.480508    ...     6.480508  6.000000  6.374468   \n",
       "2393  4.259109  4.259109  4.259109    ...     4.259109  3.000000  4.219194   \n",
       "2852  3.789474  3.789474  3.789474    ...     3.789474  4.000000  3.878563   \n",
       "3248  4.655550  4.655550  4.655550    ...     4.655550  2.000000  4.634572   \n",
       "\n",
       "        135281    135286    135313    135335    135339    135341    135353  \n",
       "466   5.864636  5.928121  5.864636  5.864636  5.864636  5.864636  5.864636  \n",
       "1721  6.000000  6.480508  6.156582  7.000000  6.480508  6.480508  6.157380  \n",
       "2393  4.000000  4.259109  4.216089  4.275722  4.259109  4.259109  2.000000  \n",
       "2852  5.000000  3.789474  3.789474  3.849226  3.789474  3.789474  3.742391  \n",
       "3248  4.574347  4.303821  4.655550  4.391753  4.655550  4.655550  2.000000  \n",
       "\n",
       "[5 rows x 10000 columns]"
      ]
     },
     "execution_count": 11,
     "metadata": {},
     "output_type": "execute_result"
    }
   ],
   "source": [
    "mem_pred.head()"
   ]
  },
  {
   "cell_type": "code",
   "execution_count": 12,
   "metadata": {},
   "outputs": [
    {
     "name": "stdout",
     "output_type": "stream",
     "text": [
      "479.18730998\n"
     ]
    },
    {
     "data": {
      "text/plain": [
       "1.1869"
      ]
     },
     "execution_count": 12,
     "metadata": {},
     "output_type": "execute_result"
    }
   ],
   "source": [
    "mem_pred_1, mem_test_1, mem_mae_1 = cross_vaildation(df, memory_based_CF, 1)\n",
    "mem_mae_1"
   ]
  },
  {
   "cell_type": "code",
   "execution_count": 13,
   "metadata": {},
   "outputs": [
    {
     "name": "stdout",
     "output_type": "stream",
     "text": [
      "516.580508947\n"
     ]
    },
    {
     "data": {
      "text/plain": [
       "1.1986"
      ]
     },
     "execution_count": 13,
     "metadata": {},
     "output_type": "execute_result"
    }
   ],
   "source": [
    "mem_pred_2, mem_test_2, mem_mae_2 = cross_vaildation(df, memory_based_CF, 2)\n",
    "mem_mae_2"
   ]
  },
  {
   "cell_type": "code",
   "execution_count": 14,
   "metadata": {},
   "outputs": [
    {
     "name": "stdout",
     "output_type": "stream",
     "text": [
      "581.817124844\n"
     ]
    },
    {
     "data": {
      "text/plain": [
       "1.1997"
      ]
     },
     "execution_count": 14,
     "metadata": {},
     "output_type": "execute_result"
    }
   ],
   "source": [
    "mem_pred_3, mem_test_3, mem_mae_3 = cross_vaildation(df, memory_based_CF, 3)\n",
    "mem_mae_3"
   ]
  },
  {
   "cell_type": "code",
   "execution_count": 18,
   "metadata": {},
   "outputs": [
    {
     "name": "stdout",
     "output_type": "stream",
     "text": [
      "655.343516111\n"
     ]
    },
    {
     "data": {
      "text/plain": [
       "1.2029"
      ]
     },
     "execution_count": 18,
     "metadata": {},
     "output_type": "execute_result"
    }
   ],
   "source": [
    "mem_pred_4, mem_test_4, mem_mae_4 = cross_vaildation(df, memory_based_CF, 4)\n",
    "mem_mae_4"
   ]
  },
  {
   "cell_type": "code",
   "execution_count": 19,
   "metadata": {},
   "outputs": [
    {
     "name": "stdout",
     "output_type": "stream",
     "text": [
      "1611.96712804\n"
     ]
    },
    {
     "data": {
      "text/plain": [
       "1.2029"
      ]
     },
     "execution_count": 19,
     "metadata": {},
     "output_type": "execute_result"
    }
   ],
   "source": [
    "mem_pred_5, mem_test_5, mem_mae_5 = cross_vaildation(df, memory_based_CF, 5)\n",
    "mem_mae_5"
   ]
  },
  {
   "cell_type": "code",
   "execution_count": 20,
   "metadata": {},
   "outputs": [
    {
     "name": "stdout",
     "output_type": "stream",
     "text": [
      "779.941295147\n"
     ]
    },
    {
     "data": {
      "text/plain": [
       "1.2009"
      ]
     },
     "execution_count": 20,
     "metadata": {},
     "output_type": "execute_result"
    }
   ],
   "source": [
    "mem_pred_6, mem_test_6, mem_mae_6 = cross_vaildation(df, memory_based_CF, 6)\n",
    "mem_mae_6"
   ]
  },
  {
   "cell_type": "code",
   "execution_count": 22,
   "metadata": {},
   "outputs": [
    {
     "name": "stdout",
     "output_type": "stream",
     "text": [
      "11525.7823319\n"
     ]
    },
    {
     "data": {
      "text/plain": [
       "1.2194"
      ]
     },
     "execution_count": 22,
     "metadata": {},
     "output_type": "execute_result"
    }
   ],
   "source": [
    "mem_pred_7, mem_test_7, mem_mae_7 = cross_vaildation(df, memory_based_CF, 7)\n",
    "mem_mae_7"
   ]
  },
  {
   "cell_type": "code",
   "execution_count": 23,
   "metadata": {},
   "outputs": [
    {
     "name": "stdout",
     "output_type": "stream",
     "text": [
      "886.082050085\n"
     ]
    },
    {
     "data": {
      "text/plain": [
       "1.2083"
      ]
     },
     "execution_count": 23,
     "metadata": {},
     "output_type": "execute_result"
    }
   ],
   "source": [
    "mem_pred_8, mem_test_8, mem_mae_8 = cross_vaildation(df, memory_based_CF, 8)\n",
    "mem_mae_8"
   ]
  },
  {
   "cell_type": "code",
   "execution_count": 24,
   "metadata": {},
   "outputs": [
    {
     "name": "stdout",
     "output_type": "stream",
     "text": [
      "933.279371977\n"
     ]
    },
    {
     "data": {
      "text/plain": [
       "1.2112"
      ]
     },
     "execution_count": 24,
     "metadata": {},
     "output_type": "execute_result"
    }
   ],
   "source": [
    "mem_pred_9, mem_test_9, mem_mae_9 = cross_vaildation(df, memory_based_CF, 9)\n",
    "mem_mae_9"
   ]
  },
  {
   "cell_type": "code",
   "execution_count": 33,
   "metadata": {
    "collapsed": true
   },
   "outputs": [],
   "source": [
    "mem_result=[1.1869,1.1986,1.1997,1.2029,1.2029,1.2009,1.2194,1.2083,1.2112,1.2081]"
   ]
  },
  {
   "cell_type": "code",
   "execution_count": 35,
   "metadata": {},
   "outputs": [
    {
     "data": {
      "image/png": "[encoded data removed]",
      "text/plain": [
       "<matplotlib.figure.Figure at 0x113258290>"
      ]
     },
     "metadata": {},
     "output_type": "display_data"
    }
   ],
   "source": [
    "import matplotlib.pyplot as plt\n",
    "%matplotlib inline\n",
    "plt.xlabel('K Nearest Neighbor ')\n",
    "plt.ylabel('MAE')\n",
    "plt.title('K Nearest Neighbor Vs. MAE ')\n",
    "plt.plot([1,2,3,4,5,6,7,8,9,10], mem_result)\n",
    "plt.axis([0, 11, 0.9, 1.4])\n",
    "plt.show()"
   ]
  },
  {
   "cell_type": "code",
   "execution_count": null,
   "metadata": {
    "collapsed": true
   },
   "outputs": [],
   "source": []
  }
 ],
 "metadata": {
  "kernelspec": {
   "display_name": "Python 2",
   "language": "python",
   "name": "python2"
  },
  "language_info": {
   "codemirror_mode": {
    "name": "ipython",
    "version": 2
   },
   "file_extension": ".py",
   "mimetype": "text/x-python",
   "name": "python",
   "nbconvert_exporter": "python",
   "pygments_lexer": "ipython2",
   "version": "2.7.10"
  }
 },
 "nbformat": 4,
 "nbformat_minor": 2
}
