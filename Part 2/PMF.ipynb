{
 "cells": [
  {
   "cell_type": "code",
   "execution_count": 1,
   "metadata": {
    "collapsed": true
   },
   "outputs": [],
   "source": [
    "import pandas"
   ]
  },
  {
   "cell_type": "markdown",
   "metadata": {},
   "source": [
    "### PMF Algorithm"
   ]
  },
  {
   "cell_type": "code",
   "execution_count": 2,
   "metadata": {
    "collapsed": true
   },
   "outputs": [],
   "source": [
    "import numpy as np\n",
    "from numpy import linalg as LA\n",
    "\n",
    "class PMF:\n",
    "    def __init__(self, num_feat=10, epsilon=1, _lambda=0.1, momentum=0.8, maxepoch=20, num_batches=10, batch_size=1000):\n",
    "        self.num_feat = num_feat\n",
    "        self.epsilon = epsilon\n",
    "        self._lambda = _lambda\n",
    "        self.momentum = momentum\n",
    "        self.maxepoch = maxepoch\n",
    "        self.num_batches = num_batches\n",
    "        self.batch_size = batch_size\n",
    "        \n",
    "        self.w_C = None\n",
    "        self.w_I = None\n",
    "\n",
    "        self.err_train = []\n",
    "        self.err_val = []\n",
    "        \n",
    "    def fit(self, train_vec, val_vec):   \n",
    "        # mean subtraction\n",
    "        self.mean_inv = np.mean(train_vec[:,2])\n",
    "        \n",
    "        pairs_tr = train_vec.shape[0]\n",
    "        pairs_va = val_vec.shape[0]\n",
    "        \n",
    "        # 1-p-i, 2-m-c\n",
    "        num_inv = int(max(np.amax(train_vec[:,0]), np.amax(val_vec[:,0]))) + 1\n",
    "        num_com = int(max(np.amax(train_vec[:,1]), np.amax(val_vec[:,1]))) + 1\n",
    "\n",
    "        incremental = False\n",
    "        if ((not incremental) or (self.w_C is None)):\n",
    "            # initialize\n",
    "            self.epoch = 0\n",
    "            self.w_C = 0.1 * np.random.randn(num_com, self.num_feat)\n",
    "            self.w_I = 0.1 * np.random.randn(num_inv, self.num_feat)\n",
    "            \n",
    "            self.w_C_inc = np.zeros((num_com, self.num_feat))\n",
    "            self.w_I_inc = np.zeros((num_inv, self.num_feat))\n",
    "        \n",
    "        \n",
    "        while self.epoch < self.maxepoch:\n",
    "            self.epoch += 1\n",
    "\n",
    "            # Shuffle training truples\n",
    "            shuffled_order = np.arange(train_vec.shape[0])\n",
    "            np.random.shuffle(shuffled_order)\n",
    "\n",
    "            # Batch update\n",
    "            for batch in range(self.num_batches):\n",
    "                # print \"epoch %d batch %d\" % (self.epoch, batch+1)\n",
    "\n",
    "                batch_idx = np.mod(np.arange(self.batch_size * batch,\n",
    "                                             self.batch_size * (batch+1)),\n",
    "                                   shuffled_order.shape[0])\n",
    "\n",
    "                batch_invID = np.array(train_vec[shuffled_order[batch_idx], 0], dtype='int32')\n",
    "                batch_comID = np.array(train_vec[shuffled_order[batch_idx], 1], dtype='int32')\n",
    "\n",
    "                # Compute Objective Function\n",
    "                pred_out = np.sum(np.multiply(self.w_I[batch_invID,:], \n",
    "                                                self.w_C[batch_comID,:]),\n",
    "                                axis=1) # mean_inv subtracted\n",
    "\n",
    "                rawErr = pred_out - train_vec[shuffled_order[batch_idx], 2] + self.mean_inv\n",
    "\n",
    "                # Compute gradients\n",
    "                Ix_C = 2 * np.multiply(rawErr[:, np.newaxis], self.w_I[batch_invID,:]) \\\n",
    "                        + self._lambda * self.w_C[batch_comID,:]\n",
    "                Ix_I = 2 * np.multiply(rawErr[:, np.newaxis], self.w_C[batch_comID,:]) \\\n",
    "                        + self._lambda * self.w_I[batch_invID,:]\n",
    "            \n",
    "                dw_C = np.zeros((num_com, self.num_feat))\n",
    "                dw_I = np.zeros((num_inv, self.num_feat))\n",
    "\n",
    "                # loop to aggreate the gradients of the same element\n",
    "                for i in range(self.batch_size):\n",
    "                    dw_C[batch_comID[i],:] += Ix_C[i,:]\n",
    "                    dw_I[batch_invID[i],:] += Ix_I[i,:]\n",
    "\n",
    "\n",
    "                # Update with momentum\n",
    "                self.w_C_inc = self.momentum * self.w_C_inc + self.epsilon * dw_C / self.batch_size\n",
    "                self.w_I_inc = self.momentum * self.w_I_inc + self.epsilon * dw_I / self.batch_size\n",
    "\n",
    "\n",
    "                self.w_C = self.w_C - self.w_C_inc\n",
    "                self.w_I = self.w_I - self.w_I_inc\n",
    "\n",
    "                # Compute Objective Function after\n",
    "                if batch == self.num_batches - 1:\n",
    "                    pred_out = np.sum(np.multiply(self.w_I[np.array(train_vec[:,0], dtype='int32'),:],\n",
    "                                                    self.w_C[np.array(train_vec[:,1], dtype='int32'),:]),\n",
    "                                        axis=1) # mean_inv subtracted\n",
    "                    rawErr = pred_out - train_vec[:, 2] + self.mean_inv\n",
    "                    obj = LA.norm(rawErr) ** 2 \\\n",
    "                            + 0.5*self._lambda*(LA.norm(self.w_I) ** 2 + LA.norm(self.w_C) ** 2)\n",
    "\n",
    "                    self.err_train.append(np.sqrt(obj/pairs_tr))\n",
    "\n",
    "                # Compute validation error\n",
    "                if batch == self.num_batches - 1:\n",
    "                    pred_out = np.sum(np.multiply(self.w_I[np.array(val_vec[:,0], dtype='int32'),:],\n",
    "                                                    self.w_C[np.array(val_vec[:,1], dtype='int32'),:]),\n",
    "                                        axis=1) # mean_inv subtracted\n",
    "                    rawErr = pred_out - val_vec[:, 2] + self.mean_inv\n",
    "                    self.err_val.append(LA.norm(rawErr)/np.sqrt(pairs_va))\n",
    "\n",
    "                # Print info\n",
    "#                 if batch == self.num_batches - 1:\n",
    "#                    print 'Training RMSE: %f, Test RMSE %f' % (self.err_train[-1], self.err_val[-1])\n",
    "\n",
    "    def predict(self, invID): \n",
    "        return np.dot(self.w_C, self.w_I[invID,:]) + self.mean_inv\n",
    "        \n",
    "    def set_params(self, parameters):\n",
    "        if isinstance(parameters, dict):\n",
    "            self.num_feat = parameters.get(\"num_feat\", 10)\n",
    "            self.epsilon = parameters.get(\"epsilon\", 1)\n",
    "            self._lambda = parameters.get(\"_lambda\", 0.1)\n",
    "            self.momentum = parameters.get(\"momentum\", 0.8)\n",
    "            self.maxepoch = parameters.get(\"maxepoch\", 20)\n",
    "            self.num_batches = parameters.get(\"num_batches\", 10)\n",
    "            self.batch_size = parameters.get(\"batch_size\", 1000)"
   ]
  },
  {
   "cell_type": "code",
   "execution_count": 3,
   "metadata": {
    "collapsed": true
   },
   "outputs": [],
   "source": [
    "import numpy as np\n",
    "\n",
    "def topK(model, test_vec, k=10):\n",
    "\tinv_lst = np.unique(test_vec[:, 0])\n",
    "\tpred = {}\n",
    "\tfor inv in inv_lst:\n",
    "\t\tif pred.get(inv, None) is None:\n",
    "\t\t\tpred[inv] = np.argsort(model.predict(inv))[-k:]\n",
    "\n",
    "\tintersection_cnt = {}\n",
    "\tfor i in range(test_vec.shape[0]):\n",
    "\t\tif test_vec[i, 1] in pred[test_vec[i, 0]]:\n",
    "\t\t\tintersection_cnt[test_vec[i, 0]] = intersection_cnt.get(test_vec[i, 0], 0) + 1\n",
    "\tinvPairs_cnt = np.bincount(np.array(test_vec[:, 0], dtype='int32'))\n",
    "\n",
    "\tprecision_acc = 0.0\n",
    "\trecall_acc = 0.0\n",
    "\tfor inv in inv_lst:\n",
    "\t\tprecision_acc += intersection_cnt.get(inv, 0)/float(k)\n",
    "\t\trecall_acc += intersection_cnt.get(inv, 0)/float(invPairs_cnt[inv])\n",
    "#     print inv_lst\n",
    "\n",
    "\treturn precision_acc/len(inv_lst), recall_acc/len(inv_lst)"
   ]
  },
  {
   "cell_type": "code",
   "execution_count": 4,
   "metadata": {
    "collapsed": true
   },
   "outputs": [],
   "source": [
    "def get_class(cluster):\n",
    "    # for cluster\n",
    "    # get class a from data\n",
    "    a_class = df_description.loc[kcluster[cluster]]['asin'].values.tolist()\n",
    "    table = data.loc[data['asin'].isin(a_class)][['asin','reviewer','star_rating']]\n",
    "    # form a table of class a subset\n",
    "    table['rating'] = table['star_rating'].values.tolist() #change to number\n",
    "    asin = {v: k for k, v in enumerate(table['asin'].unique())}\n",
    "    reviewer = {v: k for k, v in enumerate(table['reviewer'].unique())}\n",
    "    temp = table.replace({'asin':asin,'reviewer':reviewer})\n",
    "    temp.drop(['star_rating'],axis=1,inplace=True)\n",
    "    matrix_r = temp[temp[\"rating\"]!=0]\n",
    "    matrix = matrix_r.reindex(columns=['reviewer','asin','rating'])\n",
    "    # matrix.head()\n",
    "    from sklearn.model_selection import train_test_split\n",
    "    train_data, test_data = train_test_split(matrix, test_size=0.25)\n",
    "    #Create two user-item matrices, one for training and another for testing\n",
    "    train_list = list(train_data.itertuples(index=False, name=None))\n",
    "    test_list = list(test_data.itertuples(index=False, name=None))\n",
    "    train_array = np.asarray(train_list)\n",
    "    test_array = np.asarray(test_list)\n",
    "\n",
    "    # Train PMF\n",
    "    model = PMF()\n",
    "    fit = model.fit(train_array,test_array)\n",
    "\n",
    "    result = []\n",
    "    for key,value in reviewer.items():\n",
    "        for k,v in asin.items():\n",
    "            result.append((key,k,model.predict(value)[v]))\n",
    "    rMSE = [len(asin),np.mean(model.err_train)]\n",
    "    return result, rMSE"
   ]
  },
  {
   "cell_type": "code",
   "execution_count": 5,
   "metadata": {
    "collapsed": true
   },
   "outputs": [],
   "source": [
    "#Alternative\n",
    "def trainPMF(matrix,dic_reviewer,dic_asin):\n",
    "    from sklearn.model_selection import train_test_split\n",
    "    train_data, test_data = train_test_split(matrix, test_size=0.25)\n",
    "    #Create two user-item matrices, one for training and another for testing\n",
    "    train_list = list(train_data.itertuples(index=False, name=None))\n",
    "    test_list = list(test_data.itertuples(index=False, name=None))\n",
    "    train_array = np.asarray(train_list)\n",
    "    test_array = np.asarray(test_list)\n",
    "\n",
    "    # Train PMF\n",
    "    model = PMF()\n",
    "    fit = model.fit(train_array,test_array)\n",
    "\n",
    "    # Result Stored in List of tuple\n",
    "    result = []\n",
    "    for i in range(len(dic_reviewer)):\n",
    "        for j in range(len(dic_asin)):\n",
    "            result.append((dic_reviewer[i],dic_asin[j],model.predict(i)[j]))\n",
    "    return result, [len(dic_asin),np.mean(model.err_train)]"
   ]
  },
  {
   "cell_type": "markdown",
   "metadata": {},
   "source": [
    "### In Category Training Result"
   ]
  },
  {
   "cell_type": "code",
   "execution_count": 6,
   "metadata": {
    "collapsed": true
   },
   "outputs": [],
   "source": [
    "# Load classification\n",
    "import pandas\n",
    "# original data\n",
    "df_description = pandas.read_csv(\"description_update.csv\")\n",
    "\n",
    "data = pandas.read_csv(\"no_outlier_data.csv\")\n",
    "\n",
    "import pickle\n",
    "with open('data.pickle', 'rb') as handle:\n",
    "    kcluster = pickle.load(handle)"
   ]
  },
  {
   "cell_type": "code",
   "execution_count": 7,
   "metadata": {
    "collapsed": true
   },
   "outputs": [],
   "source": [
    "def get_rMSE(cluster):\n",
    "    # for cluster\n",
    "    # get class a from data\n",
    "    a_class = df_description.loc[kcluster[cluster]]['asin'].values.tolist()\n",
    "    table = data.loc[data['asin'].isin(a_class)][['asin','reviewer','star_rating']]\n",
    "    # form a table of class a subset\n",
    "    table['rating'] = table['star_rating'].values.tolist() #change to number\n",
    "    asin = {v: k for k, v in enumerate(table['asin'].unique())}\n",
    "    reviewer = {v: k for k, v in enumerate(table['reviewer'].unique())}\n",
    "    temp = table.replace({'asin':asin,'reviewer':reviewer})\n",
    "    temp.drop(['star_rating'],axis=1,inplace=True)\n",
    "    matrix_r = temp[temp[\"rating\"]!=0]\n",
    "    matrix = matrix_r.reindex(columns=['reviewer','asin','rating'])\n",
    "    # matrix.head()\n",
    "    from sklearn.model_selection import train_test_split\n",
    "    train_data, test_data = train_test_split(matrix, test_size=0.25)\n",
    "    #Create two user-item matrices, one for training and another for testing\n",
    "    train_list = list(train_data.itertuples(index=False, name=None))\n",
    "    test_list = list(test_data.itertuples(index=False, name=None))\n",
    "    train_array = np.asarray(train_list)\n",
    "    test_array = np.asarray(test_list)\n",
    "\n",
    "    # Train PMF\n",
    "    model = PMF()\n",
    "    fit = model.fit(train_array,test_array)\n",
    "\n",
    "    return [len(asin),np.mean(model.err_train)]"
   ]
  },
  {
   "cell_type": "code",
   "execution_count": null,
   "metadata": {
    "collapsed": true
   },
   "outputs": [],
   "source": [
    "output = dict()\n",
    "in_rMSE = dict()\n",
    "# for index in range(0,10):\n",
    "#     output[index] = get_class(index)\n",
    "for index in kcluster.keys():\n",
    "    output[index],in_rMSE[index] = get_class(index)\n",
    "    print in_rMSE.items()[index]"
   ]
  },
  {
   "cell_type": "code",
   "execution_count": 25,
   "metadata": {
    "collapsed": true
   },
   "outputs": [],
   "source": [
    "import csv\n",
    "with open('in_category_result.csv','wb') as out:\n",
    "    csv_out=csv.writer(out)\n",
    "    csv_out.writerow(['reviewer','asin','rating'])\n",
    "    for key in output.keys():\n",
    "        for row in output[key]:\n",
    "            csv_out.writerow(row)"
   ]
  },
  {
   "cell_type": "markdown",
   "metadata": {},
   "source": [
    "------------------\n",
    "### Cross category Classification and Result"
   ]
  },
  {
   "cell_type": "code",
   "execution_count": 26,
   "metadata": {
    "collapsed": true
   },
   "outputs": [],
   "source": [
    "category = pandas.read_csv(\"df_101.csv\")"
   ]
  },
  {
   "cell_type": "code",
   "execution_count": 27,
   "metadata": {
    "collapsed": true
   },
   "outputs": [],
   "source": [
    "def get_crossclass():\n",
    "    #######cross-category\n",
    "    # change to tupple with non-zero\n",
    "    category_copy = category.copy()\n",
    "    category_copy.columns=[\"cluster\"]+range(category.columns[1:].size)\n",
    "    category_copy.index=range(category.index.size)\n",
    "    category_copy['cluster'] = range(category.index.size)\n",
    "    dic_category = [i for i in category.index]\n",
    "    dic_reviewer = [i for i in category.columns[1:]]\n",
    "\n",
    "    temp = pandas.melt(category_copy,id_vars=[\"cluster\"])\n",
    "\n",
    "    temp.head()\n",
    "    matrix_r = temp[temp[\"value\"]!=0]\n",
    "    matrix_r.columns=['cluster','reviewer','mean_rating']\n",
    "    # matrix_r.head()\n",
    "    matrix = matrix_r.reindex(columns=['reviewer','cluster','mean_rating'])\n",
    "    # matrix.head()\n",
    "    from sklearn.model_selection import train_test_split\n",
    "    train_data, test_data = train_test_split(matrix, test_size=0.25)\n",
    "    #Create two user-item matrices, one for training and another for testing\n",
    "    train_list = list(train_data.itertuples(index=False, name=None))\n",
    "    test_list = list(test_data.itertuples(index=False, name=None))\n",
    "    train_array = np.asarray(train_list)\n",
    "    test_array = np.asarray(test_list)\n",
    "\n",
    "    return trainPMF(matrix,dic_reviewer,dic_category)"
   ]
  },
  {
   "cell_type": "code",
   "execution_count": 461,
   "metadata": {
    "collapsed": true
   },
   "outputs": [],
   "source": [
    "def write_csv(result):\n",
    "    import csv\n",
    "    with open('crosscategory_result.csv','wb') as out:\n",
    "        csv_out=csv.writer(out)\n",
    "        csv_out.writerow(['reviewer','cluster','rating'])\n",
    "        for row in result:\n",
    "            csv_out.writerow(row)"
   ]
  },
  {
   "cell_type": "code",
   "execution_count": 32,
   "metadata": {
    "collapsed": true
   },
   "outputs": [],
   "source": [
    "result, rMSE = get_crossclass()"
   ]
  },
  {
   "cell_type": "code",
   "execution_count": 33,
   "metadata": {},
   "outputs": [
    {
     "data": {
      "text/plain": [
       "[100, 1.3497206155074557]"
      ]
     },
     "execution_count": 33,
     "metadata": {},
     "output_type": "execute_result"
    }
   ],
   "source": [
    "rMSE"
   ]
  },
  {
   "cell_type": "code",
   "execution_count": 315,
   "metadata": {
    "collapsed": true
   },
   "outputs": [],
   "source": [
    "write_csv(result)"
   ]
  },
  {
   "cell_type": "markdown",
   "metadata": {},
   "source": [
    "### Evaluation for Accuracy and Coverage\n",
    "--------\n",
    "Visualization rMSE & scaling time"
   ]
  },
  {
   "cell_type": "code",
   "execution_count": 44,
   "metadata": {
    "collapsed": true
   },
   "outputs": [],
   "source": [
    "def observNo(cluster):\n",
    "    # for cluster\n",
    "    # get class a from data\n",
    "    a_class = df_description.loc[kcluster[cluster]]['asin'].values.tolist()\n",
    "    table = data.loc[data['asin'].isin(a_class)][['asin','reviewer','star_rating']]\n",
    "    # form a table of class a subset\n",
    "    table['rating'] = table['star_rating'].values.tolist() #change to number\n",
    "    asin = {v: k for k, v in enumerate(table['asin'].unique())}\n",
    "    reviewer = {v: k for k, v in enumerate(table['reviewer'].unique())}\n",
    "    temp = table.replace({'asin':asin,'reviewer':reviewer})\n",
    "    temp.drop(['star_rating'],axis=1,inplace=True)\n",
    "    matrix_r = temp[temp[\"rating\"]!=0]\n",
    "    matrix = matrix_r.reindex(columns=['reviewer','asin','rating'])\n",
    "    return matrix.shape[0]"
   ]
  },
  {
   "cell_type": "code",
   "execution_count": 45,
   "metadata": {
    "collapsed": true
   },
   "outputs": [],
   "source": [
    "# for i in \n",
    "observ=[]\n",
    "for index in kcluster.keys():\n",
    "    observ.append(observNo(index))"
   ]
  },
  {
   "cell_type": "code",
   "execution_count": 46,
   "metadata": {
    "collapsed": true
   },
   "outputs": [],
   "source": [
    "Run = pandas.read_csv(\"CatRunTime.csv\")\n",
    "runTime = Run['Time'].tolist()"
   ]
  },
  {
   "cell_type": "code",
   "execution_count": 60,
   "metadata": {},
   "outputs": [
    {
     "data": {
      "image/png": "[encoded data removed]",
      "text/plain": [
       "<matplotlib.figure.Figure at 0x11551e890>"
      ]
     },
     "metadata": {},
     "output_type": "display_data"
    }
   ],
   "source": [
    "import matplotlib.pyplot as plt\n",
    "%matplotlib inline\n",
    "\n",
    "for i in range(len(runTime)):\n",
    "    plt.plot(observ[i], runTime[i], 'ro')\n",
    "plt.xlabel(\"Number of Observation\")\n",
    "plt.ylabel(\"Run Time\")\n",
    "plt.xlim([0,12000])\n",
    "plt.ylim([1,2])\n",
    "plt.show()"
   ]
  },
  {
   "cell_type": "markdown",
   "metadata": {
    "collapsed": true
   },
   "source": [
    "Most of the category data had 1000 to 4000 observation ratings, their running time ranged from 1.2s to 1.5s.\n",
    "This running time was relatively fast and consistence across different category data.\n",
    "Notice that for larger number of observations, the run time increased but still kept within 1.6s per data set."
   ]
  },
  {
   "cell_type": "code",
   "execution_count": 38,
   "metadata": {},
   "outputs": [
    {
     "data": {
      "image/png": "[encoded data removed]",
      "text/plain": [
       "<matplotlib.figure.Figure at 0x146a37fd0>"
      ]
     },
     "metadata": {},
     "output_type": "display_data"
    }
   ],
   "source": [
    "import matplotlib.pyplot as plt\n",
    "%matplotlib inline\n",
    "\n",
    "for value in in_rMSE.values():\n",
    "    plt.plot(value[0], value[1], 'ro')\n",
    "plt.xlabel(\"size of category\")\n",
    "plt.ylabel(\"rMSE\")\n",
    "# plt.xlim([0,6])\n",
    "plt.show()\n"
   ]
  },
  {
   "cell_type": "markdown",
   "metadata": {},
   "source": [
    "rMSE Vs. Observed Rating"
   ]
  },
  {
   "cell_type": "code",
   "execution_count": 67,
   "metadata": {},
   "outputs": [
    {
     "data": {
      "image/png": "[encoded data removed]",
      "text/plain": [
       "<matplotlib.figure.Figure at 0x1162e1850>"
      ]
     },
     "metadata": {},
     "output_type": "display_data"
    }
   ],
   "source": [
    "import matplotlib.pyplot as plt\n",
    "%matplotlib inline\n",
    "i = 0\n",
    "for value in in_rMSE.values():\n",
    "    \n",
    "    plt.plot(observ[i], value[1], 'ro')\n",
    "    i+=1\n",
    "plt.title('No. of Observation Vs. rMSE')\n",
    "plt.xlabel(\"No. of Observation\")\n",
    "plt.ylabel(\"rMSE\")\n",
    "plt.xlim([0,13000])\n",
    "plt.show()"
   ]
  },
  {
   "cell_type": "code",
   "execution_count": null,
   "metadata": {
    "collapsed": true
   },
   "outputs": [],
   "source": [
    "rMSE_df = pandas.DataFrame(in_rMSE.values(), columns = {\"size\",\"rMSE\"})"
   ]
  },
  {
   "cell_type": "code",
   "execution_count": 72,
   "metadata": {},
   "outputs": [
    {
     "data": {
      "image/png": "[encoded data removed]",
      "text/plain": [
       "<matplotlib.figure.Figure at 0x18aee8910>"
      ]
     },
     "metadata": {},
     "output_type": "display_data"
    }
   ],
   "source": [
    "import matplotlib.pyplot as plt\n",
    "%matplotlib inline\n",
    "xaxis = range(0,6)\n",
    "for x in xaxis:\n",
    "    left = x*20\n",
    "    right = (x+1)*20\n",
    "    xrMSE = rMSE_df.loc[rMSE_df['size'].between(left, right),'rMSE'].mean()\n",
    "    plt.plot(right - 10, xrMSE, 'ro')\n",
    "# for value in in_rMSE.values():\n",
    "#     plt.plot(value[0], value[1], 'ro')\n",
    "plt.xlabel(\"size of category\")\n",
    "plt.ylabel(\"rMSE\")\n",
    "# plt.xlim([0,6])\n",
    "plt.show()"
   ]
  },
  {
   "cell_type": "markdown",
   "metadata": {},
   "source": [
    "### Scalability"
   ]
  },
  {
   "cell_type": "code",
   "execution_count": 112,
   "metadata": {
    "collapsed": true
   },
   "outputs": [],
   "source": [
    "import timeit\n",
    "def get_time(cluster):\n",
    "    # for cluster\n",
    "    # get class a from data\n",
    "    a_class = df_description.loc[kcluster[cluster]]['asin'].values.tolist()\n",
    "    table = data.loc[data['asin'].isin(a_class)][['asin','reviewer','star_rating']]\n",
    "    # form a table of class a subset\n",
    "    table['rating'] = table['star_rating'].values.tolist() #change to number\n",
    "    asin = {v: k for k, v in enumerate(table['asin'].unique())}\n",
    "    reviewer = {v: k for k, v in enumerate(table['reviewer'].unique())}\n",
    "    temp = table.replace({'asin':asin,'reviewer':reviewer})\n",
    "    temp.drop(['star_rating'],axis=1,inplace=True)\n",
    "    matrix_r = temp[temp[\"rating\"]!=0]\n",
    "    matrix = matrix_r.reindex(columns=['reviewer','asin','rating'])\n",
    "    # matrix.head()\n",
    "    from sklearn.model_selection import train_test_split\n",
    "    train_data, test_data = train_test_split(matrix, test_size=0.25)\n",
    "    #Create two user-item matrices, one for training and another for testing\n",
    "    train_list = list(train_data.itertuples(index=False, name=None))\n",
    "    test_list = list(test_data.itertuples(index=False, name=None))\n",
    "    train_array = np.asarray(train_list)\n",
    "    test_array = np.asarray(test_list)\n",
    "\n",
    "    # Train PMF\n",
    "    start = timeit.default_timer()\n",
    "    model = PMF()\n",
    "    fit = model.fit(train_array,test_array)\n",
    "    stop = timeit.default_timer()\n",
    "    return [len(asin),stop-start]"
   ]
  },
  {
   "cell_type": "code",
   "execution_count": null,
   "metadata": {
    "collapsed": true
   },
   "outputs": [],
   "source": [
    "time = {}\n",
    "for index in kcluster.keys():\n",
    "    time[index] = get_time(index)\n",
    "    print time.items()[index]"
   ]
  },
  {
   "cell_type": "code",
   "execution_count": 116,
   "metadata": {
    "collapsed": true
   },
   "outputs": [],
   "source": [
    "time_df = pandas.DataFrame(time.values(), columns = {\"size\",\"time\"})"
   ]
  },
  {
   "cell_type": "code",
   "execution_count": 149,
   "metadata": {},
   "outputs": [
    {
     "data": {
      "text/plain": [
       "1.3277255296707153"
      ]
     },
     "execution_count": 149,
     "metadata": {},
     "output_type": "execute_result"
    }
   ],
   "source": [
    "time_df['time'].mean()"
   ]
  },
  {
   "cell_type": "code",
   "execution_count": 123,
   "metadata": {},
   "outputs": [
    {
     "data": {
      "image/png": "[encoded data removed]",
      "text/plain": [
       "<matplotlib.figure.Figure at 0x185eca210>"
      ]
     },
     "metadata": {},
     "output_type": "display_data"
    }
   ],
   "source": [
    "import matplotlib.pyplot as plt\n",
    "%matplotlib inline\n",
    "xaxis = range(0,6)\n",
    "for x in xaxis:\n",
    "    left = x*20\n",
    "    right = (x+1)*20\n",
    "    xtime = time_df.loc[time_df['size'].between(left, right),'time'].mean()\n",
    "    plt.plot(right - 10, xtime, 'ro')\n",
    "# for value in in_rMSE.values():\n",
    "#     plt.plot(value[0], value[1], 'ro')\n",
    "plt.xlabel(\"size of category\")\n",
    "plt.ylabel(\"time\")\n",
    "# plt.xlim([0,6])\n",
    "plt.show()\n",
    "\n"
   ]
  },
  {
   "cell_type": "markdown",
   "metadata": {},
   "source": [
    "### Coverage"
   ]
  },
  {
   "cell_type": "code",
   "execution_count": 23,
   "metadata": {
    "collapsed": true
   },
   "outputs": [],
   "source": [
    "def get_input_array(cluster):\n",
    "# get class a from data\n",
    "    a_class = df_description.loc[kcluster[cluster]]['asin'].values.tolist()\n",
    "    table = data.loc[data['asin'].isin(a_class)][['asin','reviewer','star_rating']]\n",
    "    # form a table of class a subset\n",
    "    table['rating'] = table['star_rating'].values.tolist() #change to number\n",
    "    asin = {v: k for k, v in enumerate(table['asin'].unique())}\n",
    "    reviewer = {v: k for k, v in enumerate(table['reviewer'].unique())}\n",
    "    temp = table.replace({'asin':asin,'reviewer':reviewer})\n",
    "    temp.drop(['star_rating'],axis=1,inplace=True)\n",
    "    matrix_r = temp[temp[\"rating\"]!=0]\n",
    "    matrix = matrix_r.reindex(columns=['reviewer','asin','rating'])\n",
    "    \n",
    "    matrix.head()\n",
    "    from sklearn.model_selection import train_test_split\n",
    "    train_data, test_data = train_test_split(matrix, test_size=0.25)\n",
    "    #Create two user-item matrices, one for training and another for testing\n",
    "    train_list = list(train_data.itertuples(index=False, name=None))\n",
    "    test_list = list(test_data.itertuples(index=False, name=None))\n",
    "    train_array = np.asarray(train_list)\n",
    "    test_array = np.asarray(test_list)\n",
    "    return train_array,test_array,asin,reviewer"
   ]
  },
  {
   "cell_type": "code",
   "execution_count": 24,
   "metadata": {
    "collapsed": true
   },
   "outputs": [],
   "source": [
    "# for every cluster 55 , 0 , 32\n",
    "test55,train55,asin55,reviewer55 = get_input_array(55)\n",
    "test0,train0,asin0,reviewer0 = get_input_array(0)\n",
    "test32,train32,asin32,reviewer32= get_input_array(32)\n"
   ]
  },
  {
   "cell_type": "code",
   "execution_count": 25,
   "metadata": {
    "collapsed": true
   },
   "outputs": [],
   "source": [
    "# Train Every Model\n",
    "model55 = PMF()\n",
    "fit55 = model55.fit(train55,test55)\n",
    "model0 = PMF()\n",
    "fit0 = model0.fit(train0,test0)\n",
    "model32 = PMF()\n",
    "fit32 = model32.fit(train32,test32)"
   ]
  },
  {
   "cell_type": "code",
   "execution_count": 29,
   "metadata": {
    "collapsed": true
   },
   "outputs": [],
   "source": [
    "def result(model,asin,reviewer):   \n",
    "    result = []\n",
    "    for key,value in reviewer.items():\n",
    "        for k,v in asin.items():\n",
    "            result.append((key,k,model.predict(value)[v]))\n",
    "\n",
    "    result_df = pandas.DataFrame(result)\n",
    "    result_df.columns ={\"asin\",\"rating\",\"reviewer\"}\n",
    "    return result_df\n",
    "def Coverage(result_df,k):\n",
    "    # result_df\n",
    "    unique_reviewer = result_df['reviewer'].unique().tolist()\n",
    "    unique_item = result_df['asin'].unique().tolist()\n",
    "    TopK = []\n",
    "    for rev in range(len(unique_reviewer)): \n",
    "    # for rev in range(3):\n",
    "    # list of top 10 items id recommends for user i\n",
    "        TopK += result_df.loc[result_df['reviewer']==unique_reviewer[rev]].sort_values('rating',ascending = False)[:k]['asin'].tolist()\n",
    "    #     print rev\n",
    "    return float(len(set(TopK)))/float(len(unique_item))"
   ]
  },
  {
   "cell_type": "code",
   "execution_count": 28,
   "metadata": {
    "collapsed": true
   },
   "outputs": [],
   "source": [
    "result55 = result(model55,asin55,reviewer55)\n",
    "result0 = result(model0,asin0,reviewer0)\n",
    "result32 = result(model32,asin32,reviewer32)"
   ]
  },
  {
   "cell_type": "code",
   "execution_count": 34,
   "metadata": {
    "collapsed": true
   },
   "outputs": [],
   "source": [
    "k = [2,4,6,8,10]\n",
    "coverage55 = []\n",
    "for i in k:\n",
    "    c = Coverage(result55,i)\n",
    "    coverage55.append(c)"
   ]
  },
  {
   "cell_type": "code",
   "execution_count": 36,
   "metadata": {
    "collapsed": true
   },
   "outputs": [],
   "source": [
    "coverage0 = []\n",
    "coverage32 = []\n",
    "for i in k:\n",
    "    c = Coverage(result0,i)\n",
    "    coverage0.append(c)\n",
    "for i in k:\n",
    "    c = Coverage(result32,i)\n",
    "    coverage32.append(c)"
   ]
  },
  {
   "cell_type": "code",
   "execution_count": 40,
   "metadata": {},
   "outputs": [
    {
     "data": {
      "image/png": "[encoded data removed]",
      "text/plain": [
       "<matplotlib.figure.Figure at 0x1160175d0>"
      ]
     },
     "metadata": {},
     "output_type": "display_data"
    }
   ],
   "source": [
    "import matplotlib.pyplot as plt\n",
    "# %matplotlib inline\n",
    "line_55, = plt.plot(k,coverage55,label = 'category 55 size 30')\n",
    "line_0, = plt.plot(k,coverage0,label = 'category 0 size 60')\n",
    "line_32, = plt.plot(k,coverage32,label = 'category 32 size 110')\n",
    "\n",
    "# for value in in_rMSE.values():\n",
    "#     plt.plot(value[0], value[1], 'ro')\n",
    "plt.xlabel(\"Top K (Number of Item Recommend)\")\n",
    "plt.ylabel(\"Coverage\")\n",
    "plt.title(\"Top K Vs. Coverage\")\n",
    "# plt.ylim([0.5,1.2])\n",
    "plt.legend(handles=[line_55, line_0,line_32])\n",
    "plt.show()"
   ]
  },
  {
   "cell_type": "code",
   "execution_count": 151,
   "metadata": {
    "collapsed": true
   },
   "outputs": [],
   "source": [
    "category = [55,0,32]\n",
    "coverage = []\n",
    "for i in category:\n",
    "    coverage.append(get_coverage(i))"
   ]
  },
  {
   "cell_type": "code",
   "execution_count": 152,
   "metadata": {},
   "outputs": [
    {
     "data": {
      "image/png": "[encoded data removed]",
      "text/plain": [
       "<matplotlib.figure.Figure at 0x18ad65910>"
      ]
     },
     "metadata": {},
     "output_type": "display_data"
    }
   ],
   "source": [
    "import matplotlib.pyplot as plt\n",
    "# %matplotlib inline\n",
    "plt.plot(size,coverage)\n",
    "# for value in in_rMSE.values():\n",
    "#     plt.plot(value[0], value[1], 'ro')\n",
    "plt.xlabel(\"Size of category\")\n",
    "plt.ylabel(\"Coverage\")\n",
    "plt.ylim([0.5,1.2])\n",
    "plt.show()\n",
    "\n"
   ]
  },
  {
   "cell_type": "markdown",
   "metadata": {
    "collapsed": true
   },
   "source": [
    "### Hyper Parameter Tuning Regularization \n",
    "Regualrization Training"
   ]
  },
  {
   "cell_type": "code",
   "execution_count": null,
   "metadata": {
    "collapsed": true
   },
   "outputs": [],
   "source": [
    "# Train Every Model\n",
    "model55 = PMF()\n",
    "fit55 = model55.fit(train55,test55)\n",
    "model0 = PMF()\n",
    "fit0 = model0.fit(train0,test0)\n",
    "model32 = PMF()\n",
    "fit32 = model32.fit(train32,test32)\n"
   ]
  },
  {
   "cell_type": "code",
   "execution_count": null,
   "metadata": {
    "collapsed": true
   },
   "outputs": [],
   "source": [
    "rMSE = {}\n",
    "for i in regular:\n",
    "    # Train PMF\n",
    "    model = PMF(_lambda = i )\n",
    "    fit = model.fit(train_array,test_array)\n",
    "    rMSE[i] = (np.mean(model.err_train))\n",
    "return rMSE"
   ]
  },
  {
   "cell_type": "code",
   "execution_count": 100,
   "metadata": {
    "collapsed": true
   },
   "outputs": [],
   "source": [
    "# select category 0 size 60, 32 size 110, 55 size 30\n",
    "def regularization_train(model,train_array,test_array,regular):#L2\n",
    "    rMSE = {}\n",
    "    for i in regular:\n",
    "        # Train PMF\n",
    "        model = PMF(_lambda = i )\n",
    "        fit = model.fit(train_array,test_array)\n",
    "        rMSE[i] = (np.mean(model.err_train))\n",
    "    return rMSE\n"
   ]
  },
  {
   "cell_type": "code",
   "execution_count": 98,
   "metadata": {
    "collapsed": true
   },
   "outputs": [],
   "source": [
    "cat55=[model55,train55,test55]\n",
    "cat0=[model0,train0,test0]\n",
    "cat32=[model32,train32,test32]\n",
    "category = [cat55,cat0,cat32]"
   ]
  },
  {
   "cell_type": "code",
   "execution_count": 102,
   "metadata": {},
   "outputs": [
    {
     "data": {
      "image/png": "[encoded data removed]",
      "text/plain": [
       "<matplotlib.figure.Figure at 0x187c349d0>"
      ]
     },
     "metadata": {},
     "output_type": "display_data"
    }
   ],
   "source": [
    "size = [30,60,110]\n",
    "lambda_value = [0.2,0.1,0.05,0.01,0.002,0.001,0.0001] # according to paper \n",
    "regular_result = {}\n",
    "for i in range(0,3):\n",
    "    regular_result[size[i]] = regularization_train(category[i][0],category[i][1],category[i][2],lambda_value)\n",
    "lists = sorted(regular_result[30].items()) # sorted by key, return a list of tuples\n",
    "x, y = zip(*lists) # unpack a list of pairs into two tuples\n",
    "line30, = plt.plot(x, y,label = 'category 55 size 30')\n",
    "lists = sorted(regular_result[60].items()) # sorted by key, return a list of tuples\n",
    "x, y = zip(*lists)\n",
    "line60, = plt.plot(x, y,label = 'category 0   size 60')\n",
    "lists = sorted(regular_result[110].items()) # sorted by key, return a list of tuples\n",
    "x, y = zip(*lists)\n",
    "line110, = plt.plot(x, y, label = 'category 32 size 110')\n",
    "plt.xlabel(\"Regularization\")\n",
    "plt.ylabel(\"rMSE\")\n",
    "plt.legend(handles=[line30, line60,line110])\n",
    "plt.show()"
   ]
  },
  {
   "cell_type": "markdown",
   "metadata": {
    "collapsed": true
   },
   "source": [
    "Number of Features"
   ]
  },
  {
   "cell_type": "code",
   "execution_count": 106,
   "metadata": {},
   "outputs": [
    {
     "data": {
      "image/png": "[encoded data removed]",
      "text/plain": [
       "<matplotlib.figure.Figure at 0x188040b90>"
      ]
     },
     "metadata": {},
     "output_type": "display_data"
    }
   ],
   "source": [
    "lists = sorted(feature_result[30].items()) # sorted by key, return a list of tuples\n",
    "x, y = zip(*lists) # unpack a list of pairs into two tuples\n",
    "line30, = plt.plot(x, y,label = 'category 55 size 30')\n",
    "lists = sorted(feature_result[60].items()) # sorted by key, return a list of tuples\n",
    "x, y = zip(*lists)\n",
    "line60, = plt.plot(x, y,label = 'category 0   size 60')\n",
    "lists = sorted(feature_result[110].items()) # sorted by key, return a list of tuples\n",
    "x, y = zip(*lists)\n",
    "line110, = plt.plot(x, y, label = 'category 32 size 110')\n",
    "plt.xlabel(\"Number of Features\")\n",
    "plt.ylabel(\"rMSE\")\n",
    "plt.legend(handles=[line30, line60,line110])\n",
    "plt.xticks([10,20,30,40,50,60,70,80])\n",
    "plt.show()"
   ]
  }
 ],
 "metadata": {
  "kernelspec": {
   "display_name": "Python 2",
   "language": "python",
   "name": "python2"
  },
  "language_info": {
   "codemirror_mode": {
    "name": "ipython",
    "version": 2
   },
   "file_extension": ".py",
   "mimetype": "text/x-python",
   "name": "python",
   "nbconvert_exporter": "python",
   "pygments_lexer": "ipython2",
   "version": "2.7.10"
  }
 },
 "nbformat": 4,
 "nbformat_minor": 2
}
