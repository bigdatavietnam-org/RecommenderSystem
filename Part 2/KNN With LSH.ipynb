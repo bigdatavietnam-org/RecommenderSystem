{
 "cells": [
  {
   "cell_type": "markdown",
   "metadata": {},
   "source": [
    "# Read In History Data"
   ]
  },
  {
   "cell_type": "code",
   "execution_count": 9,
   "metadata": {
    "collapsed": true
   },
   "outputs": [],
   "source": [
    "# load packages that are required\n",
    "from datasketch import MinHash, MinHashLSH\n",
    "import pandas as pd\n",
    "import numpy as np\n",
    "import pickle\n",
    "import time\n",
    "import csv\n",
    "import random as rd\n",
    "from scipy.stats import pearsonr\n",
    "import math"
   ]
  },
  {
   "cell_type": "code",
   "execution_count": 10,
   "metadata": {
    "collapsed": true
   },
   "outputs": [],
   "source": [
    "data = pd.read_csv(\"train_data.csv\")\n",
    "description = pd.read_csv(\"description.csv\")"
   ]
  },
  {
   "cell_type": "code",
   "execution_count": 11,
   "metadata": {
    "collapsed": true
   },
   "outputs": [],
   "source": [
    "with open('kcluster.pickle', 'rb') as handle:\n",
    "    kcluster = pickle.load(handle)"
   ]
  },
  {
   "cell_type": "code",
   "execution_count": 278,
   "metadata": {
    "collapsed": true
   },
   "outputs": [],
   "source": [
    "a = description.loc[kcluster[0]]['asin'].values.tolist()\n",
    "table = data.loc[data['asin'].isin(a)][['asin', 'reviewer', 'star_rating']]\n",
    "df = pd.pivot_table(table, index='reviewer', columns='asin', values='star_rating',fill_value=0)"
   ]
  },
  {
   "cell_type": "markdown",
   "metadata": {},
   "source": [
    "# LSH Candidate Set Calculation"
   ]
  },
  {
   "cell_type": "code",
   "execution_count": 150,
   "metadata": {
    "collapsed": true
   },
   "outputs": [],
   "source": [
    "def getLSHCandidateSets(df, t):\n",
    "    #create LSH objective, one important hyper parameter: threshold for LSH\n",
    "    lsh = MinHashLSH(threshold=t, num_perm=128) \n",
    "    minHashes = pd.Series(index = df.columns)\n",
    "    \n",
    "    #update minhash for every item\n",
    "    for item in df.columns:\n",
    "        minH = MinHash(num_perm = 128)\n",
    "        for rate in df[item]:\n",
    "            minH.update(str(rate).encode('utf8'))\n",
    "        lsh.insert(item, minH)\n",
    "        minHashes.loc[item] = minH\n",
    "    \n",
    "    #query candidate neighbors\n",
    "    candidate_neighbors = {}\n",
    "    for user in df.columns:\n",
    "        candidate_neighbors[user] = lsh.query(minHashes.loc[user])\n",
    "        \n",
    "    return candidate_neighbors"
   ]
  },
  {
   "cell_type": "markdown",
   "metadata": {},
   "source": [
    "# Item Based Collaborative Filtering KNN Model With LSH"
   ]
  },
  {
   "cell_type": "code",
   "execution_count": 257,
   "metadata": {
    "collapsed": true
   },
   "outputs": [],
   "source": [
    "# for evaluating model\n",
    "def item_based_CF_evaluate(train, test, k, t):\n",
    "    #tStart = time.time()\n",
    "    #calculate candidates\n",
    "    candidates = getLSHCandidateSets(train,t)\n",
    "    #print \"Candidates calculated\"\n",
    "    \n",
    "    neighbors = {}\n",
    "    similarity = {}\n",
    "    for item in test.columns:\n",
    "        sim = pd.Series(index = candidates[item])\n",
    "        for c in candidates[item]:\n",
    "            sim.loc[c] = pearsonr(train[item],train[c])[0]\n",
    "        sim = sim.sort_values(ascending=False)[1:k+1]\n",
    "        knn = sim.index\n",
    "        user_index = test[test[item]>0].index\n",
    "        neighbors[item] = pd.DataFrame(index = user_index)\n",
    "        neighbors[item] = neighbors[item].add(train.loc[user_index, knn], axis = 'columns')\n",
    "\n",
    "        similarity[item] = sim\n",
    "    \n",
    "    tuples = []\n",
    "    predict = pd.DataFrame(data= train, dtype=float)\n",
    "    for item in test.columns:\n",
    "        if train[train[item]>0][item].count()==0:\n",
    "            uMean = train.sum().sum()/train[train>0].count().sum()\n",
    "        else:\n",
    "            uMean = train[train[item]>0][item].mean()\n",
    "        for u in neighbors[item].index:\n",
    "            sumSim = sum([abs(similarity[item].loc[nn]) for nn in neighbors[item].columns if train.loc[u,nn]!=0])\n",
    "            if(sumSim > 0):\n",
    "                sumDif = sum([(train.loc[u,nn] - train[train[nn]>0][nn].mean())*similarity[item].loc[nn] for nn in neighbors[item].columns if train.loc[u,nn]!=0])\n",
    "                predict.loc[u,item] = uMean +  sumDif / sumSim\n",
    "            else:\n",
    "                predict.loc[u,item] = uMean\n",
    "\n",
    "            if(predict.loc[u,item] >5):\n",
    "                predict.loc[u,item] = 5\n",
    "            if(predict.loc[u,item] <1):\n",
    "                predict.loc[u,item] = 1\n",
    "            \n",
    "            tuples.append((item,u,predict.loc[u,item],test.loc[u,item]))\n",
    "                \n",
    "    #print 'Time: '+ str(time.time()-tStart)\n",
    "    return predict,tuples"
   ]
  },
  {
   "cell_type": "code",
   "execution_count": 255,
   "metadata": {
    "collapsed": true
   },
   "outputs": [],
   "source": [
    "#for predict unknown ratings\n",
    "from scipy.stats import pearsonr\n",
    "import math\n",
    "def item_based_CF_predict(df, k, t):\n",
    "    #calculate candidates\n",
    "    candidates = getLSHCandidateSets(df,t)\n",
    "    #print 'Candidates calculated'\n",
    "    \n",
    "    neighbors = {}\n",
    "    similarity = {}\n",
    "    for item in df.columns:\n",
    "        sim = pd.Series(index = candidates[item])\n",
    "        for c in candidates[item]:\n",
    "            sim.loc[c] = pearsonr(df[item],df[c])[0]\n",
    "        sim = sim.sort_values(ascending=False)[1:k+1]\n",
    "        knn = sim.index\n",
    "        user_index = df[df[item]==0].index\n",
    "        neighbors[item] = pd.DataFrame(index = user_index)\n",
    "        neighbors[item] = neighbors[item].add(df.loc[user_index, knn], axis = 'columns')\n",
    "\n",
    "        similarity[item] = sim\n",
    "    \n",
    "    #print 'Similarity calculated'\n",
    "    \n",
    "    tuples = []\n",
    "    predict = pd.DataFrame(data= df, dtype=float)\n",
    "\n",
    "    for item in df.columns:\n",
    "        #print item\n",
    "\n",
    "        if df[df[item]>0][item].count()==0:\n",
    "            uMean = df.sum().sum()/df[df>0].count().sum()\n",
    "        else:\n",
    "            uMean = df[df[item]>0][item].mean()\n",
    "        for u in neighbors[item].index:\n",
    "            sumSim = sum([abs(similarity[item].loc[nn]) for nn in neighbors[item].columns if df.loc[u,nn]!=0])\n",
    "            if(sumSim > 0):\n",
    "                sumDif = sum([(df.loc[u,nn] - df[df[nn]>0][nn].mean())*similarity[item].loc[nn] for nn in neighbors[item].columns if df.loc[u,nn]!=0])\n",
    "                predict.loc[u,item] = uMean +  sumDif / sumSim\n",
    "            else:\n",
    "                predict.loc[u,item] = uMean\n",
    "\n",
    "            if(predict.loc[u,item] >5):\n",
    "                predict.loc[u,item] = 5\n",
    "            if(predict.loc[u,item] <1):\n",
    "                predict.loc[u,item] = 1\n",
    "\n",
    "            tuples.append((item,u,predict.loc[u,item]))\n",
    "            \n",
    "    return predict, tuples"
   ]
  },
  {
   "cell_type": "markdown",
   "metadata": {},
   "source": [
    "# Evaluation About Accuracy and Coverage"
   ]
  },
  {
   "cell_type": "markdown",
   "metadata": {},
   "source": [
    "### The accuracy of prediction is measured by two popular error functions: MAE, RMSE. "
   ]
  },
  {
   "cell_type": "markdown",
   "metadata": {},
   "source": [
    "### And the coverage of recommendation is defined as the proportion of items that can be recommended to all users."
   ]
  },
  {
   "cell_type": "code",
   "execution_count": 14,
   "metadata": {
    "collapsed": true
   },
   "outputs": [],
   "source": [
    "#calculate mae of prediction\n",
    "def get_mae(pred, actual):\n",
    "    pred = pred.as_matrix()\n",
    "    actual = actual.as_matrix()\n",
    "    \n",
    "    pred = pred.flatten()[actual.flatten().nonzero()] \n",
    "    actual = actual.flatten()[actual.flatten().nonzero()]\n",
    "    mae = sum(abs(pred - actual)) / len(pred)\n",
    "    return round(mae, 4)"
   ]
  },
  {
   "cell_type": "code",
   "execution_count": 15,
   "metadata": {
    "collapsed": true
   },
   "outputs": [],
   "source": [
    "#calculate rmse of prediction\n",
    "def get_rmse(pred, actual):\n",
    "    pred = pred.as_matrix()\n",
    "    actual = actual.as_matrix()\n",
    "    # Ignore zero terms.\n",
    "    pred = pred.flatten()[actual.flatten().nonzero()] \n",
    "    actual = actual.flatten()[actual.flatten().nonzero()]\n",
    "    rmse = (sum((pred - actual)**2) / len(pred))**0.5\n",
    "    return round(rmse, 4)"
   ]
  },
  {
   "cell_type": "code",
   "execution_count": 280,
   "metadata": {
    "collapsed": true
   },
   "outputs": [],
   "source": [
    "#calculate coverage of recommendation\n",
    "def get_coverage(pred, df, k):\n",
    "    reco = pred - df\n",
    "    item_recommended = []\n",
    "    for user in reco.index:\n",
    "        topk = pred.loc[user,:].sort_values(ascending=False)[0:k].index.tolist()\n",
    "        item_recommended += topk\n",
    "    num_reco = len(set(item_recommended))\n",
    "    num_total = pred.shape[1]\n",
    "    #print num_reco, num_total\n",
    "    return round(float(num_reco) / num_total, 4)"
   ]
  },
  {
   "cell_type": "markdown",
   "metadata": {},
   "source": [
    "### The mean rating for an item is used as the baseline prediction in our project. And KNN with LSH model shows a much higher accuracy than baseline."
   ]
  },
  {
   "cell_type": "code",
   "execution_count": 17,
   "metadata": {
    "collapsed": true
   },
   "outputs": [],
   "source": [
    "def baseline_mae(train,test):    \n",
    "    # build baseline prediction\n",
    "    column_sum = train.sum()\n",
    "    column_num = train[train>0].count()\n",
    "    column_avg = column_sum / column_num  # item mean\n",
    "    pred_array = [column_avg]*train.shape[0]\n",
    "    pred = pd.DataFrame(data = pred_array, index=train.index, columns=train.columns)\n",
    "    \n",
    "    # MAE,RMSE\n",
    "    mae = get_mae(pred, test)\n",
    "    rmse = get_rmse(pred, test)\n",
    "    return 'MAE: ' + str(mae) + ' RMSE: ' + str(rmse)"
   ]
  },
  {
   "cell_type": "code",
   "execution_count": 147,
   "metadata": {},
   "outputs": [
    {
     "data": {
      "text/plain": [
       "'MAE: 1.1008 RMSE: 1.37'"
      ]
     },
     "execution_count": 147,
     "metadata": {},
     "output_type": "execute_result"
    }
   ],
   "source": [
    "baseline_mae(train,test)"
   ]
  },
  {
   "cell_type": "markdown",
   "metadata": {},
   "source": [
    "## Evaluation through cross validation"
   ]
  },
  {
   "cell_type": "code",
   "execution_count": 16,
   "metadata": {
    "collapsed": true
   },
   "outputs": [],
   "source": [
    "# split data into train and test data\n",
    "def split_dataset(df, per):\n",
    "    train = df.copy()\n",
    "    for row in df.index:\n",
    "        col_index = (df.columns.values).tolist()\n",
    "        rd.shuffle(col_index)\n",
    "        # take per test data and (1-per) train data\n",
    "        hidden_index = col_index[0: int(len(col_index)*per)]\n",
    "        for col in hidden_index:\n",
    "            train.loc[row, col] = 0\n",
    "    test = df - train\n",
    "    return train, test "
   ]
  },
  {
   "cell_type": "code",
   "execution_count": 153,
   "metadata": {
    "collapsed": true
   },
   "outputs": [],
   "source": [
    "# divide data into four folders, and take the average result as the final result\n",
    "def algo_evaluation(algo, folders, param1, param2):\n",
    "    # run model\n",
    "    tStart = time.time()\n",
    "    for i in range(0,4):\n",
    "        train, test = folders[i]['train'], folders[i]['test']\n",
    "        pred = algo(train, test, param1, param2)\n",
    "        folders[i]['mae'] = get_mae(pred, test)\n",
    "        folders[i]['rmse'] = get_rmse(pred, test)\n",
    "    \n",
    "    #calculate the average mae,rmse,running time\n",
    "    avg_mae = round((folders[0]['mae']+folders[1]['mae']+folders[2]['mae']+folders[3]['mae'])/4,4)\n",
    "    avg_rmse = round((folders[0]['rmse']+folders[1]['rmse']+folders[2]['rmse']+folders[3]['rmse'])/4,4)\n",
    "    run_time = (time.time()-tStart)\n",
    "    return avg_mae,avg_rmse,run_time"
   ]
  },
  {
   "cell_type": "markdown",
   "metadata": {},
   "source": [
    "## Other Evaluation"
   ]
  },
  {
   "cell_type": "markdown",
   "metadata": {},
   "source": [
    "### First, with the augment of data size, the efficiency performance are taken into our account. So we find the relationship between running time and data size."
   ]
  },
  {
   "cell_type": "code",
   "execution_count": 220,
   "metadata": {
    "collapsed": true
   },
   "outputs": [],
   "source": [
    "def performance_datasize(categoryNum):\n",
    "    time_list = []\n",
    "    \n",
    "    for i in range(0,categoryNum):\n",
    "        a = description.loc[kcluster[i]]['asin'].values.tolist()\n",
    "        table = data.loc[data['asin'].isin(a)][['asin', 'reviewer', 'star_rating']]\n",
    "        df = pd.pivot_table(table, index='reviewer', columns='asin', values='star_rating',fill_value=0)    \n",
    "        if(df.shape[0]<1000 or df.shape[0]>3000):\n",
    "            continue\n",
    "        print i\n",
    "        tStart = time.time()\n",
    "        #train,test = split_dataset(df,0.2)\n",
    "        pred,tuples = item_based_CF_predict(df,10,0.6)\n",
    "        #pred = item_based_CF_evaluate(train,test,10,0.6)\n",
    "        time_list.append([df.shape[1],time.time()-tStart])\n",
    "        \n",
    "    time_df = pd.DataFrame(data = time_list, columns = ['size','time'])\n",
    "        \n",
    "    return time_df"
   ]
  },
  {
   "cell_type": "code",
   "execution_count": 227,
   "metadata": {},
   "outputs": [
    {
     "name": "stderr",
     "output_type": "stream",
     "text": [
      "/Users/jingyiwang/anaconda2/envs/vir/lib/python2.7/site-packages/ipykernel_launcher.py:9: UserWarning: Boolean Series key will be reindexed to match DataFrame index.\n",
      "  if __name__ == '__main__':\n"
     ]
    },
    {
     "data": {
      "image/png": "[encoded data removed]",
      "text/plain": [
       "<matplotlib.figure.Figure at 0x11d9a7d90>"
      ]
     },
     "metadata": {},
     "output_type": "display_data"
    }
   ],
   "source": [
    "import matplotlib.pyplot as plt\n",
    "%matplotlib inline\n",
    "plt.xlabel('Data Size Of Category ')\n",
    "plt.ylabel('Running Time')\n",
    "plt.title('Data Size Of Category Vs. Running Time ')\n",
    "time_list = []\n",
    "\n",
    "for i in range(0,6):\n",
    "    t = time_df[time_df['size'] >i*20][time_df['size']<= (i+1)*20]['time'].mean()\n",
    "    plt.plot((i+1)*20-10, t, 'ro')\n",
    "    \n",
    "plt.axis([0,80,0,100])\n",
    "plt.show()"
   ]
  },
  {
   "cell_type": "markdown",
   "metadata": {},
   "source": [
    "### Seocnd, the coverage  is evaluated according to the number of items we plan to recommend for each user."
   ]
  },
  {
   "cell_type": "code",
   "execution_count": 199,
   "metadata": {
    "collapsed": true
   },
   "outputs": [],
   "source": [
    "# topklist contains the values we want to try\n",
    "def coverage_evaluate(df, topklist):\n",
    "    covlist = []\n",
    "    pred, tuples = item_based_CF_predict(df, 10, 0.6)\n",
    "    for k in topklist:\n",
    "        covlist.append(get_coverage(pred,df,k))\n",
    "    return covlist"
   ]
  },
  {
   "cell_type": "code",
   "execution_count": 281,
   "metadata": {},
   "outputs": [
    {
     "data": {
      "image/png": "[encoded data removed]",
      "text/plain": [
       "<matplotlib.figure.Figure at 0x11ff9fb90>"
      ]
     },
     "metadata": {},
     "output_type": "display_data"
    }
   ],
   "source": [
    "a = description.loc[kcluster[0]]['asin'].values.tolist()\n",
    "table = data.loc[data['asin'].isin(a)][['asin', 'reviewer', 'star_rating']]\n",
    "df = pd.pivot_table(table, index='reviewer', columns='asin', values='star_rating',fill_value=0)\n",
    "topklist = [1,2,3,4,5,6,7,8,9,10]\n",
    "covlist = coverage_evaluate(df, topklist)\n",
    "\n",
    "import matplotlib.pyplot as plt\n",
    "%matplotlib inline\n",
    "plt.xlabel('Number of Recommendation Items')\n",
    "plt.ylabel('Coverage')\n",
    "plt.title('Number of Recommendation Items Vs. Coverage')\n",
    "plt.plot(topklist, covlist)\n",
    "plt.axis([1, 10, 0, 1])\n",
    "plt.show()"
   ]
  },
  {
   "cell_type": "markdown",
   "metadata": {},
   "source": [
    "# Hyper Parameter Tuning"
   ]
  },
  {
   "cell_type": "markdown",
   "metadata": {},
   "source": [
    "## The number of nearest neighbors k is one of the important hyper parameter, and it is an input to the traditional KNN model."
   ]
  },
  {
   "cell_type": "code",
   "execution_count": 109,
   "metadata": {
    "collapsed": true
   },
   "outputs": [],
   "source": [
    "# klist contains the values we want to try\n",
    "def k_neighbor_tune(df, klist):\n",
    "    mae_list = []\n",
    "    rmse_list = []\n",
    "    time_list = []\n",
    "    \n",
    "    #cross_validation: split train data\n",
    "    folders = []\n",
    "    for i in range(0,4):\n",
    "        folders.append({})\n",
    "        train, test = split_dataset(df, 0.2) # 80% train, 20% test\n",
    "        folders[i]['train'] = train\n",
    "        folders[i]['test'] = test\n",
    "    #print \"split completed\"\n",
    "    \n",
    "    for k in klist:\n",
    "        #print k\n",
    "        mae, rmse,runtime = algo_evaluation(item_based_CF_evaluate, folders, k, 0.5)\n",
    "        mae_list.append(mae)\n",
    "        rmse_list.append(rmse)\n",
    "        time_list.append(runtime)\n",
    "        \n",
    "    return mae_list, rmse_list, time_list"
   ]
  },
  {
   "cell_type": "code",
   "execution_count": 120,
   "metadata": {},
   "outputs": [
    {
     "data": {
      "image/png": "[encoded data removed]",
      "text/plain": [
       "<matplotlib.figure.Figure at 0x117048ed0>"
      ]
     },
     "metadata": {},
     "output_type": "display_data"
    }
   ],
   "source": [
    "# use cluster0 as our test data set\n",
    "a = description.loc[kcluster[0]]['asin'].values.tolist()\n",
    "table = data.loc[data['asin'].isin(a)][['asin', 'reviewer', 'star_rating']]\n",
    "df = pd.pivot_table(table, index='reviewer', columns='asin', values='star_rating',fill_value=0)\n",
    "klist = [1,2,3,4,5,6,7,8,9,10,11,12,13,14,15,16,17,18,19,20,21,22,23,24,25,26,27,28,29,30]\n",
    "mae_list,rmse_list,time_list = k_neighbor_tune(df, klist)\n",
    "\n",
    "import matplotlib.pyplot as plt\n",
    "%matplotlib inline\n",
    "plt.xlabel('K Nearest Neighbor ')\n",
    "plt.ylabel('MAE')\n",
    "plt.title('K Nearest Neighbor Vs. MAE ')\n",
    "plt.plot(klist, mae_list)\n",
    "plt.axis([klist[0], klist[len(klist)-1], 1.08, 1.10])\n",
    "plt.show()"
   ]
  },
  {
   "cell_type": "code",
   "execution_count": 125,
   "metadata": {},
   "outputs": [
    {
     "data": {
      "image/png": "[encoded data removed]",
      "text/plain": [
       "<matplotlib.figure.Figure at 0x118f8ff10>"
      ]
     },
     "metadata": {},
     "output_type": "display_data"
    }
   ],
   "source": [
    "import matplotlib.pyplot as plt\n",
    "%matplotlib inline\n",
    "plt.xlabel('K Nearest Neighbor ')\n",
    "plt.ylabel('RMSE')\n",
    "plt.title('K Nearest Neighbor Vs. RMSE ')\n",
    "plt.plot(klist, rmse_list)\n",
    "plt.axis([klist[0], klist[len(klist)-1], 1.35, 1.37])\n",
    "plt.show()"
   ]
  },
  {
   "cell_type": "code",
   "execution_count": 145,
   "metadata": {},
   "outputs": [
    {
     "data": {
      "image/png": "[encoded data removed]",
      "text/plain": [
       "<matplotlib.figure.Figure at 0x1167dd3d0>"
      ]
     },
     "metadata": {},
     "output_type": "display_data"
    }
   ],
   "source": [
    "import matplotlib.pyplot as plt\n",
    "%matplotlib inline\n",
    "plt.xlabel('K Nearest Neighbor ')\n",
    "plt.ylabel('Running Time')\n",
    "plt.title('K Nearest Neighbor Vs. Running Time ')\n",
    "plt.plot(klist, time_list)\n",
    "plt.axis([klist[0], klist[len(klist)-1], 8, 15])\n",
    "plt.show()"
   ]
  },
  {
   "cell_type": "markdown",
   "metadata": {},
   "source": [
    "## Threshold for LSH is the other hyper parameter we have interest in, which has influence on the size of candidate sets."
   ]
  },
  {
   "cell_type": "code",
   "execution_count": 152,
   "metadata": {
    "collapsed": true
   },
   "outputs": [],
   "source": [
    "# tlist contains the values we want to try\n",
    "def threshold_tune(df, tlist):\n",
    "    mae_list = []\n",
    "    rmse_list = []\n",
    "    time_list = []\n",
    "    \n",
    "    #cross_validation: split train data\n",
    "    folders = []\n",
    "    for i in range(0,4):\n",
    "        folders.append({})\n",
    "        train, test = split_dataset(df, 0.2) # 80% train, 20% test\n",
    "        folders[i]['train'] = train\n",
    "        folders[i]['test'] = test\n",
    "    #print \"split completed\"\n",
    "    \n",
    "    for t in tlist:\n",
    "        #print t\n",
    "        mae, rmse,runtime = algo_evaluation(item_based_CF_evaluate, folders, 10, t)\n",
    "        mae_list.append(mae)\n",
    "        rmse_list.append(rmse)\n",
    "        time_list.append(runtime)\n",
    "        \n",
    "    return mae_list, rmse_list, time_list"
   ]
  },
  {
   "cell_type": "code",
   "execution_count": 161,
   "metadata": {},
   "outputs": [
    {
     "data": {
      "image/png": "[encoded data removed]",
      "text/plain": [
       "<matplotlib.figure.Figure at 0x11859ead0>"
      ]
     },
     "metadata": {},
     "output_type": "display_data"
    }
   ],
   "source": [
    "# use cluster0 as our test data set\n",
    "a = description.loc[kcluster[0]]['asin'].values.tolist()\n",
    "table = data.loc[data['asin'].isin(a)][['asin', 'reviewer', 'star_rating']]\n",
    "df = pd.pivot_table(table, index='reviewer', columns='asin', values='star_rating',fill_value=0)\n",
    "tlist = [0.1,0.2,0.3,0.4,0.5,0.6,0.7,0.8,0.9]\n",
    "mae_list,rmse_list,time_list = threshold_tune(df, tlist)\n",
    "\n",
    "import matplotlib.pyplot as plt\n",
    "%matplotlib inline\n",
    "plt.xlabel('Threshold For LSH ')\n",
    "plt.ylabel('MAE')\n",
    "plt.title('Threshold For LSH Vs. MAE ')\n",
    "plt.plot(tlist, mae_list)\n",
    "plt.axis([tlist[0], tlist[len(tlist)-1], 1.05, 1.07])\n",
    "plt.show()"
   ]
  },
  {
   "cell_type": "code",
   "execution_count": 167,
   "metadata": {},
   "outputs": [
    {
     "data": {
      "image/png": "[encoded data removed]",
      "text/plain": [
       "<matplotlib.figure.Figure at 0x1188579d0>"
      ]
     },
     "metadata": {},
     "output_type": "display_data"
    }
   ],
   "source": [
    "import matplotlib.pyplot as plt\n",
    "%matplotlib inline\n",
    "plt.xlabel('Threshold For LSH ')\n",
    "plt.ylabel('RMSE')\n",
    "plt.title('Threshold For LSH Vs. RMSE ')\n",
    "plt.plot(tlist, rmse_list)\n",
    "plt.axis([tlist[0], tlist[len(tlist)-1], 1.32, 1.34])\n",
    "plt.show()"
   ]
  },
  {
   "cell_type": "code",
   "execution_count": 171,
   "metadata": {},
   "outputs": [
    {
     "data": {
      "image/png": "[encoded data removed]",
      "text/plain": [
       "<matplotlib.figure.Figure at 0x10fc51cd0>"
      ]
     },
     "metadata": {},
     "output_type": "display_data"
    }
   ],
   "source": [
    "import matplotlib.pyplot as plt\n",
    "%matplotlib inline\n",
    "plt.xlabel('Threshold For LSH ')\n",
    "plt.ylabel('Running Time')\n",
    "plt.title('Threshold For LSH Vs. Running Time ')\n",
    "plt.plot(tlist, time_list)\n",
    "plt.axis([tlist[0], tlist[len(tlist)-1], 7.5, 15])\n",
    "plt.show()"
   ]
  },
  {
   "cell_type": "markdown",
   "metadata": {},
   "source": [
    "# Offline prediction computation for hybrid model"
   ]
  },
  {
   "cell_type": "code",
   "execution_count": 108,
   "metadata": {
    "collapsed": true
   },
   "outputs": [],
   "source": [
    "# in category file\n",
    "def in_category_LSH_kNN_predict():\n",
    "    output = dict()\n",
    "    for i in range(0,100):\n",
    "        print i\n",
    "        a = description.loc[kcluster[i]]['asin'].values.tolist()\n",
    "        table = data.loc[data['asin'].isin(a)][['asin', 'reviewer', 'star_rating']]\n",
    "        df = pd.pivot_table(table, index='reviewer', columns='asin', values='star_rating',fill_value=0)\n",
    "        \n",
    "        pred, output[i] = item_based_CF_predict(df, 10)\n",
    "        \n",
    "    with open('within_category_result.csv','wb') as out:\n",
    "        csv_out=csv.writer(out)\n",
    "        csv_out.writerow(['reviewer','asin','rating'])\n",
    "        for key in output.keys():\n",
    "            for row in output[key]:\n",
    "                csv_out.writerow(row)\n",
    "        "
   ]
  },
  {
   "cell_type": "code",
   "execution_count": 17,
   "metadata": {
    "collapsed": true
   },
   "outputs": [],
   "source": [
    "# cross category file\n",
    "def cross_category_LSH_kNN_predict():\n",
    "    data = pd.read_csv('df_101.csv',index_col = 'cluster')\n",
    "    df = data.T\n",
    "    pred, output = item_based_CF_predict(df,10)\n",
    "    with open('inclass_result.csv','wb') as out:\n",
    "        csv_out=csv.writer(out)\n",
    "        csv_out.writerow(['reviewer','cluster','rating'])\n",
    "        for row in output:\n",
    "            csv_out.writerow(row)"
   ]
  },
  {
   "cell_type": "code",
   "execution_count": null,
   "metadata": {
    "collapsed": true
   },
   "outputs": [],
   "source": []
  }
 ],
 "metadata": {
  "kernelspec": {
   "display_name": "Python 2",
   "language": "python",
   "name": "python2"
  },
  "language_info": {
   "codemirror_mode": {
    "name": "ipython",
    "version": 2
   },
   "file_extension": ".py",
   "mimetype": "text/x-python",
   "name": "python",
   "nbconvert_exporter": "python",
   "pygments_lexer": "ipython2",
   "version": "2.7.10"
  }
 },
 "nbformat": 4,
 "nbformat_minor": 2
}
