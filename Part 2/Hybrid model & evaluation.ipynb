{
 "cells": [
  {
   "cell_type": "code",
   "execution_count": 1,
   "metadata": {
    "collapsed": true
   },
   "outputs": [],
   "source": [
    "import pandas as pd"
   ]
  },
  {
   "cell_type": "markdown",
   "metadata": {},
   "source": [
    "## Reading data"
   ]
  },
  {
   "cell_type": "code",
   "execution_count": 3,
   "metadata": {
    "collapsed": false
   },
   "outputs": [],
   "source": [
    "lsh_knn_in_category = pd.read_csv('/Users/leshensui/Documents/lsh_knn_test_in_category.csv',index_col='Unnamed: 0')\n",
    "lsh_knn_cross_category = pd.read_csv('/Users/leshensui/Documents/knn_test_cross_category.csv',index_col='Unnamed: 0')"
   ]
  },
  {
   "cell_type": "code",
   "execution_count": 4,
   "metadata": {
    "collapsed": false
   },
   "outputs": [
    {
     "data": {
      "text/html": [
       "<div>\n",
       "<table border=\"1\" class=\"dataframe\">\n",
       "  <thead>\n",
       "    <tr style=\"text-align: right;\">\n",
       "      <th></th>\n",
       "      <th>asin</th>\n",
       "      <th>reviewer</th>\n",
       "      <th>star_rating</th>\n",
       "      <th>predicted_star_rating</th>\n",
       "    </tr>\n",
       "  </thead>\n",
       "  <tbody>\n",
       "    <tr>\n",
       "      <th>506872</th>\n",
       "      <td>B00AHJL7BK</td>\n",
       "      <td>AUZT1BKOT0MJZ</td>\n",
       "      <td>5</td>\n",
       "      <td>4.721125</td>\n",
       "    </tr>\n",
       "    <tr>\n",
       "      <th>506874</th>\n",
       "      <td>B00AHJL7BK</td>\n",
       "      <td>A3AFWRNSCECGZQ</td>\n",
       "      <td>5</td>\n",
       "      <td>5.000000</td>\n",
       "    </tr>\n",
       "    <tr>\n",
       "      <th>506875</th>\n",
       "      <td>B00AHJL7BK</td>\n",
       "      <td>A25V3I11KU10YC</td>\n",
       "      <td>5</td>\n",
       "      <td>3.697503</td>\n",
       "    </tr>\n",
       "    <tr>\n",
       "      <th>506879</th>\n",
       "      <td>B00AHJL7BK</td>\n",
       "      <td>AGGY7B27PT3S4</td>\n",
       "      <td>4</td>\n",
       "      <td>1.815086</td>\n",
       "    </tr>\n",
       "    <tr>\n",
       "      <th>506880</th>\n",
       "      <td>B00AHJL7BK</td>\n",
       "      <td>AV2AVZYXM9VQU</td>\n",
       "      <td>5</td>\n",
       "      <td>5.000000</td>\n",
       "    </tr>\n",
       "  </tbody>\n",
       "</table>\n",
       "</div>"
      ],
      "text/plain": [
       "              asin        reviewer  star_rating  predicted_star_rating\n",
       "506872  B00AHJL7BK   AUZT1BKOT0MJZ            5               4.721125\n",
       "506874  B00AHJL7BK  A3AFWRNSCECGZQ            5               5.000000\n",
       "506875  B00AHJL7BK  A25V3I11KU10YC            5               3.697503\n",
       "506879  B00AHJL7BK   AGGY7B27PT3S4            4               1.815086\n",
       "506880  B00AHJL7BK   AV2AVZYXM9VQU            5               5.000000"
      ]
     },
     "execution_count": 4,
     "metadata": {},
     "output_type": "execute_result"
    }
   ],
   "source": [
    "lsh_knn_in_category.head()"
   ]
  },
  {
   "cell_type": "code",
   "execution_count": 6,
   "metadata": {
    "collapsed": false
   },
   "outputs": [
    {
     "data": {
      "text/html": [
       "<div>\n",
       "<table border=\"1\" class=\"dataframe\">\n",
       "  <thead>\n",
       "    <tr style=\"text-align: right;\">\n",
       "      <th></th>\n",
       "      <th>asin</th>\n",
       "      <th>rating</th>\n",
       "      <th>cluster</th>\n",
       "      <th>predicted_star_rating</th>\n",
       "    </tr>\n",
       "  </thead>\n",
       "  <tbody>\n",
       "    <tr>\n",
       "      <th>0</th>\n",
       "      <td>A1KQ9NR16ZQUTA</td>\n",
       "      <td>5.0</td>\n",
       "      <td>cluster83</td>\n",
       "      <td>4.076354</td>\n",
       "    </tr>\n",
       "    <tr>\n",
       "      <th>1</th>\n",
       "      <td>A1KQAQGN60CN8W</td>\n",
       "      <td>4.0</td>\n",
       "      <td>cluster83</td>\n",
       "      <td>4.759733</td>\n",
       "    </tr>\n",
       "    <tr>\n",
       "      <th>2</th>\n",
       "      <td>A1KQJXO8H4U02V</td>\n",
       "      <td>4.0</td>\n",
       "      <td>cluster83</td>\n",
       "      <td>5.000000</td>\n",
       "    </tr>\n",
       "    <tr>\n",
       "      <th>3</th>\n",
       "      <td>A1KVS0QHQQC65S</td>\n",
       "      <td>2.5</td>\n",
       "      <td>cluster83</td>\n",
       "      <td>1.000000</td>\n",
       "    </tr>\n",
       "    <tr>\n",
       "      <th>4</th>\n",
       "      <td>A1KYRCK3TJP81P</td>\n",
       "      <td>3.0</td>\n",
       "      <td>cluster83</td>\n",
       "      <td>4.061561</td>\n",
       "    </tr>\n",
       "  </tbody>\n",
       "</table>\n",
       "</div>"
      ],
      "text/plain": [
       "             asin  rating    cluster  predicted_star_rating\n",
       "0  A1KQ9NR16ZQUTA     5.0  cluster83               4.076354\n",
       "1  A1KQAQGN60CN8W     4.0  cluster83               4.759733\n",
       "2  A1KQJXO8H4U02V     4.0  cluster83               5.000000\n",
       "3  A1KVS0QHQQC65S     2.5  cluster83               1.000000\n",
       "4  A1KYRCK3TJP81P     3.0  cluster83               4.061561"
      ]
     },
     "execution_count": 6,
     "metadata": {},
     "output_type": "execute_result"
    }
   ],
   "source": [
    "lsh_knn_cross_category.head()"
   ]
  },
  {
   "cell_type": "code",
   "execution_count": 37,
   "metadata": {
    "collapsed": false
   },
   "outputs": [],
   "source": [
    "fm_cross_category = pd.read_csv('/Users/leshensui/Documents/mf_test_cross_category.csv', index_col='Unnamed: 0')\n",
    "fm_in_category = pd.read_csv('/Users/leshensui/Documents/mf_test_in_category.csv', index_col='Unnamed: 0')"
   ]
  },
  {
   "cell_type": "code",
   "execution_count": 38,
   "metadata": {
    "collapsed": false
   },
   "outputs": [
    {
     "data": {
      "text/html": [
       "<div>\n",
       "<table border=\"1\" class=\"dataframe\">\n",
       "  <thead>\n",
       "    <tr style=\"text-align: right;\">\n",
       "      <th></th>\n",
       "      <th>asin</th>\n",
       "      <th>rating</th>\n",
       "      <th>cluster</th>\n",
       "      <th>predicted_star_rating</th>\n",
       "    </tr>\n",
       "  </thead>\n",
       "  <tbody>\n",
       "    <tr>\n",
       "      <th>0</th>\n",
       "      <td>A1KQ9NR16ZQUTA</td>\n",
       "      <td>5.0</td>\n",
       "      <td>cluster83</td>\n",
       "      <td>4.654613</td>\n",
       "    </tr>\n",
       "    <tr>\n",
       "      <th>1</th>\n",
       "      <td>A1KQAQGN60CN8W</td>\n",
       "      <td>4.0</td>\n",
       "      <td>cluster83</td>\n",
       "      <td>5.000000</td>\n",
       "    </tr>\n",
       "    <tr>\n",
       "      <th>2</th>\n",
       "      <td>A1KQJXO8H4U02V</td>\n",
       "      <td>4.0</td>\n",
       "      <td>cluster83</td>\n",
       "      <td>3.311869</td>\n",
       "    </tr>\n",
       "    <tr>\n",
       "      <th>3</th>\n",
       "      <td>A1KVS0QHQQC65S</td>\n",
       "      <td>2.5</td>\n",
       "      <td>cluster83</td>\n",
       "      <td>1.584166</td>\n",
       "    </tr>\n",
       "    <tr>\n",
       "      <th>4</th>\n",
       "      <td>A1KYRCK3TJP81P</td>\n",
       "      <td>3.0</td>\n",
       "      <td>cluster83</td>\n",
       "      <td>1.747179</td>\n",
       "    </tr>\n",
       "  </tbody>\n",
       "</table>\n",
       "</div>"
      ],
      "text/plain": [
       "             asin  rating    cluster  predicted_star_rating\n",
       "0  A1KQ9NR16ZQUTA     5.0  cluster83               4.654613\n",
       "1  A1KQAQGN60CN8W     4.0  cluster83               5.000000\n",
       "2  A1KQJXO8H4U02V     4.0  cluster83               3.311869\n",
       "3  A1KVS0QHQQC65S     2.5  cluster83               1.584166\n",
       "4  A1KYRCK3TJP81P     3.0  cluster83               1.747179"
      ]
     },
     "execution_count": 38,
     "metadata": {},
     "output_type": "execute_result"
    }
   ],
   "source": [
    "fm_cross_category.head()"
   ]
  },
  {
   "cell_type": "code",
   "execution_count": 39,
   "metadata": {
    "collapsed": false
   },
   "outputs": [
    {
     "data": {
      "text/html": [
       "<div>\n",
       "<table border=\"1\" class=\"dataframe\">\n",
       "  <thead>\n",
       "    <tr style=\"text-align: right;\">\n",
       "      <th></th>\n",
       "      <th>asin</th>\n",
       "      <th>reviewer</th>\n",
       "      <th>star_rating</th>\n",
       "      <th>predicted_star_rating</th>\n",
       "    </tr>\n",
       "  </thead>\n",
       "  <tbody>\n",
       "    <tr>\n",
       "      <th>506872</th>\n",
       "      <td>B00AHJL7BK</td>\n",
       "      <td>AUZT1BKOT0MJZ</td>\n",
       "      <td>5</td>\n",
       "      <td>4.435138</td>\n",
       "    </tr>\n",
       "    <tr>\n",
       "      <th>506874</th>\n",
       "      <td>B00AHJL7BK</td>\n",
       "      <td>A3AFWRNSCECGZQ</td>\n",
       "      <td>5</td>\n",
       "      <td>3.219350</td>\n",
       "    </tr>\n",
       "    <tr>\n",
       "      <th>506875</th>\n",
       "      <td>B00AHJL7BK</td>\n",
       "      <td>A25V3I11KU10YC</td>\n",
       "      <td>5</td>\n",
       "      <td>5.000000</td>\n",
       "    </tr>\n",
       "    <tr>\n",
       "      <th>506879</th>\n",
       "      <td>B00AHJL7BK</td>\n",
       "      <td>AGGY7B27PT3S4</td>\n",
       "      <td>4</td>\n",
       "      <td>2.781746</td>\n",
       "    </tr>\n",
       "    <tr>\n",
       "      <th>506880</th>\n",
       "      <td>B00AHJL7BK</td>\n",
       "      <td>AV2AVZYXM9VQU</td>\n",
       "      <td>5</td>\n",
       "      <td>4.340321</td>\n",
       "    </tr>\n",
       "  </tbody>\n",
       "</table>\n",
       "</div>"
      ],
      "text/plain": [
       "              asin        reviewer  star_rating  predicted_star_rating\n",
       "506872  B00AHJL7BK   AUZT1BKOT0MJZ            5               4.435138\n",
       "506874  B00AHJL7BK  A3AFWRNSCECGZQ            5               3.219350\n",
       "506875  B00AHJL7BK  A25V3I11KU10YC            5               5.000000\n",
       "506879  B00AHJL7BK   AGGY7B27PT3S4            4               2.781746\n",
       "506880  B00AHJL7BK   AV2AVZYXM9VQU            5               4.340321"
      ]
     },
     "execution_count": 39,
     "metadata": {},
     "output_type": "execute_result"
    }
   ],
   "source": [
    "fm_in_category.head()"
   ]
  },
  {
   "cell_type": "code",
   "execution_count": 23,
   "metadata": {
    "collapsed": true
   },
   "outputs": [],
   "source": [
    "pmf_cross_category = pd.read_csv('/Users/leshensui/Documents/pmf_test_cross_category.csv',index_col='Unnamed: 0')\n",
    "pmf_in_category = pd.read_csv('/Users/leshensui/Documents/pmf_test_in_category.csv',index_col='Unnamed: 0')"
   ]
  },
  {
   "cell_type": "code",
   "execution_count": 24,
   "metadata": {
    "collapsed": false
   },
   "outputs": [
    {
     "data": {
      "text/html": [
       "<div>\n",
       "<table border=\"1\" class=\"dataframe\">\n",
       "  <thead>\n",
       "    <tr style=\"text-align: right;\">\n",
       "      <th></th>\n",
       "      <th>asin</th>\n",
       "      <th>rating</th>\n",
       "      <th>cluster</th>\n",
       "      <th>predicted_star_rating</th>\n",
       "    </tr>\n",
       "  </thead>\n",
       "  <tbody>\n",
       "    <tr>\n",
       "      <th>0</th>\n",
       "      <td>A1KQ9NR16ZQUTA</td>\n",
       "      <td>5.0</td>\n",
       "      <td>cluster83</td>\n",
       "      <td>3.796796</td>\n",
       "    </tr>\n",
       "    <tr>\n",
       "      <th>1</th>\n",
       "      <td>A1KQAQGN60CN8W</td>\n",
       "      <td>4.0</td>\n",
       "      <td>cluster83</td>\n",
       "      <td>3.248944</td>\n",
       "    </tr>\n",
       "    <tr>\n",
       "      <th>2</th>\n",
       "      <td>A1KQJXO8H4U02V</td>\n",
       "      <td>4.0</td>\n",
       "      <td>cluster83</td>\n",
       "      <td>2.272191</td>\n",
       "    </tr>\n",
       "    <tr>\n",
       "      <th>3</th>\n",
       "      <td>A1KVS0QHQQC65S</td>\n",
       "      <td>2.5</td>\n",
       "      <td>cluster83</td>\n",
       "      <td>5.000000</td>\n",
       "    </tr>\n",
       "    <tr>\n",
       "      <th>4</th>\n",
       "      <td>A1KYRCK3TJP81P</td>\n",
       "      <td>3.0</td>\n",
       "      <td>cluster83</td>\n",
       "      <td>1.000000</td>\n",
       "    </tr>\n",
       "  </tbody>\n",
       "</table>\n",
       "</div>"
      ],
      "text/plain": [
       "             asin  rating    cluster  predicted_star_rating\n",
       "0  A1KQ9NR16ZQUTA     5.0  cluster83               3.796796\n",
       "1  A1KQAQGN60CN8W     4.0  cluster83               3.248944\n",
       "2  A1KQJXO8H4U02V     4.0  cluster83               2.272191\n",
       "3  A1KVS0QHQQC65S     2.5  cluster83               5.000000\n",
       "4  A1KYRCK3TJP81P     3.0  cluster83               1.000000"
      ]
     },
     "execution_count": 24,
     "metadata": {},
     "output_type": "execute_result"
    }
   ],
   "source": [
    "pmf_cross_category.head()"
   ]
  },
  {
   "cell_type": "code",
   "execution_count": 25,
   "metadata": {
    "collapsed": false
   },
   "outputs": [
    {
     "data": {
      "text/html": [
       "<div>\n",
       "<table border=\"1\" class=\"dataframe\">\n",
       "  <thead>\n",
       "    <tr style=\"text-align: right;\">\n",
       "      <th></th>\n",
       "      <th>asin</th>\n",
       "      <th>reviewer</th>\n",
       "      <th>star_rating</th>\n",
       "      <th>predicted_star_rating</th>\n",
       "    </tr>\n",
       "  </thead>\n",
       "  <tbody>\n",
       "    <tr>\n",
       "      <th>506872</th>\n",
       "      <td>B00AHJL7BK</td>\n",
       "      <td>AUZT1BKOT0MJZ</td>\n",
       "      <td>5</td>\n",
       "      <td>1.491414</td>\n",
       "    </tr>\n",
       "    <tr>\n",
       "      <th>506874</th>\n",
       "      <td>B00AHJL7BK</td>\n",
       "      <td>A3AFWRNSCECGZQ</td>\n",
       "      <td>5</td>\n",
       "      <td>4.534819</td>\n",
       "    </tr>\n",
       "    <tr>\n",
       "      <th>506875</th>\n",
       "      <td>B00AHJL7BK</td>\n",
       "      <td>A25V3I11KU10YC</td>\n",
       "      <td>5</td>\n",
       "      <td>5.000000</td>\n",
       "    </tr>\n",
       "    <tr>\n",
       "      <th>506879</th>\n",
       "      <td>B00AHJL7BK</td>\n",
       "      <td>AGGY7B27PT3S4</td>\n",
       "      <td>4</td>\n",
       "      <td>5.000000</td>\n",
       "    </tr>\n",
       "    <tr>\n",
       "      <th>506880</th>\n",
       "      <td>B00AHJL7BK</td>\n",
       "      <td>AV2AVZYXM9VQU</td>\n",
       "      <td>5</td>\n",
       "      <td>5.000000</td>\n",
       "    </tr>\n",
       "  </tbody>\n",
       "</table>\n",
       "</div>"
      ],
      "text/plain": [
       "              asin        reviewer  star_rating  predicted_star_rating\n",
       "506872  B00AHJL7BK   AUZT1BKOT0MJZ            5               1.491414\n",
       "506874  B00AHJL7BK  A3AFWRNSCECGZQ            5               4.534819\n",
       "506875  B00AHJL7BK  A25V3I11KU10YC            5               5.000000\n",
       "506879  B00AHJL7BK   AGGY7B27PT3S4            4               5.000000\n",
       "506880  B00AHJL7BK   AV2AVZYXM9VQU            5               5.000000"
      ]
     },
     "execution_count": 25,
     "metadata": {},
     "output_type": "execute_result"
    }
   ],
   "source": [
    "pmf_in_category.head()"
   ]
  },
  {
   "cell_type": "markdown",
   "metadata": {},
   "source": [
    "## Hybrid models\n",
    "\n",
    "First, predict star rating by averaging predicted values from 3 models:"
   ]
  },
  {
   "cell_type": "code",
   "execution_count": 51,
   "metadata": {
    "collapsed": false
   },
   "outputs": [],
   "source": [
    "from sklearn.metrics import mean_squared_error\n",
    "\n",
    "def computeMSE(test_df, true, predicted):\n",
    "    return mean_squared_error(test_df[true], test_df[predicted])"
   ]
  },
  {
   "cell_type": "code",
   "execution_count": 50,
   "metadata": {
    "collapsed": false
   },
   "outputs": [],
   "source": [
    "knn_in = lsh_knn_in_category['predicted_star_rating'].values.tolist()\n",
    "knn_cross = lsh_knn_cross_category['predicted_star_rating'].values.tolist()\n",
    "fm_in = fm_in_category['predicted_star_rating'].values.tolist()\n",
    "fm_cross = fm_cross_category['predicted_star_rating'].values.tolist()\n",
    "pmf_cross = pmf_cross_category['predicted_star_rating'].values.tolist()\n",
    "pmf_in = pmf_in_category['predicted_star_rating'].values.tolist()"
   ]
  },
  {
   "cell_type": "code",
   "execution_count": 62,
   "metadata": {
    "collapsed": false
   },
   "outputs": [
    {
     "data": {
      "text/plain": [
       "0.6208419357400996"
      ]
     },
     "execution_count": 62,
     "metadata": {},
     "output_type": "execute_result"
    }
   ],
   "source": [
    "average_in = []\n",
    "for i in range(len(knn_in)):\n",
    "    average_in.append(sum([knn_in[i], fm_in[i], pmf_in[i]])/3.0)\n",
    "mean_squared_error(pmf_in_category['star_rating'].values.tolist(), average_in)"
   ]
  },
  {
   "cell_type": "code",
   "execution_count": 63,
   "metadata": {
    "collapsed": false
   },
   "outputs": [
    {
     "data": {
      "text/plain": [
       "0.70689193349817814"
      ]
     },
     "execution_count": 63,
     "metadata": {},
     "output_type": "execute_result"
    }
   ],
   "source": [
    "average_cross = []\n",
    "for i in range(len(knn_cross)):\n",
    "    average_cross.append(sum([knn_cross[i], fm_cross[i], pmf_cross[i]])/3.0)\n",
    "mean_squared_error(pmf_cross_category['rating'].values.tolist(), average_cross)"
   ]
  },
  {
   "cell_type": "markdown",
   "metadata": {},
   "source": [
    "Then, predict star rating by weighted average result of three models, and the weight is inverse proportional to the MSE. Smaller weight is given for a model if it produce a larger MSE"
   ]
  },
  {
   "cell_type": "code",
   "execution_count": 46,
   "metadata": {
    "collapsed": false
   },
   "outputs": [],
   "source": [
    "pair_PMF = (computeMSE(pmf_cross_category, 'rating', 'predicted_star_rating'), computeMSE(pmf_in_category, 'star_rating', 'predicted_star_rating'))\n",
    "pair_FM = (computeMSE(fm_cross_category, 'rating', 'predicted_star_rating'), computeMSE(fm_in_category, 'star_rating', 'predicted_star_rating'))\n",
    "pair_KNN = (computeMSE(lsh_knn_cross_category, 'rating', 'predicted_star_rating'), computeMSE(lsh_knn_in_category, 'star_rating', 'predicted_star_rating'))"
   ]
  },
  {
   "cell_type": "code",
   "execution_count": 44,
   "metadata": {
    "collapsed": false
   },
   "outputs": [
    {
     "data": {
      "text/plain": [
       "(1.3624306995623328, 1.1399043455569755)"
      ]
     },
     "execution_count": 44,
     "metadata": {},
     "output_type": "execute_result"
    }
   ],
   "source": [
    "pair_PMF"
   ]
  },
  {
   "cell_type": "code",
   "execution_count": 47,
   "metadata": {
    "collapsed": false
   },
   "outputs": [
    {
     "data": {
      "text/plain": [
       "(1.5889863154633381, 1.2072096277920572)"
      ]
     },
     "execution_count": 47,
     "metadata": {},
     "output_type": "execute_result"
    }
   ],
   "source": [
    "pair_FM"
   ]
  },
  {
   "cell_type": "code",
   "execution_count": 48,
   "metadata": {
    "collapsed": false
   },
   "outputs": [
    {
     "data": {
      "text/plain": [
       "(1.6238693117910428, 1.9163535577098219)"
      ]
     },
     "execution_count": 48,
     "metadata": {},
     "output_type": "execute_result"
    }
   ],
   "source": [
    "pair_KNN"
   ]
  },
  {
   "cell_type": "code",
   "execution_count": null,
   "metadata": {
    "collapsed": true
   },
   "outputs": [],
   "source": [
    "def compute_weight(MSE1, MSE2, MSE3):\n",
    "    weight1 = (1/MSE1)/(1/MSE1 + 1/MSE2 + 1/MSE3)\n",
    "    weight2 = (1/MSE2)/(1/MSE1 + 1/MSE2 + 1/MSE3)\n",
    "    weight3 = (1/MSE3)/(1/MSE1 + 1/MSE2 + 1/MSE3)\n",
    "    return weight1, weight2, weight3"
   ]
  },
  {
   "cell_type": "code",
   "execution_count": 58,
   "metadata": {
    "collapsed": false
   },
   "outputs": [],
   "source": [
    "weight_cross = compute_weight(pair_PMF[0], pair_FM[0], pair_KNN[0])\n",
    "weight_in = compute_weight(pair_PMF[1], pair_FM[1], pair_KNN[1])"
   ]
  },
  {
   "cell_type": "code",
   "execution_count": 61,
   "metadata": {
    "collapsed": false
   },
   "outputs": [
    {
     "data": {
      "text/plain": [
       "0.5866853897342823"
      ]
     },
     "execution_count": 61,
     "metadata": {},
     "output_type": "execute_result"
    }
   ],
   "source": [
    "weighted_average_in = []\n",
    "for i in range(len(knn_in)):\n",
    "    weighted_average_in.append(weight_in[0]*pmf_in[i]+weight_in[1]*fm_in[i]+weight_in[2]*knn_in[i])\n",
    "mean_squared_error(pmf_in_category['star_rating'].values.tolist(), weighted_average_in)"
   ]
  },
  {
   "cell_type": "code",
   "execution_count": 65,
   "metadata": {
    "collapsed": false
   },
   "outputs": [
    {
     "data": {
      "text/plain": [
       "0.7022482732216706"
      ]
     },
     "execution_count": 65,
     "metadata": {},
     "output_type": "execute_result"
    }
   ],
   "source": [
    "weighted_average_cross = []\n",
    "for i in range(len(knn_cross)):\n",
    "    weighted_average_cross.append(weight_cross[0]*pmf_cross[i]+weight_cross[1]*fm_cross[i]+weight_cross[2]*knn_cross[i])\n",
    "mean_squared_error(pmf_cross_category['rating'].values.tolist(), weighted_average_cross)"
   ]
  },
  {
   "cell_type": "code",
   "execution_count": 67,
   "metadata": {
    "collapsed": false
   },
   "outputs": [
    {
     "name": "stdout",
     "output_type": "stream",
     "text": [
      "(0.7022482732216706, 0.5866853897342823)\n",
      "(0.70689193349817814, 0.6208419357400996)\n"
     ]
    }
   ],
   "source": [
    "pair_weighted_Average = (mean_squared_error(pmf_cross_category['rating'].values.tolist(), weighted_average_cross), mean_squared_error(pmf_in_category['star_rating'].values.tolist(), weighted_average_in))\n",
    "pair_Average = (mean_squared_error(pmf_cross_category['rating'].values.tolist(), average_cross), mean_squared_error(pmf_in_category['star_rating'].values.tolist(), average_in))\n",
    "print (pair_weighted_Average)\n",
    "print (pair_Average)"
   ]
  },
  {
   "cell_type": "code",
   "execution_count": 70,
   "metadata": {
    "collapsed": false
   },
   "outputs": [
    {
     "data": {
      "image/png": "[encoded data removed]",
      "text/plain": [
       "<matplotlib.figure.Figure at 0x117f8feb8>"
      ]
     },
     "metadata": {},
     "output_type": "display_data"
    }
   ],
   "source": [
    "import matplotlib.pyplot as plt\n",
    "import numpy as np\n",
    "%matplotlib inline\n",
    "# data to plot\n",
    "n_groups = 5\n",
    "predicted_in = (pair_KNN[1], pair_FM[1], pair_PMF[1], pair_Average[1], pair_weighted_Average[1])\n",
    "predicted_cross = (pair_KNN[0], pair_FM[0], pair_PMF[0], pair_Average[0], pair_weighted_Average[0])\n",
    " \n",
    "# create plot\n",
    "fig, ax = plt.subplots()\n",
    "index = np.arange(n_groups)\n",
    "bar_width = 0.35\n",
    "opacity = 0.8\n",
    " \n",
    "rects1 = plt.bar(index, predicted_in, bar_width,\n",
    "                 alpha=opacity,\n",
    "                 color='b',\n",
    "                 label='in_category MSE')\n",
    " \n",
    "rects2 = plt.bar(index + bar_width, predicted_cross, bar_width,\n",
    "                 alpha=opacity,\n",
    "                 color='g',\n",
    "                 label='cross_category MSE')\n",
    " \n",
    "plt.xlabel('Models')\n",
    "plt.ylabel('MSE')\n",
    "plt.title('MSE by different models')\n",
    "plt.xticks(index + bar_width, ('KNN', 'FM', 'PMF', 'Average', 'Weighted Average'))\n",
    "plt.legend()\n",
    " \n",
    "plt.tight_layout()\n",
    "plt.show()"
   ]
  }
 ],
 "metadata": {
  "anaconda-cloud": {},
  "kernelspec": {
   "display_name": "Python [Root]",
   "language": "python",
   "name": "Python [Root]"
  },
  "language_info": {
   "codemirror_mode": {
    "name": "ipython",
    "version": 3
   },
   "file_extension": ".py",
   "mimetype": "text/x-python",
   "name": "python",
   "nbconvert_exporter": "python",
   "pygments_lexer": "ipython3",
   "version": "3.5.2"
  }
 },
 "nbformat": 4,
 "nbformat_minor": 0
}
