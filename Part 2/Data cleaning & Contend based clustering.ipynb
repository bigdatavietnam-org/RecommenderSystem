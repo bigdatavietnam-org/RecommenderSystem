{
 "cells": [
  {
   "cell_type": "code",
   "execution_count": 1,
   "metadata": {
    "collapsed": false
   },
   "outputs": [],
   "source": [
    "import pandas as pd\n",
    "import numpy as np\n",
    "import numpy  as np\n",
    "from nltk.corpus import stopwords,wordnet\n",
    "import nltk\n",
    "from nltk.stem import WordNetLemmatizer\n",
    "from sklearn.utils import shuffle\n",
    "from nltk.tokenize import word_tokenize\n",
    "import re\n",
    "from sklearn.feature_extraction.text import TfidfVectorizer\n",
    "from sklearn import decomposition\n",
    "import time\n",
    "from sklearn.ensemble import RandomForestClassifier,AdaBoostClassifier,BaggingClassifier,GradientBoostingClassifier\n",
    "from sklearn.tree import DecisionTreeClassifier\n",
    "from sklearn.discriminant_analysis import LinearDiscriminantAnalysis\n",
    "from sklearn.externals import joblib\n",
    "from sklearn.metrics import accuracy_score\n",
    "import warnings\n",
    "%matplotlib inline\n",
    "from sklearn.cluster import KMeans  \n",
    "import sklearn.metrics as metrics\n",
    "import matplotlib.pyplot as plt"
   ]
  },
  {
   "cell_type": "markdown",
   "metadata": {},
   "source": [
    "# Reading Data & Data Overview"
   ]
  },
  {
   "cell_type": "code",
   "execution_count": 103,
   "metadata": {
    "collapsed": false
   },
   "outputs": [],
   "source": [
    "data = pd.read_csv('/Users/leshensui/Documents/train_data.csv', header=0, sep=',',\n",
    "                parse_dates=['date', 'release_date', 'update_date'],\n",
    "                infer_datetime_format=True, encoding = 'latin1')"
   ]
  },
  {
   "cell_type": "code",
   "execution_count": 104,
   "metadata": {
    "collapsed": false
   },
   "outputs": [
    {
     "data": {
      "text/plain": [
       "Index(['asin', 'date', 'downvotes', 'review_comments', 'review_id',\n",
       "       'review_text', 'review_type', 'reviewer', 'star_rating', 'upvotes',\n",
       "       'categories', 'description', 'developer', 'in_app_purchase',\n",
       "       'mas_rating', 'min_os_version', 'num_permissions', 'num_screenshots',\n",
       "       'price', 'release_date', 'size_MB', 'title', 'update_date'],\n",
       "      dtype='object')"
      ]
     },
     "execution_count": 104,
     "metadata": {},
     "output_type": "execute_result"
    }
   ],
   "source": [
    "data.columns"
   ]
  },
  {
   "cell_type": "code",
   "execution_count": 105,
   "metadata": {
    "collapsed": false
   },
   "outputs": [
    {
     "data": {
      "text/html": [
       "<div>\n",
       "<table border=\"1\" class=\"dataframe\">\n",
       "  <thead>\n",
       "    <tr style=\"text-align: right;\">\n",
       "      <th></th>\n",
       "      <th>asin</th>\n",
       "      <th>date</th>\n",
       "      <th>categories</th>\n",
       "      <th>description</th>\n",
       "      <th>review_text</th>\n",
       "      <th>reviewer</th>\n",
       "      <th>star_rating</th>\n",
       "      <th>price</th>\n",
       "      <th>developer</th>\n",
       "    </tr>\n",
       "  </thead>\n",
       "  <tbody>\n",
       "    <tr>\n",
       "      <th>0</th>\n",
       "      <td>B00OPRXVIC</td>\n",
       "      <td>2014-11-06</td>\n",
       "      <td>Novelty</td>\n",
       "      <td>THIS APP HAS EXPIRED. PLEASE DO NOT BUY.Hey pa...</td>\n",
       "      <td>this is cool. parents can write an email from ...</td>\n",
       "      <td>A2NGN1TFABVU8Q</td>\n",
       "      <td>5</td>\n",
       "      <td>199.0</td>\n",
       "      <td>AppsByMichael</td>\n",
       "    </tr>\n",
       "    <tr>\n",
       "      <th>1</th>\n",
       "      <td>B008JQPY2G</td>\n",
       "      <td>2012-07-21</td>\n",
       "      <td>Kids,Games</td>\n",
       "      <td>Attention Monsters Fans... Now you can Get the...</td>\n",
       "      <td>its no good I didnt like it at all</td>\n",
       "      <td>A3SHL50ZU1K96M</td>\n",
       "      <td>1</td>\n",
       "      <td>99.0</td>\n",
       "      <td>SMGC Publishing</td>\n",
       "    </tr>\n",
       "    <tr>\n",
       "      <th>2</th>\n",
       "      <td>B008JQPY2G</td>\n",
       "      <td>2013-01-04</td>\n",
       "      <td>Kids,Games</td>\n",
       "      <td>Attention Monsters Fans... Now you can Get the...</td>\n",
       "      <td>absolutely terrible. I mean that I did not lik...</td>\n",
       "      <td>A9MOKV997YYIN</td>\n",
       "      <td>1</td>\n",
       "      <td>99.0</td>\n",
       "      <td>SMGC Publishing</td>\n",
       "    </tr>\n",
       "    <tr>\n",
       "      <th>3</th>\n",
       "      <td>B008JQPY2G</td>\n",
       "      <td>2015-10-16</td>\n",
       "      <td>Kids,Games</td>\n",
       "      <td>Attention Monsters Fans... Now you can Get the...</td>\n",
       "      <td>Fun game</td>\n",
       "      <td>A3VYN5P1IRUL3H</td>\n",
       "      <td>5</td>\n",
       "      <td>99.0</td>\n",
       "      <td>SMGC Publishing</td>\n",
       "    </tr>\n",
       "    <tr>\n",
       "      <th>4</th>\n",
       "      <td>B008JQPY2G</td>\n",
       "      <td>2013-03-05</td>\n",
       "      <td>Kids,Games</td>\n",
       "      <td>Attention Monsters Fans... Now you can Get the...</td>\n",
       "      <td>This game downloaded for me, but when I try to...</td>\n",
       "      <td>AIX9ODIJLREIM</td>\n",
       "      <td>1</td>\n",
       "      <td>99.0</td>\n",
       "      <td>SMGC Publishing</td>\n",
       "    </tr>\n",
       "  </tbody>\n",
       "</table>\n",
       "</div>"
      ],
      "text/plain": [
       "         asin       date  categories  \\\n",
       "0  B00OPRXVIC 2014-11-06     Novelty   \n",
       "1  B008JQPY2G 2012-07-21  Kids,Games   \n",
       "2  B008JQPY2G 2013-01-04  Kids,Games   \n",
       "3  B008JQPY2G 2015-10-16  Kids,Games   \n",
       "4  B008JQPY2G 2013-03-05  Kids,Games   \n",
       "\n",
       "                                         description  \\\n",
       "0  THIS APP HAS EXPIRED. PLEASE DO NOT BUY.Hey pa...   \n",
       "1  Attention Monsters Fans... Now you can Get the...   \n",
       "2  Attention Monsters Fans... Now you can Get the...   \n",
       "3  Attention Monsters Fans... Now you can Get the...   \n",
       "4  Attention Monsters Fans... Now you can Get the...   \n",
       "\n",
       "                                         review_text        reviewer  \\\n",
       "0  this is cool. parents can write an email from ...  A2NGN1TFABVU8Q   \n",
       "1                 its no good I didnt like it at all  A3SHL50ZU1K96M   \n",
       "2  absolutely terrible. I mean that I did not lik...   A9MOKV997YYIN   \n",
       "3                                           Fun game  A3VYN5P1IRUL3H   \n",
       "4  This game downloaded for me, but when I try to...   AIX9ODIJLREIM   \n",
       "\n",
       "   star_rating  price        developer  \n",
       "0            5  199.0    AppsByMichael  \n",
       "1            1   99.0  SMGC Publishing  \n",
       "2            1   99.0  SMGC Publishing  \n",
       "3            5   99.0  SMGC Publishing  \n",
       "4            1   99.0  SMGC Publishing  "
      ]
     },
     "execution_count": 105,
     "metadata": {},
     "output_type": "execute_result"
    }
   ],
   "source": [
    "useful_data = data[['asin','date','categories', 'description','review_text','reviewer','star_rating','price','developer']]\n",
    "useful_data.head()"
   ]
  },
  {
   "cell_type": "markdown",
   "metadata": {},
   "source": [
    "### Groupby user and item, then plot the purchase distribution"
   ]
  },
  {
   "cell_type": "code",
   "execution_count": 106,
   "metadata": {
    "collapsed": false,
    "scrolled": false
   },
   "outputs": [],
   "source": [
    "item_list = useful_data.groupby('asin').groups.keys()\n",
    "reviewer_list = useful_data.groupby('reviewer').groups.keys()"
   ]
  },
  {
   "cell_type": "code",
   "execution_count": 107,
   "metadata": {
    "collapsed": false
   },
   "outputs": [],
   "source": [
    "reviewer = useful_data.groupby('reviewer').groups\n",
    "d = {}\n",
    "for k in reviewer:\n",
    "    key = len(reviewer[k])\n",
    "    if key in d:\n",
    "        d[key] += 1\n",
    "    else:\n",
    "        d[key] = 1"
   ]
  },
  {
   "cell_type": "code",
   "execution_count": 108,
   "metadata": {
    "collapsed": false
   },
   "outputs": [
    {
     "data": {
      "image/png": "[encoded data removed]",
      "text/plain": [
       "<matplotlib.figure.Figure at 0x17cf20f98>"
      ]
     },
     "metadata": {},
     "output_type": "display_data"
    }
   ],
   "source": [
    "import matplotlib.pylab as plt\n",
    "\n",
    "lists = sorted(d.items()) # sorted by key, return a list of tuples\n",
    "\n",
    "x, y = zip(*lists) # unpack a list of pairs into two tuples\n",
    "plt.xlabel('number of user')\n",
    "plt.ylabel('number of purchase')\n",
    "plt.title('user purcahse dustribution')\n",
    "plt.plot(y[1:20], x[1:20])\n",
    "plt.show()"
   ]
  },
  {
   "cell_type": "markdown",
   "metadata": {},
   "source": [
    "### Removing inactive users and items"
   ]
  },
  {
   "cell_type": "code",
   "execution_count": null,
   "metadata": {
    "collapsed": true
   },
   "outputs": [],
   "source": [
    "groups = data[['asin', 'description', 'star_rating']].groupby(['asin','description'])\n",
    "temp = groups.count()\n",
    "temp = temp[temp['star_rating']>10]\n",
    "temp = temp.rename(columns = {'star_rating': 'count'})\n",
    "df_mean = groups.mean()\n",
    "df_mean = df_mean.rename(columns = {'star_rating': 'mean_star'})\n",
    "df = df_mean.merge(temp, left_index = True, right_index = True)['mean_star'].to_frame()\n",
    "df_description = pd.DataFrame(df.index.values.tolist(), columns = ['asin', 'description'])"
   ]
  },
  {
   "cell_type": "code",
   "execution_count": 6,
   "metadata": {
    "collapsed": false
   },
   "outputs": [],
   "source": [
    "groups2 = useful_data[['asin', 'reviewer', 'star_rating']].groupby(['reviewer'])\n",
    "temp = groups2.count()\n",
    "temp = temp[temp['star_rating']>1]"
   ]
  },
  {
   "cell_type": "code",
   "execution_count": 109,
   "metadata": {
    "collapsed": false,
    "scrolled": false
   },
   "outputs": [
    {
     "data": {
      "text/html": [
       "<div>\n",
       "<table border=\"1\" class=\"dataframe\">\n",
       "  <thead>\n",
       "    <tr style=\"text-align: right;\">\n",
       "      <th></th>\n",
       "      <th>asin</th>\n",
       "      <th>date</th>\n",
       "      <th>downvotes</th>\n",
       "      <th>review_comments</th>\n",
       "      <th>review_id</th>\n",
       "      <th>review_text</th>\n",
       "      <th>review_type</th>\n",
       "      <th>reviewer</th>\n",
       "      <th>star_rating</th>\n",
       "      <th>upvotes</th>\n",
       "      <th>...</th>\n",
       "      <th>in_app_purchase</th>\n",
       "      <th>mas_rating</th>\n",
       "      <th>min_os_version</th>\n",
       "      <th>num_permissions</th>\n",
       "      <th>num_screenshots</th>\n",
       "      <th>price</th>\n",
       "      <th>release_date</th>\n",
       "      <th>size_MB</th>\n",
       "      <th>title</th>\n",
       "      <th>update_date</th>\n",
       "    </tr>\n",
       "  </thead>\n",
       "  <tbody>\n",
       "    <tr>\n",
       "      <th>9</th>\n",
       "      <td>B004VMVFIY</td>\n",
       "      <td>2011-11-19</td>\n",
       "      <td>NaN</td>\n",
       "      <td>0</td>\n",
       "      <td>R11AANFJC6VN4U</td>\n",
       "      <td>A friend raved about this app on her IPhone.  ...</td>\n",
       "      <td>Verified Purchase</td>\n",
       "      <td>A1BNJNEN9MWVJ3</td>\n",
       "      <td>1</td>\n",
       "      <td>NaN</td>\n",
       "      <td>...</td>\n",
       "      <td>0</td>\n",
       "      <td>All Ages</td>\n",
       "      <td>2.2</td>\n",
       "      <td>12</td>\n",
       "      <td>6</td>\n",
       "      <td>299.0</td>\n",
       "      <td>2011-04-07</td>\n",
       "      <td>1.6</td>\n",
       "      <td>Grocery Gadget - Shopping List</td>\n",
       "      <td>2013-03-22</td>\n",
       "    </tr>\n",
       "    <tr>\n",
       "      <th>15</th>\n",
       "      <td>B004VMVFIY</td>\n",
       "      <td>2015-04-22</td>\n",
       "      <td>NaN</td>\n",
       "      <td>0</td>\n",
       "      <td>R25AO36F9E8MNJ</td>\n",
       "      <td>Rev. Review:  5/23/15 Org. Review:  4/22/2015 ...</td>\n",
       "      <td>Verified Purchase</td>\n",
       "      <td>A9S9RXZFJ0WF</td>\n",
       "      <td>4</td>\n",
       "      <td>NaN</td>\n",
       "      <td>...</td>\n",
       "      <td>0</td>\n",
       "      <td>All Ages</td>\n",
       "      <td>2.2</td>\n",
       "      <td>12</td>\n",
       "      <td>6</td>\n",
       "      <td>299.0</td>\n",
       "      <td>2011-04-07</td>\n",
       "      <td>1.6</td>\n",
       "      <td>Grocery Gadget - Shopping List</td>\n",
       "      <td>2013-03-22</td>\n",
       "    </tr>\n",
       "    <tr>\n",
       "      <th>18</th>\n",
       "      <td>B004VMVFIY</td>\n",
       "      <td>2013-06-03</td>\n",
       "      <td>NaN</td>\n",
       "      <td>0</td>\n",
       "      <td>R2HH4E0PZD3370</td>\n",
       "      <td>All of my roommates have it on their devices. ...</td>\n",
       "      <td>Verified Purchase</td>\n",
       "      <td>A1GU4E3UXPNRPM</td>\n",
       "      <td>4</td>\n",
       "      <td>NaN</td>\n",
       "      <td>...</td>\n",
       "      <td>0</td>\n",
       "      <td>All Ages</td>\n",
       "      <td>2.2</td>\n",
       "      <td>12</td>\n",
       "      <td>6</td>\n",
       "      <td>299.0</td>\n",
       "      <td>2011-04-07</td>\n",
       "      <td>1.6</td>\n",
       "      <td>Grocery Gadget - Shopping List</td>\n",
       "      <td>2013-03-22</td>\n",
       "    </tr>\n",
       "    <tr>\n",
       "      <th>20</th>\n",
       "      <td>B004VMVFIY</td>\n",
       "      <td>2014-05-09</td>\n",
       "      <td>NaN</td>\n",
       "      <td>0</td>\n",
       "      <td>R2SUI0FFFGXJN0</td>\n",
       "      <td>I have been using Grocery Gadget on the web an...</td>\n",
       "      <td>Verified Purchase</td>\n",
       "      <td>A2WMLNOZXLRTL4</td>\n",
       "      <td>1</td>\n",
       "      <td>NaN</td>\n",
       "      <td>...</td>\n",
       "      <td>0</td>\n",
       "      <td>All Ages</td>\n",
       "      <td>2.2</td>\n",
       "      <td>12</td>\n",
       "      <td>6</td>\n",
       "      <td>299.0</td>\n",
       "      <td>2011-04-07</td>\n",
       "      <td>1.6</td>\n",
       "      <td>Grocery Gadget - Shopping List</td>\n",
       "      <td>2013-03-22</td>\n",
       "    </tr>\n",
       "    <tr>\n",
       "      <th>21</th>\n",
       "      <td>B004VMVFIY</td>\n",
       "      <td>2016-03-30</td>\n",
       "      <td>NaN</td>\n",
       "      <td>0</td>\n",
       "      <td>R2T199EB4XPBZL</td>\n",
       "      <td>Extremely disapointed had used program with sa...</td>\n",
       "      <td>Verified Purchase</td>\n",
       "      <td>A2NOCDANIYGTEN</td>\n",
       "      <td>1</td>\n",
       "      <td>NaN</td>\n",
       "      <td>...</td>\n",
       "      <td>0</td>\n",
       "      <td>All Ages</td>\n",
       "      <td>2.2</td>\n",
       "      <td>12</td>\n",
       "      <td>6</td>\n",
       "      <td>299.0</td>\n",
       "      <td>2011-04-07</td>\n",
       "      <td>1.6</td>\n",
       "      <td>Grocery Gadget - Shopping List</td>\n",
       "      <td>2013-03-22</td>\n",
       "    </tr>\n",
       "  </tbody>\n",
       "</table>\n",
       "<p>5 rows × 23 columns</p>\n",
       "</div>"
      ],
      "text/plain": [
       "          asin       date  downvotes  review_comments       review_id  \\\n",
       "9   B004VMVFIY 2011-11-19        NaN                0  R11AANFJC6VN4U   \n",
       "15  B004VMVFIY 2015-04-22        NaN                0  R25AO36F9E8MNJ   \n",
       "18  B004VMVFIY 2013-06-03        NaN                0  R2HH4E0PZD3370   \n",
       "20  B004VMVFIY 2014-05-09        NaN                0  R2SUI0FFFGXJN0   \n",
       "21  B004VMVFIY 2016-03-30        NaN                0  R2T199EB4XPBZL   \n",
       "\n",
       "                                          review_text        review_type  \\\n",
       "9   A friend raved about this app on her IPhone.  ...  Verified Purchase   \n",
       "15  Rev. Review:  5/23/15 Org. Review:  4/22/2015 ...  Verified Purchase   \n",
       "18  All of my roommates have it on their devices. ...  Verified Purchase   \n",
       "20  I have been using Grocery Gadget on the web an...  Verified Purchase   \n",
       "21  Extremely disapointed had used program with sa...  Verified Purchase   \n",
       "\n",
       "          reviewer  star_rating  upvotes     ...     in_app_purchase  \\\n",
       "9   A1BNJNEN9MWVJ3            1      NaN     ...                   0   \n",
       "15    A9S9RXZFJ0WF            4      NaN     ...                   0   \n",
       "18  A1GU4E3UXPNRPM            4      NaN     ...                   0   \n",
       "20  A2WMLNOZXLRTL4            1      NaN     ...                   0   \n",
       "21  A2NOCDANIYGTEN            1      NaN     ...                   0   \n",
       "\n",
       "   mas_rating min_os_version  num_permissions num_screenshots  price  \\\n",
       "9    All Ages            2.2               12               6  299.0   \n",
       "15   All Ages            2.2               12               6  299.0   \n",
       "18   All Ages            2.2               12               6  299.0   \n",
       "20   All Ages            2.2               12               6  299.0   \n",
       "21   All Ages            2.2               12               6  299.0   \n",
       "\n",
       "    release_date  size_MB                           title update_date  \n",
       "9     2011-04-07      1.6  Grocery Gadget - Shopping List  2013-03-22  \n",
       "15    2011-04-07      1.6  Grocery Gadget - Shopping List  2013-03-22  \n",
       "18    2011-04-07      1.6  Grocery Gadget - Shopping List  2013-03-22  \n",
       "20    2011-04-07      1.6  Grocery Gadget - Shopping List  2013-03-22  \n",
       "21    2011-04-07      1.6  Grocery Gadget - Shopping List  2013-03-22  \n",
       "\n",
       "[5 rows x 23 columns]"
      ]
     },
     "execution_count": 109,
     "metadata": {},
     "output_type": "execute_result"
    }
   ],
   "source": [
    "reviewers = temp.index.tolist()\n",
    "items = df_description['asin'].values.tolist()\n",
    "data = data.loc[data['reviewer'].isin(reviewers)]\n",
    "data = data.loc[data['asin'].isin(items)]\n",
    "data.head()"
   ]
  },
  {
   "cell_type": "markdown",
   "metadata": {},
   "source": [
    "### NLP"
   ]
  },
  {
   "cell_type": "code",
   "execution_count": 21,
   "metadata": {
    "collapsed": false,
    "scrolled": false
   },
   "outputs": [],
   "source": [
    "#stopwords = nltk.corpus.stopwords.words('english')\n",
    "\n",
    "from nltk.stem.snowball import SnowballStemmer\n",
    "stemmer = SnowballStemmer(\"english\")\n",
    "\n",
    "def tokenize_and_stem(text):\n",
    "    tokens = [word for sent in nltk.sent_tokenize(text) \\\n",
    "              for word in nltk.word_tokenize(sent)]\n",
    "    filtered_tokens = []\n",
    "    \n",
    "    for token in tokens:\n",
    "        if re.search('[a-zA-Z]', token):\n",
    "            filtered_tokens.append(token)\n",
    "    #stems = [stemmer.stem(t) for t in filtered_tokens]\n",
    "    return stems\n",
    "\n",
    "def tokenize_only(text):\n",
    "    tokens = [word.lower() for sent in nltk.sent_tokenize(text) \\\n",
    "              for word in nltk.word_tokenize(sent)]\n",
    "    filtered_tokens = []\n",
    "    \n",
    "    for token in tokens:\n",
    "        if re.search('[a-zA-Z]', token):\n",
    "            filtered_tokens.append(token)\n",
    "    return filtered_tokens\n",
    "\n",
    "def genCorpus(theText):\n",
    "    #set dictionaries\n",
    "    stopwords = nltk.corpus.stopwords.words('english')\n",
    "    theStemmer = nltk.stem.porter.PorterStemmer() #Martin Porters celebrated stemming algorithm    \n",
    "    #pre-processing\n",
    "    theText = theText.split()\n",
    "    tokens = [token.lower() for token in theText] #ensure everything is lower case\n",
    "    tokens = [re.sub(r'[^a-zA-Z0-9]+', ' ',token) for token in tokens] #remove special characters but leave word in tact\n",
    "    tokens = [token for token in tokens if token.lower().isalpha()] #ensure everything is a letter\n",
    "    tokens = [word for word in tokens if word not in stopwords] #rid of stop words\n",
    "    tokens = [theStemmer.stem(word) for word in tokens] #stem words uing porter stemming algorithm\n",
    "    tokens = \" \".join(tokens) #need to pass string seperated by spaces       \n",
    "    return tokens\n",
    "\n",
    "def clean(text): #define function to clean the data set\n",
    "    stopwords = nltk.corpus.stopwords.words('english')\n",
    "    #theStemmer = nltk.stem.porter.PorterStemmer()\n",
    "    #wordnet_lemmatizer = WordNetLemmatizer()\n",
    "    theText = text.split()\n",
    "    words = [word.lower() for word in theText]\n",
    "    tokens = [word for word in words if word not in stopwords]\n",
    "    #tokens = [wordnet_lemmatizer.lemmatize(word) for word in words]\n",
    "    tokens = [re.sub(r'[^a-zA-Z]+', ' ',token) for token in tokens]\n",
    "    #tokens = \" \".join(tokens)\n",
    "    return tokens\n",
    "\n",
    "def pos_select(input_list):\n",
    "    total_pos = []\n",
    "    for i in input_list:\n",
    "        total_pos.append(nltk.pos_tag(i, tagset = 'universal'))\n",
    "    total_words = []\n",
    "    for word in total_pos:\n",
    "        lis = []\n",
    "        for i in word:\n",
    "            if str(i[1]) == 'NOUN':\n",
    "                if len(str(i[0])) > 2:\n",
    "                    lis.append(str(i[0]))\n",
    "        total_words.append(lis)\n",
    "    words = []\n",
    "    for word in total_words:\n",
    "        words2 = ' '.join(word)\n",
    "        words.append(words2)\n",
    "    return words"
   ]
  },
  {
   "cell_type": "code",
   "execution_count": 110,
   "metadata": {
    "collapsed": false
   },
   "outputs": [
    {
     "data": {
      "text/plain": [
       "'apple selection itunes  app store essentials  selling iphone app years my kids app   by father  under yrs   perfect  fun toddler  toddler buy yet   by ro dub  mama doctor doctor said   no monkeys parents children children monkeys counting game rhyme everybody counting  children math skills color recognition monkeys monkey  objects concepts stop go  on off  alarm clock rings  lamp  telephone  family portrait touch  reading  words fosters word recognition sentence building skills  step learning  singing  music types to  country  rock  pop sing a long  explore  touch  control game options freedom preschooler  application bed  children year pre toddler preschool features touch  peekaboo dog  button stops monkeys children bedroom   shake  monkeys somersaults  press number monkeys watch drop interact objects apps children  macdonald contact questions  you thanks loeschware llc'"
      ]
     },
     "execution_count": 110,
     "metadata": {},
     "output_type": "execute_result"
    }
   ],
   "source": [
    "df_description['mean_star'] = df['mean_star'].values\n",
    "text = df_description['description']\n",
    "ls = text.values.tolist()\n",
    "ls2 = []\n",
    "for i in ls:\n",
    "    ls2.append(clean(i))\n",
    "words = pos_select(ls2)\n",
    "words[0]"
   ]
  },
  {
   "cell_type": "markdown",
   "metadata": {},
   "source": [
    "### Feature extraction & PCA"
   ]
  },
  {
   "cell_type": "code",
   "execution_count": 112,
   "metadata": {
    "collapsed": false
   },
   "outputs": [],
   "source": [
    "from sklearn.feature_extraction.text import TfidfVectorizer\n",
    "from sklearn.feature_extraction.text import TfidfVectorizer\n",
    "tfidf_vectorizer = TfidfVectorizer(max_df=0.6, max_features=2000,\n",
    "                                 min_df=2, stop_words='english',\n",
    "                                 use_idf=True, ngram_range=(1,1))\n",
    "tfidf_matrix = tfidf_vectorizer.fit_transform(words)\n",
    "terms = tfidf_vectorizer.get_feature_names()"
   ]
  },
  {
   "cell_type": "code",
   "execution_count": 89,
   "metadata": {
    "collapsed": true
   },
   "outputs": [],
   "source": [
    "dtm = pd.DataFrame(tfidf_matrix.toarray())\n",
    "dtm.columns = tfidf_vectorizer.get_feature_names()"
   ]
  },
  {
   "cell_type": "code",
   "execution_count": 92,
   "metadata": {
    "collapsed": false
   },
   "outputs": [
    {
     "data": {
      "text/plain": [
       "matrix([[  2.21526356e-14,  -1.30108598e-14,  -1.34391196e-13,\n",
       "           1.18453858e-13,   1.71212870e-14,   1.16845769e-13,\n",
       "           2.50828872e-13,  -7.46017831e-14,  -1.44120826e-13,\n",
       "          -1.12415719e-13]])"
      ]
     },
     "execution_count": 92,
     "metadata": {},
     "output_type": "execute_result"
    }
   ],
   "source": [
    "dtm_dense = tfidf_matrix.todense()\n",
    "centered_dtm = dtm_dense - np.mean(dtm_dense, axis=0)\n",
    "np.sum(centered_dtm,axis=0)[:,:10]"
   ]
  },
  {
   "cell_type": "code",
   "execution_count": 93,
   "metadata": {
    "collapsed": true
   },
   "outputs": [],
   "source": [
    "u,s,vt = np.linalg.svd(centered_dtm)"
   ]
  },
  {
   "cell_type": "markdown",
   "metadata": {},
   "source": [
    "### Find the best low effective rank"
   ]
  },
  {
   "cell_type": "code",
   "execution_count": 95,
   "metadata": {
    "collapsed": false
   },
   "outputs": [
    {
     "data": {
      "image/png": "[encoded data removed]",
      "text/plain": [
       "<matplotlib.figure.Figure at 0x17c2e40b8>"
      ]
     },
     "metadata": {},
     "output_type": "display_data"
    }
   ],
   "source": [
    "import matplotlib.pyplot as plt\n",
    "%matplotlib inline\n",
    "fig = plt.figure(figsize=(6,4))\n",
    "plt.plot(range(1,len(s)+1),s)\n",
    "plt.xlabel(r'$k$',size=20)\n",
    "plt.ylabel(r'$\\sigma_k$',size=20)\n",
    "_ = plt.title(r'Singular Values of dtm',size=20)"
   ]
  },
  {
   "cell_type": "code",
   "execution_count": 96,
   "metadata": {
    "collapsed": false
   },
   "outputs": [
    {
     "data": {
      "image/png": "[encoded data removed]",
      "text/plain": [
       "<matplotlib.figure.Figure at 0x17cb240f0>"
      ]
     },
     "metadata": {},
     "output_type": "display_data"
    }
   ],
   "source": [
    "fig = plt.figure(figsize=(6,4))\n",
    "Anorm = np.linalg.norm(dtm_dense)\n",
    "plt.plot(range(1,501),s[0:500]/Anorm)\n",
    "plt.xlim([0,500])\n",
    "plt.xlabel(r'$k$',size=20)\n",
    "_ = plt.ylabel(r'$\\sigma_k$',size=20)"
   ]
  },
  {
   "cell_type": "code",
   "execution_count": 38,
   "metadata": {
    "collapsed": true
   },
   "outputs": [],
   "source": [
    "from sklearn.decomposition import TruncatedSVD\n",
    "from sklearn.preprocessing import Normalizer\n",
    "lsa = TruncatedSVD(100, algorithm = 'randomized')\n",
    "dtm_lsa = lsa.fit_transform(dtm)\n",
    "dtm_lsa = Normalizer(copy=False).fit_transform(dtm_lsa)\n",
    "df_feature = pd.DataFrame(dtm_lsa)"
   ]
  },
  {
   "cell_type": "markdown",
   "metadata": {},
   "source": [
    "### Parameter tunning & Cluster "
   ]
  },
  {
   "cell_type": "code",
   "execution_count": null,
   "metadata": {
    "collapsed": true
   },
   "outputs": [],
   "source": [
    "def get_cluster(cluster, df): \n",
    "    d = {}\n",
    "    i = 0\n",
    "    cluster = cluster.tolist()\n",
    "    while i < len(cluster):\n",
    "        d.setdefault(cluster[i],[]).append(pd.DataFrame([df_feature.loc[i,]]).index.values[0])\n",
    "        i = i+1\n",
    "    return d\n",
    "from sklearn.cluster import KMeans  \n",
    "import sklearn.metrics as metrics\n",
    "def sc_evaluate_clusters(X,max_clusters):\n",
    "    s = np.zeros(max_clusters+1)\n",
    "    s[0] = 0;\n",
    "    s[1] = 0;\n",
    "    for k in range(2,max_clusters+1):\n",
    "        kmeans = KMeans(init='k-means++', n_clusters=k, n_init=10)\n",
    "        kmeans.fit_predict(X)\n",
    "        s[k] = metrics.silhouette_score(X,kmeans.labels_,metric='cosine')\n",
    "    plt.plot(range(2,len(s)),s[2:])\n",
    "    plt.xlabel('Number of clusters')\n",
    "    plt.ylabel('Adjusted Rand Index')\n",
    "    plt.show()"
   ]
  },
  {
   "cell_type": "code",
   "execution_count": 82,
   "metadata": {
    "collapsed": false
   },
   "outputs": [
    {
     "data": {
      "image/png": "[encoded data removed]",
      "text/plain": [
       "<matplotlib.figure.Figure at 0x156901cf8>"
      ]
     },
     "metadata": {},
     "output_type": "display_data"
    }
   ],
   "source": [
    "sc_evaluate_clusters(df_feature, 20)"
   ]
  },
  {
   "cell_type": "code",
   "execution_count": 84,
   "metadata": {
    "collapsed": false
   },
   "outputs": [
    {
     "data": {
      "image/png": "[encoded data removed]",
      "text/plain": [
       "<matplotlib.figure.Figure at 0x15aa37ba8>"
      ]
     },
     "metadata": {},
     "output_type": "display_data"
    }
   ],
   "source": [
    "error = []\n",
    "for k in range(1,100):\n",
    "    kmeans = KMeans(init='k-means++', n_clusters=k, n_init=10)\n",
    "    kmeans.fit_predict(df_feature)\n",
    "    error.append(kmeans.inertia_)\n",
    "plt.plot(range(len(error)),error[0:])\n",
    "plt.xlabel('Number of clusters')\n",
    "dummy = plt.ylabel('Error')\n",
    "plt.show()"
   ]
  },
  {
   "cell_type": "code",
   "execution_count": 91,
   "metadata": {
    "collapsed": false
   },
   "outputs": [
    {
     "data": {
      "image/png": "[encoded data removed]",
      "text/plain": [
       "<matplotlib.figure.Figure at 0x15590fef0>"
      ]
     },
     "metadata": {},
     "output_type": "display_data"
    }
   ],
   "source": [
    "plt.plot(range(100,100+len(error2)),error2[0:])\n",
    "plt.xlabel('Number of clusters')\n",
    "dummy = plt.ylabel('Error')\n",
    "plt.show()"
   ]
  },
  {
   "cell_type": "code",
   "execution_count": 118,
   "metadata": {
    "collapsed": false
   },
   "outputs": [
    {
     "data": {
      "text/plain": [
       "array([41, 39, 27, ..., 72,  8,  5], dtype=int32)"
      ]
     },
     "execution_count": 118,
     "metadata": {},
     "output_type": "execute_result"
    }
   ],
   "source": [
    "k=100\n",
    "kmeans = KMeans(n_clusters=k, init='k-means++', max_iter=500, n_init=1)\n",
    "kmeans_cluster = kmeans.fit_predict(df_feature)\n",
    "kmeans_predict = kmeans.predict(df_feature)\n",
    "kmeans_cluster"
   ]
  },
  {
   "cell_type": "code",
   "execution_count": 119,
   "metadata": {
    "collapsed": true
   },
   "outputs": [],
   "source": [
    "def get_cluster(cluster, df): \n",
    "    d = {}\n",
    "    i = 0\n",
    "    cluster = cluster.tolist()\n",
    "    while i < len(cluster):\n",
    "        d.setdefault(cluster[i],[]).append(pd.DataFrame([df_feature.loc[i,]]).index.values[0])\n",
    "        i = i+1\n",
    "    return d\n",
    "kcluster = get_cluster(kmeans_cluster, df_feature)"
   ]
  },
  {
   "cell_type": "markdown",
   "metadata": {},
   "source": [
    "### Look at the topics & Plot cluster sizes"
   ]
  },
  {
   "cell_type": "code",
   "execution_count": 117,
   "metadata": {
    "collapsed": false,
    "scrolled": false
   },
   "outputs": [
    {
     "name": "stdout",
     "output_type": "stream",
     "text": [
      "Topic 0:\n",
      "game play games graphics players gameplay try features modes style help score master goal achievements strategy way hours rules awards\n",
      "Topic 1:\n",
      "mode modes challenge object ways difficulty picture bonus step play child practice accept hidden timed rounds presents zen multiplayer experience\n",
      "Topic 2:\n",
      "games fish bigfishgames bigfi pc sh mac discover adventure facebook http bigfishtwitter bigfishgamesmobile marketplace big www amazon selection type enjoy\n",
      "Topic 3:\n",
      "items hints challenge item list timed silhouettes bonus accept modes ways random rounds experience selection picture training hiding beginners scenes\n",
      "Topic 4:\n",
      "word words search language letters dictionary list game games categories crossword grid scores association sight phrases level modes dictionaries vocabulary\n",
      "Topic 5:\n",
      "piece jigsaw puzzleboss pieces puzzles facebook support puzzlebossgames captivate photographers photography families drawn profiles sizes minute session adults resolution required\n"
     ]
    }
   ],
   "source": [
    "from sklearn.decomposition import NMF, LatentDirichletAllocation\n",
    "no_topics = 100\n",
    "\n",
    "lda = LatentDirichletAllocation(n_topics=no_topics, max_iter=10, \\\n",
    "                                learning_method='online', learning_offset=50., \\\n",
    "                                random_state=0).fit(dtm)\n",
    "\n",
    "nmf = NMF(n_components=no_topics, random_state=1, \\\n",
    "          alpha=.1, l1_ratio=.5, init='nndsvd').fit(dtm)\n",
    "\n",
    "def display_topics(model, feature_names, no_top_words):\n",
    "    k = 0\n",
    "    for topic_idx, topic in enumerate(model.components_):\n",
    "        print (\"Topic %d:\" % (topic_idx))\n",
    "        print (\" \".join([feature_names[i]\n",
    "                        for i in topic.argsort()[:-no_top_words - 1:-1]]))\n",
    "        k += 1\n",
    "        if k > 5:\n",
    "            break\n",
    "no_top_words = 20\n",
    "       \n",
    "#display_topics(lda, terms, no_top_words)\n",
    "display_topics(nmf, terms, no_top_words)"
   ]
  },
  {
   "cell_type": "code",
   "execution_count": 41,
   "metadata": {
    "collapsed": false
   },
   "outputs": [
    {
     "data": {
      "image/png": "[encoded data removed]",
      "text/plain": [
       "<matplotlib.figure.Figure at 0x1486f72b0>"
      ]
     },
     "metadata": {},
     "output_type": "display_data"
    }
   ],
   "source": [
    "l = []\n",
    "k = []\n",
    "for i in kcluster.keys():\n",
    "    l.append(len(kcluster[i]))\n",
    "    k.append(list(kcluster.keys())[i])\n",
    "plt.bar(k,l,align='center', alpha=0.5)\n",
    "plt.xlabel('cluster index')\n",
    "plt.ylabel('cluster size')\n",
    "plt.title('cluster size distribution for k = 100')\n",
    " \n",
    "plt.show()"
   ]
  },
  {
   "cell_type": "markdown",
   "metadata": {},
   "source": [
    "### Generate sub-matrix & Save data"
   ]
  },
  {
   "cell_type": "code",
   "execution_count": 123,
   "metadata": {
    "collapsed": false
   },
   "outputs": [
    {
     "data": {
      "text/html": [
       "<div>\n",
       "<table border=\"1\" class=\"dataframe\">\n",
       "  <thead>\n",
       "    <tr style=\"text-align: right;\">\n",
       "      <th>reviewer</th>\n",
       "      <th>A09768021CXERSKV95X9D</th>\n",
       "      <th>A105P7FB419RWG</th>\n",
       "      <th>A106C41CBPJTUF</th>\n",
       "      <th>A10EPCBWOVQMRS</th>\n",
       "      <th>A10FBCA2RGV549</th>\n",
       "      <th>A10GBVGIHKHYDC</th>\n",
       "      <th>A1178A4MRRKU71</th>\n",
       "      <th>A117SBSBK8BESS</th>\n",
       "      <th>A12LLNAGWUE7S6</th>\n",
       "      <th>A12OUSOIMBOO3I</th>\n",
       "      <th>...</th>\n",
       "      <th>AW2G7S5PJ8ZA1</th>\n",
       "      <th>AX550SW9WK9DO</th>\n",
       "      <th>AXNPDAYS5E646</th>\n",
       "      <th>AXSUSU4TMZGVJ</th>\n",
       "      <th>AXU8JPYYVGE69</th>\n",
       "      <th>AXW68BF33KL2R</th>\n",
       "      <th>AXWQU2W6EDIC3</th>\n",
       "      <th>AY9GRN5MO8HC1</th>\n",
       "      <th>AYBSZT99C59U4</th>\n",
       "      <th>AZ425ZQZNKYP2</th>\n",
       "    </tr>\n",
       "    <tr>\n",
       "      <th>asin</th>\n",
       "      <th></th>\n",
       "      <th></th>\n",
       "      <th></th>\n",
       "      <th></th>\n",
       "      <th></th>\n",
       "      <th></th>\n",
       "      <th></th>\n",
       "      <th></th>\n",
       "      <th></th>\n",
       "      <th></th>\n",
       "      <th></th>\n",
       "      <th></th>\n",
       "      <th></th>\n",
       "      <th></th>\n",
       "      <th></th>\n",
       "      <th></th>\n",
       "      <th></th>\n",
       "      <th></th>\n",
       "      <th></th>\n",
       "      <th></th>\n",
       "      <th></th>\n",
       "    </tr>\n",
       "  </thead>\n",
       "  <tbody>\n",
       "    <tr>\n",
       "      <th>B004UWB3UU</th>\n",
       "      <td>0</td>\n",
       "      <td>0</td>\n",
       "      <td>0</td>\n",
       "      <td>0</td>\n",
       "      <td>0</td>\n",
       "      <td>0</td>\n",
       "      <td>0</td>\n",
       "      <td>0</td>\n",
       "      <td>0</td>\n",
       "      <td>0</td>\n",
       "      <td>...</td>\n",
       "      <td>0</td>\n",
       "      <td>0</td>\n",
       "      <td>0</td>\n",
       "      <td>0</td>\n",
       "      <td>0</td>\n",
       "      <td>0</td>\n",
       "      <td>0</td>\n",
       "      <td>0</td>\n",
       "      <td>0</td>\n",
       "      <td>0</td>\n",
       "    </tr>\n",
       "    <tr>\n",
       "      <th>B005SE8IFW</th>\n",
       "      <td>0</td>\n",
       "      <td>5</td>\n",
       "      <td>0</td>\n",
       "      <td>0</td>\n",
       "      <td>5</td>\n",
       "      <td>0</td>\n",
       "      <td>0</td>\n",
       "      <td>0</td>\n",
       "      <td>0</td>\n",
       "      <td>0</td>\n",
       "      <td>...</td>\n",
       "      <td>0</td>\n",
       "      <td>5</td>\n",
       "      <td>4</td>\n",
       "      <td>0</td>\n",
       "      <td>5</td>\n",
       "      <td>0</td>\n",
       "      <td>5</td>\n",
       "      <td>0</td>\n",
       "      <td>0</td>\n",
       "      <td>0</td>\n",
       "    </tr>\n",
       "    <tr>\n",
       "      <th>B005VEJUEW</th>\n",
       "      <td>0</td>\n",
       "      <td>0</td>\n",
       "      <td>0</td>\n",
       "      <td>0</td>\n",
       "      <td>0</td>\n",
       "      <td>0</td>\n",
       "      <td>0</td>\n",
       "      <td>0</td>\n",
       "      <td>0</td>\n",
       "      <td>0</td>\n",
       "      <td>...</td>\n",
       "      <td>0</td>\n",
       "      <td>0</td>\n",
       "      <td>0</td>\n",
       "      <td>0</td>\n",
       "      <td>0</td>\n",
       "      <td>0</td>\n",
       "      <td>0</td>\n",
       "      <td>0</td>\n",
       "      <td>0</td>\n",
       "      <td>0</td>\n",
       "    </tr>\n",
       "    <tr>\n",
       "      <th>B006BEBADU</th>\n",
       "      <td>0</td>\n",
       "      <td>0</td>\n",
       "      <td>0</td>\n",
       "      <td>0</td>\n",
       "      <td>0</td>\n",
       "      <td>0</td>\n",
       "      <td>0</td>\n",
       "      <td>0</td>\n",
       "      <td>0</td>\n",
       "      <td>0</td>\n",
       "      <td>...</td>\n",
       "      <td>0</td>\n",
       "      <td>0</td>\n",
       "      <td>0</td>\n",
       "      <td>0</td>\n",
       "      <td>0</td>\n",
       "      <td>0</td>\n",
       "      <td>0</td>\n",
       "      <td>0</td>\n",
       "      <td>0</td>\n",
       "      <td>0</td>\n",
       "    </tr>\n",
       "    <tr>\n",
       "      <th>B0070Z89KG</th>\n",
       "      <td>0</td>\n",
       "      <td>0</td>\n",
       "      <td>0</td>\n",
       "      <td>0</td>\n",
       "      <td>0</td>\n",
       "      <td>0</td>\n",
       "      <td>0</td>\n",
       "      <td>0</td>\n",
       "      <td>0</td>\n",
       "      <td>0</td>\n",
       "      <td>...</td>\n",
       "      <td>0</td>\n",
       "      <td>0</td>\n",
       "      <td>0</td>\n",
       "      <td>0</td>\n",
       "      <td>0</td>\n",
       "      <td>0</td>\n",
       "      <td>0</td>\n",
       "      <td>0</td>\n",
       "      <td>0</td>\n",
       "      <td>0</td>\n",
       "    </tr>\n",
       "    <tr>\n",
       "      <th>B007S19QF4</th>\n",
       "      <td>0</td>\n",
       "      <td>0</td>\n",
       "      <td>0</td>\n",
       "      <td>0</td>\n",
       "      <td>0</td>\n",
       "      <td>0</td>\n",
       "      <td>0</td>\n",
       "      <td>0</td>\n",
       "      <td>0</td>\n",
       "      <td>0</td>\n",
       "      <td>...</td>\n",
       "      <td>1</td>\n",
       "      <td>0</td>\n",
       "      <td>0</td>\n",
       "      <td>0</td>\n",
       "      <td>0</td>\n",
       "      <td>0</td>\n",
       "      <td>0</td>\n",
       "      <td>0</td>\n",
       "      <td>0</td>\n",
       "      <td>0</td>\n",
       "    </tr>\n",
       "    <tr>\n",
       "      <th>B0089MWGSA</th>\n",
       "      <td>0</td>\n",
       "      <td>0</td>\n",
       "      <td>0</td>\n",
       "      <td>0</td>\n",
       "      <td>0</td>\n",
       "      <td>0</td>\n",
       "      <td>0</td>\n",
       "      <td>0</td>\n",
       "      <td>0</td>\n",
       "      <td>0</td>\n",
       "      <td>...</td>\n",
       "      <td>0</td>\n",
       "      <td>0</td>\n",
       "      <td>0</td>\n",
       "      <td>0</td>\n",
       "      <td>0</td>\n",
       "      <td>0</td>\n",
       "      <td>0</td>\n",
       "      <td>0</td>\n",
       "      <td>0</td>\n",
       "      <td>0</td>\n",
       "    </tr>\n",
       "    <tr>\n",
       "      <th>B008CGH1DI</th>\n",
       "      <td>0</td>\n",
       "      <td>0</td>\n",
       "      <td>0</td>\n",
       "      <td>0</td>\n",
       "      <td>0</td>\n",
       "      <td>1</td>\n",
       "      <td>0</td>\n",
       "      <td>0</td>\n",
       "      <td>0</td>\n",
       "      <td>0</td>\n",
       "      <td>...</td>\n",
       "      <td>0</td>\n",
       "      <td>0</td>\n",
       "      <td>0</td>\n",
       "      <td>0</td>\n",
       "      <td>0</td>\n",
       "      <td>0</td>\n",
       "      <td>0</td>\n",
       "      <td>0</td>\n",
       "      <td>0</td>\n",
       "      <td>0</td>\n",
       "    </tr>\n",
       "    <tr>\n",
       "      <th>B008HU5SQ6</th>\n",
       "      <td>0</td>\n",
       "      <td>0</td>\n",
       "      <td>0</td>\n",
       "      <td>0</td>\n",
       "      <td>0</td>\n",
       "      <td>0</td>\n",
       "      <td>0</td>\n",
       "      <td>1</td>\n",
       "      <td>0</td>\n",
       "      <td>0</td>\n",
       "      <td>...</td>\n",
       "      <td>0</td>\n",
       "      <td>0</td>\n",
       "      <td>0</td>\n",
       "      <td>0</td>\n",
       "      <td>0</td>\n",
       "      <td>0</td>\n",
       "      <td>0</td>\n",
       "      <td>4</td>\n",
       "      <td>0</td>\n",
       "      <td>0</td>\n",
       "    </tr>\n",
       "    <tr>\n",
       "      <th>B008J8U83E</th>\n",
       "      <td>0</td>\n",
       "      <td>0</td>\n",
       "      <td>0</td>\n",
       "      <td>0</td>\n",
       "      <td>0</td>\n",
       "      <td>0</td>\n",
       "      <td>0</td>\n",
       "      <td>1</td>\n",
       "      <td>0</td>\n",
       "      <td>0</td>\n",
       "      <td>...</td>\n",
       "      <td>0</td>\n",
       "      <td>0</td>\n",
       "      <td>0</td>\n",
       "      <td>0</td>\n",
       "      <td>0</td>\n",
       "      <td>0</td>\n",
       "      <td>0</td>\n",
       "      <td>0</td>\n",
       "      <td>0</td>\n",
       "      <td>0</td>\n",
       "    </tr>\n",
       "  </tbody>\n",
       "</table>\n",
       "<p>10 rows × 395 columns</p>\n",
       "</div>"
      ],
      "text/plain": [
       "reviewer    A09768021CXERSKV95X9D  A105P7FB419RWG  A106C41CBPJTUF  \\\n",
       "asin                                                                \n",
       "B004UWB3UU                      0               0               0   \n",
       "B005SE8IFW                      0               5               0   \n",
       "B005VEJUEW                      0               0               0   \n",
       "B006BEBADU                      0               0               0   \n",
       "B0070Z89KG                      0               0               0   \n",
       "B007S19QF4                      0               0               0   \n",
       "B0089MWGSA                      0               0               0   \n",
       "B008CGH1DI                      0               0               0   \n",
       "B008HU5SQ6                      0               0               0   \n",
       "B008J8U83E                      0               0               0   \n",
       "\n",
       "reviewer    A10EPCBWOVQMRS  A10FBCA2RGV549  A10GBVGIHKHYDC  A1178A4MRRKU71  \\\n",
       "asin                                                                         \n",
       "B004UWB3UU               0               0               0               0   \n",
       "B005SE8IFW               0               5               0               0   \n",
       "B005VEJUEW               0               0               0               0   \n",
       "B006BEBADU               0               0               0               0   \n",
       "B0070Z89KG               0               0               0               0   \n",
       "B007S19QF4               0               0               0               0   \n",
       "B0089MWGSA               0               0               0               0   \n",
       "B008CGH1DI               0               0               1               0   \n",
       "B008HU5SQ6               0               0               0               0   \n",
       "B008J8U83E               0               0               0               0   \n",
       "\n",
       "reviewer    A117SBSBK8BESS  A12LLNAGWUE7S6  A12OUSOIMBOO3I      ...        \\\n",
       "asin                                                            ...         \n",
       "B004UWB3UU               0               0               0      ...         \n",
       "B005SE8IFW               0               0               0      ...         \n",
       "B005VEJUEW               0               0               0      ...         \n",
       "B006BEBADU               0               0               0      ...         \n",
       "B0070Z89KG               0               0               0      ...         \n",
       "B007S19QF4               0               0               0      ...         \n",
       "B0089MWGSA               0               0               0      ...         \n",
       "B008CGH1DI               0               0               0      ...         \n",
       "B008HU5SQ6               1               0               0      ...         \n",
       "B008J8U83E               1               0               0      ...         \n",
       "\n",
       "reviewer    AW2G7S5PJ8ZA1  AX550SW9WK9DO  AXNPDAYS5E646  AXSUSU4TMZGVJ  \\\n",
       "asin                                                                     \n",
       "B004UWB3UU              0              0              0              0   \n",
       "B005SE8IFW              0              5              4              0   \n",
       "B005VEJUEW              0              0              0              0   \n",
       "B006BEBADU              0              0              0              0   \n",
       "B0070Z89KG              0              0              0              0   \n",
       "B007S19QF4              1              0              0              0   \n",
       "B0089MWGSA              0              0              0              0   \n",
       "B008CGH1DI              0              0              0              0   \n",
       "B008HU5SQ6              0              0              0              0   \n",
       "B008J8U83E              0              0              0              0   \n",
       "\n",
       "reviewer    AXU8JPYYVGE69  AXW68BF33KL2R  AXWQU2W6EDIC3  AY9GRN5MO8HC1  \\\n",
       "asin                                                                     \n",
       "B004UWB3UU              0              0              0              0   \n",
       "B005SE8IFW              5              0              5              0   \n",
       "B005VEJUEW              0              0              0              0   \n",
       "B006BEBADU              0              0              0              0   \n",
       "B0070Z89KG              0              0              0              0   \n",
       "B007S19QF4              0              0              0              0   \n",
       "B0089MWGSA              0              0              0              0   \n",
       "B008CGH1DI              0              0              0              0   \n",
       "B008HU5SQ6              0              0              0              4   \n",
       "B008J8U83E              0              0              0              0   \n",
       "\n",
       "reviewer    AYBSZT99C59U4  AZ425ZQZNKYP2  \n",
       "asin                                      \n",
       "B004UWB3UU              0              0  \n",
       "B005SE8IFW              0              0  \n",
       "B005VEJUEW              0              0  \n",
       "B006BEBADU              0              0  \n",
       "B0070Z89KG              0              0  \n",
       "B007S19QF4              0              0  \n",
       "B0089MWGSA              0              0  \n",
       "B008CGH1DI              0              0  \n",
       "B008HU5SQ6              0              0  \n",
       "B008J8U83E              0              0  \n",
       "\n",
       "[10 rows x 395 columns]"
      ]
     },
     "execution_count": 123,
     "metadata": {},
     "output_type": "execute_result"
    }
   ],
   "source": [
    "matrix = []\n",
    "for i in range(100):\n",
    "    a = df_description.ix[kcluster[i]]['asin'].values.tolist()\n",
    "    table = data.loc[data['asin'].isin(a)][['asin', 'reviewer', 'star_rating']]\n",
    "    pivot = pd.pivot_table(table, index='reviewer', columns='asin', values='star_rating',fill_value = 0).transpose()\n",
    "    matrix.append(pivot)\n",
    "matrix[1].head(10)"
   ]
  },
  {
   "cell_type": "code",
   "execution_count": 60,
   "metadata": {
    "collapsed": false
   },
   "outputs": [],
   "source": [
    "rating_pair = []\n",
    "for i in range(100):\n",
    "    a = df_description.ix[kcluster[i]]['asin'].values.tolist()\n",
    "    table = data.loc[data['asin'].isin(a)][['asin', 'reviewer', 'star_rating']]\n",
    "    pivot = pd.pivot_table(table, index='reviewer', columns='asin', values='star_rating').transpose()\n",
    "    s = pivot.mean()\n",
    "    pairs = list(zip(s.index, s))\n",
    "    for j in range(len(pairs)):\n",
    "        pairs[j] += ('cluster' + str(i),)\n",
    "    rating_pair += pairs"
   ]
  },
  {
   "cell_type": "code",
   "execution_count": 125,
   "metadata": {
    "collapsed": false
   },
   "outputs": [
    {
     "data": {
      "text/html": [
       "<div>\n",
       "<table border=\"1\" class=\"dataframe\">\n",
       "  <thead>\n",
       "    <tr style=\"text-align: right;\">\n",
       "      <th>reviewer</th>\n",
       "      <th>A00039763E5V43M02Z3YZ</th>\n",
       "      <th>A00111163LLS4KLYZXNZL</th>\n",
       "      <th>A002359833QJM7OQHCXWY</th>\n",
       "      <th>A00236702NOP1FKXVRFN3</th>\n",
       "      <th>A0026556YRYONJ90H57Z</th>\n",
       "      <th>A00281722IA12Z7XNGMJV</th>\n",
       "      <th>A0037670NPLI11RBWYFA</th>\n",
       "      <th>A0038872349TB5N0JHQQW</th>\n",
       "      <th>A004257029HNEB0RA4Z6V</th>\n",
       "      <th>A00440181FM3TJMYVT608</th>\n",
       "      <th>...</th>\n",
       "      <th>AZZIR7GU8SMIR</th>\n",
       "      <th>AZZJ1H7DM2UQD</th>\n",
       "      <th>AZZJG13YQANEA</th>\n",
       "      <th>AZZN34VU2X737</th>\n",
       "      <th>AZZN3MTTZHA74</th>\n",
       "      <th>AZZNEMLU7N9ET</th>\n",
       "      <th>AZZNWOFUDH8S2</th>\n",
       "      <th>AZZPCFDGCFI0D</th>\n",
       "      <th>AZZQ97SNW14J1</th>\n",
       "      <th>AZZYKX2KZ0Q82</th>\n",
       "    </tr>\n",
       "    <tr>\n",
       "      <th>cluster</th>\n",
       "      <th></th>\n",
       "      <th></th>\n",
       "      <th></th>\n",
       "      <th></th>\n",
       "      <th></th>\n",
       "      <th></th>\n",
       "      <th></th>\n",
       "      <th></th>\n",
       "      <th></th>\n",
       "      <th></th>\n",
       "      <th></th>\n",
       "      <th></th>\n",
       "      <th></th>\n",
       "      <th></th>\n",
       "      <th></th>\n",
       "      <th></th>\n",
       "      <th></th>\n",
       "      <th></th>\n",
       "      <th></th>\n",
       "      <th></th>\n",
       "      <th></th>\n",
       "    </tr>\n",
       "  </thead>\n",
       "  <tbody>\n",
       "    <tr>\n",
       "      <th>cluster0</th>\n",
       "      <td>0.0</td>\n",
       "      <td>0.0</td>\n",
       "      <td>0.0</td>\n",
       "      <td>0.0</td>\n",
       "      <td>0.0</td>\n",
       "      <td>0.0</td>\n",
       "      <td>0.0</td>\n",
       "      <td>0.0</td>\n",
       "      <td>0.0</td>\n",
       "      <td>0.0</td>\n",
       "      <td>...</td>\n",
       "      <td>0.0</td>\n",
       "      <td>0.0</td>\n",
       "      <td>0.0</td>\n",
       "      <td>0.0</td>\n",
       "      <td>0.0</td>\n",
       "      <td>0.0</td>\n",
       "      <td>0.0</td>\n",
       "      <td>0.0</td>\n",
       "      <td>0.0</td>\n",
       "      <td>0.0</td>\n",
       "    </tr>\n",
       "    <tr>\n",
       "      <th>cluster1</th>\n",
       "      <td>0.0</td>\n",
       "      <td>0.0</td>\n",
       "      <td>0.0</td>\n",
       "      <td>0.0</td>\n",
       "      <td>0.0</td>\n",
       "      <td>0.0</td>\n",
       "      <td>0.0</td>\n",
       "      <td>0.0</td>\n",
       "      <td>0.0</td>\n",
       "      <td>0.0</td>\n",
       "      <td>...</td>\n",
       "      <td>0.0</td>\n",
       "      <td>0.0</td>\n",
       "      <td>0.0</td>\n",
       "      <td>0.0</td>\n",
       "      <td>0.0</td>\n",
       "      <td>0.0</td>\n",
       "      <td>0.0</td>\n",
       "      <td>0.0</td>\n",
       "      <td>0.0</td>\n",
       "      <td>0.0</td>\n",
       "    </tr>\n",
       "    <tr>\n",
       "      <th>cluster10</th>\n",
       "      <td>0.0</td>\n",
       "      <td>0.0</td>\n",
       "      <td>4.0</td>\n",
       "      <td>0.0</td>\n",
       "      <td>0.0</td>\n",
       "      <td>0.0</td>\n",
       "      <td>0.0</td>\n",
       "      <td>0.0</td>\n",
       "      <td>0.0</td>\n",
       "      <td>0.0</td>\n",
       "      <td>...</td>\n",
       "      <td>0.0</td>\n",
       "      <td>0.0</td>\n",
       "      <td>0.0</td>\n",
       "      <td>0.0</td>\n",
       "      <td>0.0</td>\n",
       "      <td>0.0</td>\n",
       "      <td>0.0</td>\n",
       "      <td>0.0</td>\n",
       "      <td>0.0</td>\n",
       "      <td>0.0</td>\n",
       "    </tr>\n",
       "    <tr>\n",
       "      <th>cluster11</th>\n",
       "      <td>0.0</td>\n",
       "      <td>0.0</td>\n",
       "      <td>0.0</td>\n",
       "      <td>0.0</td>\n",
       "      <td>0.0</td>\n",
       "      <td>3.0</td>\n",
       "      <td>0.0</td>\n",
       "      <td>1.0</td>\n",
       "      <td>0.0</td>\n",
       "      <td>0.0</td>\n",
       "      <td>...</td>\n",
       "      <td>0.0</td>\n",
       "      <td>0.0</td>\n",
       "      <td>0.0</td>\n",
       "      <td>0.0</td>\n",
       "      <td>0.0</td>\n",
       "      <td>0.0</td>\n",
       "      <td>0.0</td>\n",
       "      <td>0.0</td>\n",
       "      <td>5.0</td>\n",
       "      <td>0.0</td>\n",
       "    </tr>\n",
       "    <tr>\n",
       "      <th>cluster12</th>\n",
       "      <td>0.0</td>\n",
       "      <td>0.0</td>\n",
       "      <td>0.0</td>\n",
       "      <td>0.0</td>\n",
       "      <td>0.0</td>\n",
       "      <td>0.0</td>\n",
       "      <td>0.0</td>\n",
       "      <td>0.0</td>\n",
       "      <td>0.0</td>\n",
       "      <td>0.0</td>\n",
       "      <td>...</td>\n",
       "      <td>0.0</td>\n",
       "      <td>0.0</td>\n",
       "      <td>0.0</td>\n",
       "      <td>0.0</td>\n",
       "      <td>0.0</td>\n",
       "      <td>0.0</td>\n",
       "      <td>0.0</td>\n",
       "      <td>0.0</td>\n",
       "      <td>0.0</td>\n",
       "      <td>0.0</td>\n",
       "    </tr>\n",
       "  </tbody>\n",
       "</table>\n",
       "<p>5 rows × 91533 columns</p>\n",
       "</div>"
      ],
      "text/plain": [
       "reviewer   A00039763E5V43M02Z3YZ  A00111163LLS4KLYZXNZL  \\\n",
       "cluster                                                   \n",
       "cluster0                     0.0                    0.0   \n",
       "cluster1                     0.0                    0.0   \n",
       "cluster10                    0.0                    0.0   \n",
       "cluster11                    0.0                    0.0   \n",
       "cluster12                    0.0                    0.0   \n",
       "\n",
       "reviewer   A002359833QJM7OQHCXWY  A00236702NOP1FKXVRFN3  A0026556YRYONJ90H57Z  \\\n",
       "cluster                                                                         \n",
       "cluster0                     0.0                    0.0                   0.0   \n",
       "cluster1                     0.0                    0.0                   0.0   \n",
       "cluster10                    4.0                    0.0                   0.0   \n",
       "cluster11                    0.0                    0.0                   0.0   \n",
       "cluster12                    0.0                    0.0                   0.0   \n",
       "\n",
       "reviewer   A00281722IA12Z7XNGMJV  A0037670NPLI11RBWYFA  A0038872349TB5N0JHQQW  \\\n",
       "cluster                                                                         \n",
       "cluster0                     0.0                   0.0                    0.0   \n",
       "cluster1                     0.0                   0.0                    0.0   \n",
       "cluster10                    0.0                   0.0                    0.0   \n",
       "cluster11                    3.0                   0.0                    1.0   \n",
       "cluster12                    0.0                   0.0                    0.0   \n",
       "\n",
       "reviewer   A004257029HNEB0RA4Z6V  A00440181FM3TJMYVT608      ...        \\\n",
       "cluster                                                      ...         \n",
       "cluster0                     0.0                    0.0      ...         \n",
       "cluster1                     0.0                    0.0      ...         \n",
       "cluster10                    0.0                    0.0      ...         \n",
       "cluster11                    0.0                    0.0      ...         \n",
       "cluster12                    0.0                    0.0      ...         \n",
       "\n",
       "reviewer   AZZIR7GU8SMIR  AZZJ1H7DM2UQD  AZZJG13YQANEA  AZZN34VU2X737  \\\n",
       "cluster                                                                 \n",
       "cluster0             0.0            0.0            0.0            0.0   \n",
       "cluster1             0.0            0.0            0.0            0.0   \n",
       "cluster10            0.0            0.0            0.0            0.0   \n",
       "cluster11            0.0            0.0            0.0            0.0   \n",
       "cluster12            0.0            0.0            0.0            0.0   \n",
       "\n",
       "reviewer   AZZN3MTTZHA74  AZZNEMLU7N9ET  AZZNWOFUDH8S2  AZZPCFDGCFI0D  \\\n",
       "cluster                                                                 \n",
       "cluster0             0.0            0.0            0.0            0.0   \n",
       "cluster1             0.0            0.0            0.0            0.0   \n",
       "cluster10            0.0            0.0            0.0            0.0   \n",
       "cluster11            0.0            0.0            0.0            0.0   \n",
       "cluster12            0.0            0.0            0.0            0.0   \n",
       "\n",
       "reviewer   AZZQ97SNW14J1  AZZYKX2KZ0Q82  \n",
       "cluster                                  \n",
       "cluster0             0.0            0.0  \n",
       "cluster1             0.0            0.0  \n",
       "cluster10            0.0            0.0  \n",
       "cluster11            5.0            0.0  \n",
       "cluster12            0.0            0.0  \n",
       "\n",
       "[5 rows x 91533 columns]"
      ]
     },
     "execution_count": 125,
     "metadata": {},
     "output_type": "execute_result"
    }
   ],
   "source": [
    "df_101 = pd.DataFrame(rating_pair, columns=['reviewer', 'rating', 'cluster'])\n",
    "df_101_pivot = pd.pivot_table(df_101, index='reviewer', columns='cluster', values='rating', fill_value = 0).transpose()\n",
    "df_101_pivot.head()"
   ]
  },
  {
   "cell_type": "code",
   "execution_count": 43,
   "metadata": {
    "collapsed": false
   },
   "outputs": [],
   "source": [
    "import pickle\n",
    "with open('data.pickle', 'wb') as handle:\n",
    "    pickle.dump(kcluster, handle, protocol=2)"
   ]
  },
  {
   "cell_type": "code",
   "execution_count": 45,
   "metadata": {
    "collapsed": false
   },
   "outputs": [],
   "source": [
    "data[['asin', 'reviewer', 'star_rating']].to_csv('no_outlier_data.csv')"
   ]
  },
  {
   "cell_type": "code",
   "execution_count": 47,
   "metadata": {
    "collapsed": true
   },
   "outputs": [],
   "source": [
    "df_description.to_csv('description.csv')"
   ]
  }
 ],
 "metadata": {
  "anaconda-cloud": {},
  "kernelspec": {
   "display_name": "Python [Root]",
   "language": "python",
   "name": "Python [Root]"
  },
  "language_info": {
   "codemirror_mode": {
    "name": "ipython",
    "version": 3
   },
   "file_extension": ".py",
   "mimetype": "text/x-python",
   "name": "python",
   "nbconvert_exporter": "python",
   "pygments_lexer": "ipython3",
   "version": "3.5.2"
  }
 },
 "nbformat": 4,
 "nbformat_minor": 0
}
