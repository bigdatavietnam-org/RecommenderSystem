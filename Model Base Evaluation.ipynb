{
 "cells": [
  {
   "cell_type": "code",
   "execution_count": 51,
   "metadata": {
    "collapsed": true
   },
   "outputs": [],
   "source": [
    "import pandas as pd\n",
    "import numpy as np"
   ]
  },
  {
   "cell_type": "code",
   "execution_count": 52,
   "metadata": {},
   "outputs": [
    {
     "data": {
      "text/html": [
       "<div>\n",
       "<style>\n",
       "    .dataframe thead tr:only-child th {\n",
       "        text-align: right;\n",
       "    }\n",
       "\n",
       "    .dataframe thead th {\n",
       "        text-align: left;\n",
       "    }\n",
       "\n",
       "    .dataframe tbody tr th {\n",
       "        vertical-align: top;\n",
       "    }\n",
       "</style>\n",
       "<table border=\"1\" class=\"dataframe\">\n",
       "  <thead>\n",
       "    <tr style=\"text-align: right;\">\n",
       "      <th></th>\n",
       "      <th>9</th>\n",
       "      <th>17</th>\n",
       "      <th>18</th>\n",
       "      <th>23</th>\n",
       "      <th>46</th>\n",
       "      <th>86</th>\n",
       "      <th>99</th>\n",
       "      <th>104</th>\n",
       "      <th>128</th>\n",
       "      <th>158</th>\n",
       "      <th>...</th>\n",
       "      <th>135244</th>\n",
       "      <th>135273</th>\n",
       "      <th>135280</th>\n",
       "      <th>135281</th>\n",
       "      <th>135286</th>\n",
       "      <th>135313</th>\n",
       "      <th>135335</th>\n",
       "      <th>135339</th>\n",
       "      <th>135341</th>\n",
       "      <th>135353</th>\n",
       "    </tr>\n",
       "  </thead>\n",
       "  <tbody>\n",
       "    <tr>\n",
       "      <th>466</th>\n",
       "      <td>3</td>\n",
       "      <td>0</td>\n",
       "      <td>0</td>\n",
       "      <td>0</td>\n",
       "      <td>0</td>\n",
       "      <td>0</td>\n",
       "      <td>7</td>\n",
       "      <td>0</td>\n",
       "      <td>0</td>\n",
       "      <td>0</td>\n",
       "      <td>...</td>\n",
       "      <td>0</td>\n",
       "      <td>0</td>\n",
       "      <td>0</td>\n",
       "      <td>0</td>\n",
       "      <td>0</td>\n",
       "      <td>0</td>\n",
       "      <td>0</td>\n",
       "      <td>0</td>\n",
       "      <td>0</td>\n",
       "      <td>0</td>\n",
       "    </tr>\n",
       "    <tr>\n",
       "      <th>1721</th>\n",
       "      <td>10</td>\n",
       "      <td>8</td>\n",
       "      <td>0</td>\n",
       "      <td>5</td>\n",
       "      <td>0</td>\n",
       "      <td>0</td>\n",
       "      <td>8</td>\n",
       "      <td>0</td>\n",
       "      <td>0</td>\n",
       "      <td>0</td>\n",
       "      <td>...</td>\n",
       "      <td>0</td>\n",
       "      <td>6</td>\n",
       "      <td>0</td>\n",
       "      <td>6</td>\n",
       "      <td>6</td>\n",
       "      <td>0</td>\n",
       "      <td>7</td>\n",
       "      <td>0</td>\n",
       "      <td>5</td>\n",
       "      <td>5</td>\n",
       "    </tr>\n",
       "    <tr>\n",
       "      <th>2393</th>\n",
       "      <td>8</td>\n",
       "      <td>0</td>\n",
       "      <td>0</td>\n",
       "      <td>0</td>\n",
       "      <td>0</td>\n",
       "      <td>0</td>\n",
       "      <td>8</td>\n",
       "      <td>0</td>\n",
       "      <td>0</td>\n",
       "      <td>0</td>\n",
       "      <td>...</td>\n",
       "      <td>0</td>\n",
       "      <td>3</td>\n",
       "      <td>0</td>\n",
       "      <td>4</td>\n",
       "      <td>0</td>\n",
       "      <td>0</td>\n",
       "      <td>0</td>\n",
       "      <td>0</td>\n",
       "      <td>0</td>\n",
       "      <td>2</td>\n",
       "    </tr>\n",
       "    <tr>\n",
       "      <th>2852</th>\n",
       "      <td>9</td>\n",
       "      <td>0</td>\n",
       "      <td>0</td>\n",
       "      <td>0</td>\n",
       "      <td>0</td>\n",
       "      <td>0</td>\n",
       "      <td>0</td>\n",
       "      <td>0</td>\n",
       "      <td>0</td>\n",
       "      <td>0</td>\n",
       "      <td>...</td>\n",
       "      <td>0</td>\n",
       "      <td>4</td>\n",
       "      <td>0</td>\n",
       "      <td>5</td>\n",
       "      <td>0</td>\n",
       "      <td>0</td>\n",
       "      <td>0</td>\n",
       "      <td>0</td>\n",
       "      <td>0</td>\n",
       "      <td>2</td>\n",
       "    </tr>\n",
       "    <tr>\n",
       "      <th>3248</th>\n",
       "      <td>5</td>\n",
       "      <td>10</td>\n",
       "      <td>0</td>\n",
       "      <td>0</td>\n",
       "      <td>0</td>\n",
       "      <td>0</td>\n",
       "      <td>0</td>\n",
       "      <td>0</td>\n",
       "      <td>0</td>\n",
       "      <td>6</td>\n",
       "      <td>...</td>\n",
       "      <td>0</td>\n",
       "      <td>2</td>\n",
       "      <td>0</td>\n",
       "      <td>0</td>\n",
       "      <td>0</td>\n",
       "      <td>1</td>\n",
       "      <td>0</td>\n",
       "      <td>0</td>\n",
       "      <td>0</td>\n",
       "      <td>2</td>\n",
       "    </tr>\n",
       "  </tbody>\n",
       "</table>\n",
       "<p>5 rows × 10000 columns</p>\n",
       "</div>"
      ],
      "text/plain": [
       "       9  17  18  23  46  86  99  104  128  158   ...    135244  135273  \\\n",
       "466    3   0   0   0   0   0   7    0    0    0   ...         0       0   \n",
       "1721  10   8   0   5   0   0   8    0    0    0   ...         0       6   \n",
       "2393   8   0   0   0   0   0   8    0    0    0   ...         0       3   \n",
       "2852   9   0   0   0   0   0   0    0    0    0   ...         0       4   \n",
       "3248   5  10   0   0   0   0   0    0    0    6   ...         0       2   \n",
       "\n",
       "      135280  135281  135286  135313  135335  135339  135341  135353  \n",
       "466        0       0       0       0       0       0       0       0  \n",
       "1721       0       6       6       0       7       0       5       5  \n",
       "2393       0       4       0       0       0       0       0       2  \n",
       "2852       0       5       0       0       0       0       0       2  \n",
       "3248       0       0       0       1       0       0       0       2  \n",
       "\n",
       "[5 rows x 10000 columns]"
      ]
     },
     "execution_count": 52,
     "metadata": {},
     "output_type": "execute_result"
    }
   ],
   "source": [
    "df = pd.read_csv(\"data.csv\", index_col='Unnamed: 0')\n",
    "df.head()"
   ]
  },
  {
   "cell_type": "code",
   "execution_count": 53,
   "metadata": {
    "collapsed": true
   },
   "outputs": [],
   "source": [
    "def get_mae(pred, actual):\n",
    "    pred = pred.as_matrix()\n",
    "    actual = actual.as_matrix()\n",
    "    # Ignore zero terms.\n",
    "    pred = pred.flatten()[actual.flatten().nonzero()] \n",
    "    actual = actual.flatten()[actual.flatten().nonzero()]\n",
    "    mae = sum(abs(pred - actual)) / len(pred)\n",
    "    return round(mae, 4)"
   ]
  },
  {
   "cell_type": "code",
   "execution_count": 54,
   "metadata": {
    "collapsed": true
   },
   "outputs": [],
   "source": [
    "def get_rmse(pred, actual):\n",
    "    pred = pred.as_matrix()\n",
    "    actual = actual.as_matrix()\n",
    "    # Ignore zero terms.\n",
    "    pred = pred.flatten()[actual.flatten().nonzero()] \n",
    "    actual = actual.flatten()[actual.flatten().nonzero()]\n",
    "    rmse = (sum((pred - actual)**2) / len(pred))**0.5\n",
    "    return round(rmse, 4)"
   ]
  },
  {
   "cell_type": "markdown",
   "metadata": {},
   "source": [
    "# Baseline"
   ]
  },
  {
   "cell_type": "code",
   "execution_count": 55,
   "metadata": {
    "collapsed": true
   },
   "outputs": [],
   "source": [
    "def baseline_acc(df):    \n",
    "    # build baseline prediction\n",
    "    row_sum = df.sum(axis=1)\n",
    "    row_non0 = (df != 0).astype(int).sum(axis=1)\n",
    "    user_bias = np.around(row_sum / row_non0, decimals=4)\n",
    "    prediction_baseline = np.ones(df.shape[1]) * user_bias.values[:, np.newaxis]\n",
    "    pred = pd.DataFrame(prediction_baseline, index=df.index, columns=df.columns)\n",
    "    \n",
    "    # MAE\n",
    "    mae = get_mae(pred, df)\n",
    "    rmse = get_rmse(pred, df)\n",
    "    return 'MAE: ' + str(mae) + ' RMSE: ' + str(rmse)"
   ]
  },
  {
   "cell_type": "code",
   "execution_count": 56,
   "metadata": {},
   "outputs": [
    {
     "data": {
      "text/plain": [
       "'MAE: 1.1899 RMSE: 1.8014'"
      ]
     },
     "execution_count": 56,
     "metadata": {},
     "output_type": "execute_result"
    }
   ],
   "source": [
    "baseline_acc(df)"
   ]
  },
  {
   "cell_type": "markdown",
   "metadata": {},
   "source": [
    "# Split and Cross Vaildation"
   ]
  },
  {
   "cell_type": "code",
   "execution_count": 57,
   "metadata": {
    "collapsed": true
   },
   "outputs": [],
   "source": [
    "def split_dataset(df, per):\n",
    "    import random as rd\n",
    "    train = df.copy()\n",
    "    for row in df.index:\n",
    "        col_index = (df.columns.values).tolist() # 1000 male\n",
    "        rd.shuffle(col_index)\n",
    "        hidden_index = col_index[0: int(len(col_index)*per)]\n",
    "        for col in hidden_index:\n",
    "            train.loc[row, str(col)] = 0\n",
    "    test = df - train\n",
    "    return train, test "
   ]
  },
  {
   "cell_type": "code",
   "execution_count": 58,
   "metadata": {
    "collapsed": true
   },
   "outputs": [],
   "source": [
    "train, test = split_dataset(df, 0.2)"
   ]
  },
  {
   "cell_type": "code",
   "execution_count": 59,
   "metadata": {
    "collapsed": true
   },
   "outputs": [],
   "source": [
    "import time\n",
    "def cross_vaildation(df, algo, param):\n",
    "    tStart = time.time()\n",
    "    train, test = split_dataset(df, 0.2) # 80% train, 20% test\n",
    "    pred = algo(train, param) # run model\n",
    "    \n",
    "    mae = get_mae(pred, test)\n",
    "    rmse = get_rmse(pred, test)\n",
    "    print(time.time()-tStart)\n",
    "    return pred, test, mae, rmse"
   ]
  },
  {
   "cell_type": "markdown",
   "metadata": {},
   "source": [
    "# Model Base"
   ]
  },
  {
   "cell_type": "code",
   "execution_count": 60,
   "metadata": {
    "collapsed": true
   },
   "outputs": [],
   "source": [
    "def base_line_prediction(df):\n",
    "    df_baseline = df.copy()\n",
    "    row_sum = df_baseline.sum(axis=1)\n",
    "    row_non0 = (df_baseline != 0).astype(int).sum(axis=1)\n",
    "    user_bias = np.around(row_sum / row_non0, decimals=4)\n",
    "    for row in df_baseline.index.values:\n",
    "        df_baseline.loc[row, :] = df.loc[row].replace(0,user_bias[row])\n",
    "        \n",
    "    return df_baseline"
   ]
  },
  {
   "cell_type": "code",
   "execution_count": 61,
   "metadata": {
    "collapsed": true
   },
   "outputs": [],
   "source": [
    "import matplotlib.pyplot as plt\n",
    "%matplotlib inline\n",
    "# add training + test two lines?\n",
    "def plot_singular_values_of_A(df):\n",
    "    df_baseline = base_line_prediction(df)\n",
    "    df_baseline.as_matrix()\n",
    "    u,s,vt = np.linalg.svd(df_baseline)\n",
    "    fig = plt.figure(figsize=(6,4))\n",
    "    plt.plot(range(1,len(s)+1),s)\n",
    "    plt.xlabel(r'$k$',size=20)\n",
    "    plt.ylabel(r'$\\sigma_k$',size=20)\n",
    "    _ = plt.title(r'Singular Values of $A$',size=20)"
   ]
  },
  {
   "cell_type": "code",
   "execution_count": 62,
   "metadata": {},
   "outputs": [
    {
     "data": {
      "image/png": "[encoded data removed]",
      "text/plain": [
       "<matplotlib.figure.Figure at 0x10e953050>"
      ]
     },
     "metadata": {},
     "output_type": "display_data"
    }
   ],
   "source": [
    "plot_singular_values_of_A(df)"
   ]
  },
  {
   "cell_type": "code",
   "execution_count": 69,
   "metadata": {
    "collapsed": true
   },
   "outputs": [],
   "source": [
    "def matrix_factorization(R, K, steps=100, alpha=0.0002, beta=0.02):\n",
    "    R_index, R_col = R.index, R.columns\n",
    "    R = R.as_matrix()\n",
    "    u,s,v = np.linalg.svd(R)\n",
    "    a = []\n",
    "    for i in range(K):\n",
    "        a.append(i)\n",
    "    P = pd.DataFrame(u)[a].as_matrix()\n",
    "    Q = v[0:K]\n",
    "    N = R.shape[0]\n",
    "    M = R.shape[1]\n",
    "    nonzero = list(zip(np.nonzero(R)[0].tolist(), np.nonzero(R)[1].tolist()))\n",
    "    for step in range(steps):\n",
    "        #print (step)\n",
    "        for pair in nonzero:\n",
    "            i = pair[0]\n",
    "            j = pair[1]\n",
    "            eij = R[i][j] - np.dot(P[i,:],Q[:,j])\n",
    "            for k in range(K):\n",
    "                P[i][k] = P[i][k] + alpha * (2 * eij * Q[k][j] - beta * P[i][k])\n",
    "                Q[k][j] = Q[k][j] + alpha * (2 * eij * P[i][k] - beta * Q[k][j])\n",
    "        eR = np.dot(P,Q)\n",
    "        e = 0\n",
    "        for pair in nonzero:\n",
    "            i = pair[0]\n",
    "            j = pair[1]\n",
    "            e = e + pow(R[i][j] - eR[i][j], 2)\n",
    "            for k in range(K):\n",
    "                e = e + (beta/2) * ( pow(P[i][k],2) + pow(Q[k][j],2) )\n",
    "        if e < 0.01:\n",
    "            break\n",
    "    #return P, Q.T\n",
    "    return pd.DataFrame(data=P.dot(Q), index=R_index, columns=R_col)"
   ]
  },
  {
   "cell_type": "code",
   "execution_count": 70,
   "metadata": {},
   "outputs": [
    {
     "name": "stdout",
     "output_type": "stream",
     "text": [
      "1020.09370303\n"
     ]
    }
   ],
   "source": [
    "model_pred, model_test, model_mae, model_rmse = cross_vaildation(df, matrix_factorization, 10)"
   ]
  },
  {
   "cell_type": "code",
   "execution_count": 71,
   "metadata": {},
   "outputs": [
    {
     "data": {
      "text/plain": [
       "1.2586"
      ]
     },
     "execution_count": 71,
     "metadata": {},
     "output_type": "execute_result"
    }
   ],
   "source": [
    "model_mae"
   ]
  },
  {
   "cell_type": "code",
   "execution_count": 72,
   "metadata": {},
   "outputs": [
    {
     "data": {
      "text/plain": [
       "1.8247"
      ]
     },
     "execution_count": 72,
     "metadata": {},
     "output_type": "execute_result"
    }
   ],
   "source": [
    "model_rmse"
   ]
  },
  {
   "cell_type": "code",
   "execution_count": 73,
   "metadata": {},
   "outputs": [
    {
     "data": {
      "text/html": [
       "<div>\n",
       "<style>\n",
       "    .dataframe thead tr:only-child th {\n",
       "        text-align: right;\n",
       "    }\n",
       "\n",
       "    .dataframe thead th {\n",
       "        text-align: left;\n",
       "    }\n",
       "\n",
       "    .dataframe tbody tr th {\n",
       "        vertical-align: top;\n",
       "    }\n",
       "</style>\n",
       "<table border=\"1\" class=\"dataframe\">\n",
       "  <thead>\n",
       "    <tr style=\"text-align: right;\">\n",
       "      <th></th>\n",
       "      <th>9</th>\n",
       "      <th>17</th>\n",
       "      <th>18</th>\n",
       "      <th>23</th>\n",
       "      <th>46</th>\n",
       "      <th>86</th>\n",
       "      <th>99</th>\n",
       "      <th>104</th>\n",
       "      <th>128</th>\n",
       "      <th>158</th>\n",
       "      <th>...</th>\n",
       "      <th>135244</th>\n",
       "      <th>135273</th>\n",
       "      <th>135280</th>\n",
       "      <th>135281</th>\n",
       "      <th>135286</th>\n",
       "      <th>135313</th>\n",
       "      <th>135335</th>\n",
       "      <th>135339</th>\n",
       "      <th>135341</th>\n",
       "      <th>135353</th>\n",
       "    </tr>\n",
       "  </thead>\n",
       "  <tbody>\n",
       "    <tr>\n",
       "      <th>466</th>\n",
       "      <td>6.657511</td>\n",
       "      <td>5.934026</td>\n",
       "      <td>5.399052</td>\n",
       "      <td>5.088021</td>\n",
       "      <td>5.692354</td>\n",
       "      <td>5.131618</td>\n",
       "      <td>6.344875</td>\n",
       "      <td>5.258711</td>\n",
       "      <td>4.981832</td>\n",
       "      <td>5.559965</td>\n",
       "      <td>...</td>\n",
       "      <td>5.252973</td>\n",
       "      <td>5.272814</td>\n",
       "      <td>5.650263</td>\n",
       "      <td>5.524848</td>\n",
       "      <td>5.754240</td>\n",
       "      <td>6.575571</td>\n",
       "      <td>5.725094</td>\n",
       "      <td>3.357539</td>\n",
       "      <td>4.124989</td>\n",
       "      <td>4.952146</td>\n",
       "    </tr>\n",
       "    <tr>\n",
       "      <th>1721</th>\n",
       "      <td>8.153336</td>\n",
       "      <td>8.200400</td>\n",
       "      <td>5.441285</td>\n",
       "      <td>4.911599</td>\n",
       "      <td>7.559390</td>\n",
       "      <td>6.945086</td>\n",
       "      <td>7.320347</td>\n",
       "      <td>6.604943</td>\n",
       "      <td>4.673986</td>\n",
       "      <td>7.203310</td>\n",
       "      <td>...</td>\n",
       "      <td>6.050931</td>\n",
       "      <td>6.303437</td>\n",
       "      <td>7.509879</td>\n",
       "      <td>6.020159</td>\n",
       "      <td>5.774786</td>\n",
       "      <td>7.902732</td>\n",
       "      <td>6.402108</td>\n",
       "      <td>5.460695</td>\n",
       "      <td>4.053592</td>\n",
       "      <td>5.738475</td>\n",
       "    </tr>\n",
       "    <tr>\n",
       "      <th>2393</th>\n",
       "      <td>6.327681</td>\n",
       "      <td>4.911513</td>\n",
       "      <td>3.889166</td>\n",
       "      <td>3.369934</td>\n",
       "      <td>4.757748</td>\n",
       "      <td>3.872860</td>\n",
       "      <td>5.768460</td>\n",
       "      <td>4.303055</td>\n",
       "      <td>3.265601</td>\n",
       "      <td>5.193666</td>\n",
       "      <td>...</td>\n",
       "      <td>3.702269</td>\n",
       "      <td>2.482625</td>\n",
       "      <td>5.677122</td>\n",
       "      <td>5.519378</td>\n",
       "      <td>3.876666</td>\n",
       "      <td>5.495752</td>\n",
       "      <td>4.815345</td>\n",
       "      <td>2.860334</td>\n",
       "      <td>2.178547</td>\n",
       "      <td>3.204356</td>\n",
       "    </tr>\n",
       "    <tr>\n",
       "      <th>2852</th>\n",
       "      <td>4.807064</td>\n",
       "      <td>4.131871</td>\n",
       "      <td>3.856034</td>\n",
       "      <td>2.834613</td>\n",
       "      <td>4.624909</td>\n",
       "      <td>3.885197</td>\n",
       "      <td>4.299469</td>\n",
       "      <td>4.024825</td>\n",
       "      <td>2.901842</td>\n",
       "      <td>4.515405</td>\n",
       "      <td>...</td>\n",
       "      <td>3.602006</td>\n",
       "      <td>2.948502</td>\n",
       "      <td>4.973499</td>\n",
       "      <td>4.180019</td>\n",
       "      <td>3.715388</td>\n",
       "      <td>4.554167</td>\n",
       "      <td>4.584092</td>\n",
       "      <td>2.889337</td>\n",
       "      <td>1.985127</td>\n",
       "      <td>3.953363</td>\n",
       "    </tr>\n",
       "    <tr>\n",
       "      <th>3248</th>\n",
       "      <td>8.087417</td>\n",
       "      <td>5.939639</td>\n",
       "      <td>3.969177</td>\n",
       "      <td>3.374790</td>\n",
       "      <td>4.626072</td>\n",
       "      <td>4.129621</td>\n",
       "      <td>6.067361</td>\n",
       "      <td>3.425711</td>\n",
       "      <td>2.917459</td>\n",
       "      <td>5.047114</td>\n",
       "      <td>...</td>\n",
       "      <td>3.812708</td>\n",
       "      <td>2.607971</td>\n",
       "      <td>5.414194</td>\n",
       "      <td>5.702215</td>\n",
       "      <td>3.510479</td>\n",
       "      <td>6.224970</td>\n",
       "      <td>4.270404</td>\n",
       "      <td>2.889502</td>\n",
       "      <td>1.774934</td>\n",
       "      <td>2.758553</td>\n",
       "    </tr>\n",
       "  </tbody>\n",
       "</table>\n",
       "<p>5 rows × 10000 columns</p>\n",
       "</div>"
      ],
      "text/plain": [
       "             9        17        18        23        46        86        99  \\\n",
       "466   6.657511  5.934026  5.399052  5.088021  5.692354  5.131618  6.344875   \n",
       "1721  8.153336  8.200400  5.441285  4.911599  7.559390  6.945086  7.320347   \n",
       "2393  6.327681  4.911513  3.889166  3.369934  4.757748  3.872860  5.768460   \n",
       "2852  4.807064  4.131871  3.856034  2.834613  4.624909  3.885197  4.299469   \n",
       "3248  8.087417  5.939639  3.969177  3.374790  4.626072  4.129621  6.067361   \n",
       "\n",
       "           104       128       158    ...       135244    135273    135280  \\\n",
       "466   5.258711  4.981832  5.559965    ...     5.252973  5.272814  5.650263   \n",
       "1721  6.604943  4.673986  7.203310    ...     6.050931  6.303437  7.509879   \n",
       "2393  4.303055  3.265601  5.193666    ...     3.702269  2.482625  5.677122   \n",
       "2852  4.024825  2.901842  4.515405    ...     3.602006  2.948502  4.973499   \n",
       "3248  3.425711  2.917459  5.047114    ...     3.812708  2.607971  5.414194   \n",
       "\n",
       "        135281    135286    135313    135335    135339    135341    135353  \n",
       "466   5.524848  5.754240  6.575571  5.725094  3.357539  4.124989  4.952146  \n",
       "1721  6.020159  5.774786  7.902732  6.402108  5.460695  4.053592  5.738475  \n",
       "2393  5.519378  3.876666  5.495752  4.815345  2.860334  2.178547  3.204356  \n",
       "2852  4.180019  3.715388  4.554167  4.584092  2.889337  1.985127  3.953363  \n",
       "3248  5.702215  3.510479  6.224970  4.270404  2.889502  1.774934  2.758553  \n",
       "\n",
       "[5 rows x 10000 columns]"
      ]
     },
     "execution_count": 73,
     "metadata": {},
     "output_type": "execute_result"
    }
   ],
   "source": [
    "model_pred.head()"
   ]
  },
  {
   "cell_type": "code",
   "execution_count": 74,
   "metadata": {},
   "outputs": [
    {
     "data": {
      "text/plain": [
       "1.8247"
      ]
     },
     "execution_count": 74,
     "metadata": {},
     "output_type": "execute_result"
    }
   ],
   "source": [
    "model_rmse"
   ]
  },
  {
   "cell_type": "code",
   "execution_count": null,
   "metadata": {
    "collapsed": true
   },
   "outputs": [],
   "source": [
    "# 3 parameter needed for different k values, graphs."
   ]
  },
  {
   "cell_type": "code",
   "execution_count": 75,
   "metadata": {},
   "outputs": [
    {
     "name": "stdout",
     "output_type": "stream",
     "text": [
      "757.597630024\n"
     ]
    }
   ],
   "source": [
    "model_pred_8, model_test_8, model_mae_8, model_rmse_8 = cross_vaildation(df, matrix_factorization, 8)"
   ]
  },
  {
   "cell_type": "code",
   "execution_count": 76,
   "metadata": {},
   "outputs": [
    {
     "data": {
      "text/plain": [
       "1.8299"
      ]
     },
     "execution_count": 76,
     "metadata": {},
     "output_type": "execute_result"
    }
   ],
   "source": [
    "model_rmse_8"
   ]
  },
  {
   "cell_type": "code",
   "execution_count": 77,
   "metadata": {},
   "outputs": [
    {
     "name": "stdout",
     "output_type": "stream",
     "text": [
      "973.121387005\n"
     ]
    }
   ],
   "source": [
    "model_pred_12, model_test_12, model_mae_12, model_rmse_12 = cross_vaildation(df, matrix_factorization, 12)"
   ]
  },
  {
   "cell_type": "code",
   "execution_count": 78,
   "metadata": {},
   "outputs": [
    {
     "name": "stdout",
     "output_type": "stream",
     "text": [
      "571.639168978\n"
     ]
    }
   ],
   "source": [
    "model_pred_6, model_test_6, model_mae_6, model_rmse_6 = cross_vaildation(df, matrix_factorization, 6)"
   ]
  },
  {
   "cell_type": "code",
   "execution_count": 86,
   "metadata": {},
   "outputs": [
    {
     "data": {
      "image/png": "[encoded data removed]",
      "text/plain": [
       "<matplotlib.figure.Figure at 0x11c6f5750>"
      ]
     },
     "metadata": {},
     "output_type": "display_data"
    }
   ],
   "source": [
    "import matplotlib.pyplot as plt\n",
    "%matplotlib inline\n",
    "# plot with MAE\n",
    "# need to add label\n",
    "# plot with RMSE\n",
    "plt.xlabel('K rank ')\n",
    "plt.ylabel('MAE')\n",
    "plt.title('K rank Vs. MAE ')\n",
    "plt.plot([6,8,10,12], [model_mae_6,model_mae_8,model_mae,model_mae_12], c='blue')\n",
    "#plt.axis([0, 11, 0.9, 1.4])\n",
    "plt.show()"
   ]
  },
  {
   "cell_type": "code",
   "execution_count": 80,
   "metadata": {},
   "outputs": [
    {
     "data": {
      "image/png": "[encoded data removed]",
      "text/plain": [
       "<matplotlib.figure.Figure at 0x10d2f7c90>"
      ]
     },
     "metadata": {},
     "output_type": "display_data"
    }
   ],
   "source": [
    "%matplotlib inline\n",
    "# plot with MAE\n",
    "# need to add label\n",
    "# plot with RMSE\n",
    "plt.xlabel('K rank ')\n",
    "plt.ylabel('RMSE')\n",
    "plt.title('K rank Vs. RMSE ')\n",
    "plt.plot([6,8,10,12], [model_rmse_6,model_rmse_8,model_rmse,model_rmse_12], c='green')\n",
    "#plt.axis([0, 11, 0.9, 1.4])\n",
    "plt.show()\n"
   ]
  },
  {
   "cell_type": "code",
   "execution_count": 82,
   "metadata": {},
   "outputs": [
    {
     "data": {
      "image/png": "[encoded data removed]",
      "text/plain": [
       "<matplotlib.figure.Figure at 0x11428b310>"
      ]
     },
     "metadata": {},
     "output_type": "display_data"
    }
   ],
   "source": [
    "plt.xlabel('K rank ')\n",
    "plt.ylabel('Time per sec')\n",
    "plt.title('K rank Vs. Time ')\n",
    "plt.plot([6,8,10,12], [571.639168978,757.59763,1020.09370303,973.121387005], c='green')\n",
    "#plt.axis([0, 11, 0.9, 1.4])\n",
    "plt.show()\n",
    "\n"
   ]
  },
  {
   "cell_type": "markdown",
   "metadata": {
    "collapsed": true
   },
   "source": [
    "### It can be shown that when rank = k, both RMSE and MSE reahes a minimum, and its computational cost is largest."
   ]
  },
  {
   "cell_type": "code",
   "execution_count": null,
   "metadata": {
    "collapsed": true
   },
   "outputs": [],
   "source": []
  }
 ],
 "metadata": {
  "kernelspec": {
   "display_name": "Python 2",
   "language": "python",
   "name": "python2"
  }
 },
 "nbformat": 4,
 "nbformat_minor": 2
}
